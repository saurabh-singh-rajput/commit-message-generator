{
 "cells": [
  {
   "cell_type": "code",
   "execution_count": 2,
   "id": "8945c934-d3c8-485e-a149-136198e75b96",
   "metadata": {},
   "outputs": [],
   "source": [
    "import warnings\n",
    "warnings.filterwarnings('ignore')"
   ]
  },
  {
   "cell_type": "code",
   "execution_count": 4,
   "id": "a7ae6426-3801-4eaf-a85a-8d28920160aa",
   "metadata": {},
   "outputs": [
    {
     "name": "stdout",
     "output_type": "stream",
     "text": [
      "0.08333333333333333\n",
      "Namespace(aggregation=1, batch_size=32, best_f1=0.0, checkpoint_every=500, cuda='-1', dataset='java-small', distributed_function=0, epochs=1000, graph_size_threshold=1000, hidden_layer_size=100, log_path='logs/', lr=0.001, manualSeed=None, model_path='model', n_edge_types=7, n_hidden=50, n_steps=10, node_token_dim=50, node_type_dim=30, node_type_vocabulary_path='preprocessed_data/node_type_vocab.txt', num_hidden_layer=1, predictions_ouput='predictions/original_predictions.txt', sampling_size=1, state_dim=30, task=1, test_batch_size=5, token_vocabulary_path='preprocessed_data/ggnn/java-small/token_vocab.txt', train_batch_size=5, train_label_vocabulary_path='preprocessed_data/ggnn/java-small/train_label_vocab.txt', train_path='sample_data/java-small-graph-transformed/training', val_batch_size=10, val_label_vocabulary_path='preprocessed_data/ggnn/java-small/test_label_vocab.txt', val_path='data/java-small-graph-transformed/testing', validating=1, verbal=True, workers=2)\n",
      "Continue training with old model : model/method_name_prediction_dataset_java-small-aggregation_1-distributed_function_0-node_type_dim_30-node_token_dim_50/cnn_tree.ckpt\n",
      "Processing training data....\n",
      "saved_input_filename sample_data/java-small-graph-transformed/java-small-graph-transformed-training.pkl\n",
      "\n",
      "\n",
      "\n",
      "\n",
      "\n",
      "Loading existing data file:  sample_data/java-small-graph-transformed/java-small-graph-transformed-training.pkl\n",
      "Processing validation data....\n",
      "saved_input_filename data/java-small-graph-transformed/java-small-graph-transformed-testing.pkl\n",
      "\n",
      "\n",
      "\n",
      "\n",
      "\n",
      "Loading existing data file:  data/java-small-graph-transformed/java-small-graph-transformed-testing.pkl\n",
      "^C\n"
     ]
    }
   ],
   "source": [
    "!source test_ggnn_method_name_prediction.sh 2> /dev/null"
   ]
  },
  {
   "cell_type": "code",
   "execution_count": null,
   "id": "269ecfec-457c-4c1c-b48b-f26df8e02428",
   "metadata": {},
   "outputs": [],
   "source": []
  }
 ],
 "metadata": {
  "kernelspec": {
   "display_name": "Python 3 (ipykernel)",
   "language": "python",
   "name": "python3"
  },
  "language_info": {
   "codemirror_mode": {
    "name": "ipython",
    "version": 3
   },
   "file_extension": ".py",
   "mimetype": "text/x-python",
   "name": "python",
   "nbconvert_exporter": "python",
   "pygments_lexer": "ipython3",
   "version": "3.7.5"
  }
 },
 "nbformat": 4,
 "nbformat_minor": 5
}
