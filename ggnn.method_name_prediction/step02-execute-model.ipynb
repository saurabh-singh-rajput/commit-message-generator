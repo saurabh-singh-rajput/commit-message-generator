{
 "cells": [
  {
   "cell_type": "code",
   "execution_count": null,
   "id": "8945c934-d3c8-485e-a149-136198e75b96",
   "metadata": {},
   "outputs": [],
   "source": [
    "import warnings\n",
    "warnings.filterwarnings('ignore')\n",
    "warnings.simplefilter('ignore')\n",
    "\n",
    "import os\n",
    "os.environ['TF_CPP_MIN_LOG_LEVEL'] = '3' "
   ]
  },
  {
   "cell_type": "markdown",
   "id": "5c2c3ceb-0808-4ee0-b256-7ac9a6da166a",
   "metadata": {},
   "source": [
    "# Important!!! \n",
    "### Please restart kernel everytime before running the model execution cell as tensorflow may utilize the older runtime and throw errors."
   ]
  },
  {
   "cell_type": "code",
   "execution_count": null,
   "id": "a7ae6426-3801-4eaf-a85a-8d28920160aa",
   "metadata": {},
   "outputs": [],
   "source": [
    "DATA=\"data\"\n",
    "DATASET=\"java-small\"\n",
    "DATASET_TRANSFORMED=DATASET + \"-graph-transformed\"\n",
    "VAL_PATH=DATA + \"/\" + DATASET_TRANSFORMED + \"/testing\"\n",
    "NODE_TYPE_VOCABULARY_PATH=\"preprocessed_data/node_type_vocab.txt\"\n",
    "TOKEN_VOCABULARY_PATH=\"preprocessed_data/ggnn/\" + DATASET + \"/token_vocab.txt\"\n",
    "TRAIN_LABEL_VOCABULARY_PATH=\"preprocessed_data/ggnn/\" + DATASET + \"/train_label_vocab.txt\"\n",
    "VAL_LABEL_VOCABULARY_PATH=\"preprocessed_data/ggnn/\" + DATASET + \"/test_label_vocab.txt\"\n",
    "PREDICTIONS_OUTPUT=\"predictions/original_predictions.txt\"\n",
    "BATCH_SIZE=32\n",
    "VAL_BATCH_SIZE=10\n",
    "GRAPH_SIZE_THRESHOLD_LOWER=1500\n",
    "SAMPLING_SIZE=1\n",
    "CUDA=-1\n",
    "EPOCHS=10\n",
    "NODE_TYPE_DIM=30\n",
    "NODE_TOKEN_DIM=50\n",
    "PYTHON=\"python3\"\n",
    "HIDDEN_LAYER_SIZE=10\n",
    "LEARNING_RATE=0.0001\n",
    "TASK=1"
   ]
  },
  {
   "cell_type": "code",
   "execution_count": null,
   "id": "269ecfec-457c-4c1c-b48b-f26df8e02428",
   "metadata": {},
   "outputs": [],
   "source": [
    "%run train_ggnn_method_name_prediction.py \\\n",
    "--batch_size {BATCH_SIZE} \\\n",
    "--dataset {DATASET} \\\n",
    "--val_batch_size {VAL_BATCH_SIZE} --sampling_size {SAMPLING_SIZE} --cuda {CUDA} --node_type_dim {NODE_TYPE_DIM} \\\n",
    "--node_token_dim {NODE_TOKEN_DIM} \\\n",
    "--node_type_dim {NODE_TYPE_DIM} --node_token_dim {NODE_TOKEN_DIM} \\\n",
    "--node_type_vocabulary_path {NODE_TYPE_VOCABULARY_PATH} \\\n",
    "--token_vocabulary_path {TOKEN_VOCABULARY_PATH} \\\n",
    "--train_label_vocabulary_path {TRAIN_LABEL_VOCABULARY_PATH} \\\n",
    "--val_label_vocabulary_path {VAL_LABEL_VOCABULARY_PATH} \\\n",
    "--task {TASK} \\\n",
    "--epochs {EPOCHS} \\\n",
    "--hidden_layer_size {HIDDEN_LAYER_SIZE} \\\n",
    "--lr {LEARNING_RATE} \\\n",
    "--predictions_ouput {PREDICTIONS_OUTPUT}"
   ]
  },
  {
   "cell_type": "code",
   "execution_count": null,
   "id": "5190a865-9288-4dfb-bf6e-c6e1349ad439",
   "metadata": {},
   "outputs": [],
   "source": []
  }
 ],
 "metadata": {
  "kernelspec": {
   "display_name": "Python 3 (ipykernel)",
   "language": "python",
   "name": "python3"
  },
  "language_info": {
   "codemirror_mode": {
    "name": "ipython",
    "version": 3
   },
   "file_extension": ".py",
   "mimetype": "text/x-python",
   "name": "python",
   "nbconvert_exporter": "python",
   "pygments_lexer": "ipython3",
   "version": "3.7.5"
  }
 },
 "nbformat": 4,
 "nbformat_minor": 5
}
