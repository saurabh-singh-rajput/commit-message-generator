{
 "cells": [
  {
   "cell_type": "code",
   "execution_count": null,
   "id": "36dbbe54-0fe7-4a6b-a40d-abf6f444c9b9",
   "metadata": {},
   "outputs": [],
   "source": [
    "import urllib.request\n",
    "import zipfile\n",
    "from tqdm import tqdm\n",
    "import os\n",
    "\n",
    "DATA_PATH = \"data\"\n",
    "\n",
    "# Creates a folder and downloads the data in the respective folder\n",
    "def create_folder(newpath):\n",
    "    if not os.path.exists(newpath):\n",
    "        os.makedirs(newpath)\n",
    "\n",
    "# Execute create folder\n",
    "create_folder(DATA_PATH)\n",
    "\n",
    "# Progress bar to show download progress\n",
    "class DownloadProgressBar(tqdm):\n",
    "    def update_to(self, b=1, bsize=1, tsize=None):\n",
    "        if tsize is not None:\n",
    "            self.total = tsize\n",
    "        self.update(b * bsize - self.n)\n",
    "\n",
    "# Download the source data zip file\n",
    "def download_url(url, output_path):\n",
    "    with DownloadProgressBar(unit='B', unit_scale=True,\n",
    "                             miniters=1, desc=url.split('/')[-1]) as t:\n",
    "        urllib.request.urlretrieve(url, filename=output_path, reporthook=t.update_to)\\\n",
    "\n",
    "        \n",
    "# Provide the Java Small Dataset\n",
    "java_small_test_files_url = \"https://nghimodel.s3-ap-southeast-1.amazonaws.com/java-small-graph-testing.zip\"\n",
    "java_small_test_files_zip = DATA_PATH + \"/java-small-graph-testing.zip\"\n",
    "\n",
    "# Execute download \n",
    "download_url(java_small_test_files_url, java_small_test_files_zip)\n",
    "\n",
    "# Extract path for download\n",
    "extracted_java_small_files_path = DATA_PATH + \"/java-small-graph-transformed\"\n",
    "\n",
    "# Extract the zip file.\n",
    "with zipfile.ZipFile(java_small_test_files_zip) as zf:\n",
    "    for member in tqdm(zf.infolist(), desc='Extracting '):\n",
    "        try:\n",
    "            zf.extract(member, extracted_java_small_files_path)\n",
    "        except zipfile.error as e:\n",
    "            pass"
   ]
  }
 ],
 "metadata": {
  "kernelspec": {
   "display_name": "Python 3 (ipykernel)",
   "language": "python",
   "name": "python3"
  },
  "language_info": {
   "codemirror_mode": {
    "name": "ipython",
    "version": 3
   },
   "file_extension": ".py",
   "mimetype": "text/x-python",
   "name": "python",
   "nbconvert_exporter": "python",
   "pygments_lexer": "ipython3",
   "version": "3.7.5"
  }
 },
 "nbformat": 4,
 "nbformat_minor": 5
}
