{
 "cells": [
  {
   "cell_type": "markdown",
   "metadata": {},
   "source": [
    "### Identify the repositories to download\n",
    "Use GitHub search (https://seart-ghs.si.usi.ch/)\n",
    "- Min 5000 commits\n",
    "- Min 1 issue\n",
    "- Min 2 contributors\n",
    "- Min 1 PR\n",
    "- Min 2000 stars\n",
    "- Min 10 forks\n",
    "- Java programming language\n",
    "- Last commit at after 1 month ago\n",
    "It resulted in 31 repositories.\n"
   ]
  },
  {
   "cell_type": "code",
   "execution_count": 10,
   "metadata": {},
   "outputs": [
    {
     "name": "stdout",
     "output_type": "stream",
     "text": [
      "['name,isFork,commits,branches,defaultBranch,releases,contributors,license,watchers,stargazers,forks,size,createdAt,pushedAt,updatedAt,homepage,mainLanguage,totalIssues,openIssues,totalPullRequests,openPullRequests,lastCommit,lastCommitSHA,hasWiki,isArchived\\n', 'atmosphere/atmosphere,FALSE,6076,19,atmosphere-2.7.x,0,113,,242,3599,760,112605,2010-06-30T02:26:23,2022-11-14T12:28:50,2022-11-17T06:34:05,http://async-io.org/,Java,2112,43,370,1,2022-11-14T12:28:50,4228070f3f7304c88549469db0f16ddead98be02,TRUE,FALSE']\n"
     ]
    }
   ],
   "source": [
    "with open(\"data/repos.csv\") as repo_file:\n",
    "    head = [next(repo_file) for x in range(2)]\n",
    "print(head)"
   ]
  },
  {
   "cell_type": "code",
   "execution_count": 11,
   "metadata": {},
   "outputs": [
    {
     "name": "stdout",
     "output_type": "stream",
     "text": [
      "cloning... https://github.com/atmosphere/atmosphere.git\n"
     ]
    },
    {
     "name": "stderr",
     "output_type": "stream",
     "text": [
      "Cloning into 'data/repos/atmosphere_atmosphere'...\n"
     ]
    },
    {
     "name": "stdout",
     "output_type": "stream",
     "text": [
      "cloning done.\n"
     ]
    }
   ],
   "source": [
    "import download\n",
    "import csv\n",
    "\n",
    "with open(\"data/repos.csv\") as repo_file:\n",
    "    reader = csv.reader(repo_file, delimiter=',')\n",
    "    next(reader)\n",
    "    for line in reader:\n",
    "        download.download_repo(line[0], 'data/repos')"
   ]
  },
  {
   "cell_type": "code",
   "execution_count": null,
   "metadata": {},
   "outputs": [],
   "source": []
  }
 ],
 "metadata": {
  "kernelspec": {
   "display_name": "Python 3 (ipykernel)",
   "language": "python",
   "name": "python3"
  },
  "language_info": {
   "codemirror_mode": {
    "name": "ipython",
    "version": 3
   },
   "file_extension": ".py",
   "mimetype": "text/x-python",
   "name": "python",
   "nbconvert_exporter": "python",
   "pygments_lexer": "ipython3",
   "version": "3.11.0"
  }
 },
 "nbformat": 4,
 "nbformat_minor": 4
}
