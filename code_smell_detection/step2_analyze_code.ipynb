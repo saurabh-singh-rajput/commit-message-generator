{
 "cells": [
  {
   "cell_type": "markdown",
   "metadata": {},
   "source": [
    "### Analyze code to detect code smells\n",
    "Ideally, code smells need to be tagged manually to create a proper dataset.\n",
    "However, a shortcut is to use existing tools to come up with a training dataset.\n",
    "We will first use an existing tool DesigniteJava to detect smells and compute metrics.\n",
    "Then, we will use the metrics as features and tool detected smells to prepare our dataset."
   ]
  },
  {
   "cell_type": "code",
   "execution_count": 8,
   "metadata": {
    "collapsed": false,
    "jupyter": {
     "outputs_hidden": false
    }
   },
   "outputs": [
    {
     "name": "stdout",
     "output_type": "stream",
     "text": [
      "Analyzing data/repos/atmosphere_atmosphere ...\n",
      "Attempting compilation...\n",
      "Found pom.xml\n"
     ]
    },
    {
     "name": "stderr",
     "output_type": "stream",
     "text": [
      "The JAVA_HOME environment variable is not defined correctly,\n",
      "this environment variable is needed to run this program.\n"
     ]
    },
    {
     "name": "stdout",
     "output_type": "stream",
     "text": [
      "Analyzing ...\n",
      "Searching classpath folders ...\n",
      "Could not find any classpath folder.\n",
      "DesigniteJava Enterprise. Version 2.3.0\n",
      "Copyright (C) 2023 Designite. All rights reserved.\n",
      "Parsing the source code ...\n",
      "Resolving symbols...\n",
      "Computing metrics...\n",
      "Detecting code smells...\n",
      "Error - License validation unsuccessful. Status code: 406\n",
      "Exporting analysis results...\n",
      "--Analysis summary--\n",
      "\tTotal LOC analyzed: 42252\tNumber of packages: 28\n",
      "\tNumber of classes: 587\tNumber of methods: 3696\n",
      "-Total architecture smell instances detected-\n",
      "\tCyclic dependency: 27\tGod component: 6\n",
      "\tAmbiguous interface: 0 \tFeature concentration: 14\n",
      "\tUnstable dependency: 4\tScattered functionality: 0\n",
      "\tDense structure: 0\n",
      "-Total design smell instances detected-\n",
      "\tImperative abstraction: 2\tMultifaceted abstraction: 0\n",
      "\tUnnecessary abstraction: 191\tUnutilized abstraction: 355\n",
      "\tFeature envy: 20\tDeficient encapsulation: 55\n",
      "\tUnexploited encapsulation: 1\tBroken modularization: 15\n",
      "\tCyclically-dependent modularization: 6\tHub-like modularization: 1\n",
      "\tInsufficient modularization: 39\tBroken hierarchy: 11\n",
      "\tCyclic hierarchy: 2\tDeep hierarchy: 0\n",
      "\tMissing hierarchy: 1\tMultipath hierarchy: 0\n",
      "\tRebellious hierarchy: 0\tWide hierarchy: 2\n",
      "-Total testability smell instances detected-\n",
      "\tHard-wired dependency: 0\tGlobal state: 150\n",
      "\tExcessive dependency: 72\tLaw of Demeter violation: 1\n",
      "-Total implementation smell instances detected-\n",
      "\tAbstract function call from constructor: 0\tComplex conditional: 76\n",
      "\tComplex method: 103\tEmpty catch clause: 38\n",
      "\tLong identifier: 14\tLong method: 6\n",
      "\tLong parameter list: 36\tLong statement: 396\n",
      "\tMagic number: 322\tMissing default: 16\n",
      "-Total test smell instances detected-\n",
      "\tAssertion roulette: 106\tMissing assertion: 37\n",
      "\tEmpty test: 0\tIgnored test: 0\n",
      "\tConstructor initialization: 0\tEager test: 0\n",
      "\tExceptional handling: 5\tConditional test logic: 1\n",
      "----\n",
      "Done.\n",
      "done analyzing.\n",
      "Analyzing data/repos/.ipynb_checkpoints ...\n",
      "Attempting compilation...\n",
      "Did not compile\n",
      "Analyzing ...\n",
      "Searching classpath folders ...\n",
      "Could not find any classpath folder.\n",
      "DesigniteJava Enterprise. Version 2.3.0\n",
      "Copyright (C) 2023 Designite. All rights reserved.\n",
      "Parsing the source code ...\n",
      "Resolving symbols...\n",
      "Computing metrics...\n",
      "Detecting code smells...\n",
      "Error - License validation unsuccessful. Status code: 406\n",
      "Exporting analysis results...\n",
      "--Analysis summary--\n",
      "\tTotal LOC analyzed: 0\tNumber of packages: 0\n",
      "\tNumber of classes: 0\tNumber of methods: 0\n",
      "-Total architecture smell instances detected-\n",
      "\tCyclic dependency: 0\tGod component: 0\n",
      "\tAmbiguous interface: 0 \tFeature concentration: 0\n",
      "\tUnstable dependency: 0\tScattered functionality: 0\n",
      "\tDense structure: 0\n",
      "-Total design smell instances detected-\n",
      "\tImperative abstraction: 0\tMultifaceted abstraction: 0\n",
      "\tUnnecessary abstraction: 0\tUnutilized abstraction: 0\n",
      "\tFeature envy: 0\tDeficient encapsulation: 0\n",
      "\tUnexploited encapsulation: 0\tBroken modularization: 0\n",
      "\tCyclically-dependent modularization: 0\tHub-like modularization: 0\n",
      "\tInsufficient modularization: 0\tBroken hierarchy: 0\n",
      "\tCyclic hierarchy: 0\tDeep hierarchy: 0\n",
      "\tMissing hierarchy: 0\tMultipath hierarchy: 0\n",
      "\tRebellious hierarchy: 0\tWide hierarchy: 0\n",
      "-Total testability smell instances detected-\n",
      "\tHard-wired dependency: 0\tGlobal state: 0\n",
      "\tExcessive dependency: 0\tLaw of Demeter violation: 0\n",
      "-Total implementation smell instances detected-\n",
      "\tAbstract function call from constructor: 0\tComplex conditional: 0\n",
      "\tComplex method: 0\tEmpty catch clause: 0\n",
      "\tLong identifier: 0\tLong method: 0\n",
      "\tLong parameter list: 0\tLong statement: 0\n",
      "\tMagic number: 0\tMissing default: 0\n",
      "-Total test smell instances detected-\n",
      "\tAssertion roulette: 0\tMissing assertion: 0\n",
      "\tEmpty test: 0\tIgnored test: 0\n",
      "\tConstructor initialization: 0\tEager test: 0\n",
      "\tExceptional handling: 0\tConditional test logic: 0\n",
      "----\n",
      "Done.\n",
      "done analyzing.\n"
     ]
    },
    {
     "name": "stderr",
     "output_type": "stream",
     "text": [
      "Exception in thread \"main\" java.lang.OutOfMemoryError: Java heap space\n"
     ]
    }
   ],
   "source": [
    "import os\n",
    "import analyze_code\n",
    "\n",
    "for folder in os.listdir('data/repos'):\n",
    "    folder_path = os.path.join('data/repos', folder)\n",
    "    result_path = os.path.join('data/analyzed_repos', folder)\n",
    "    if os.path.isdir(folder_path):\n",
    "        analyze_code.analyze_repo(folder_path, result_path, os.path.abspath('apps/DJ/DesigniteJava.jar'))"
   ]
  },
  {
   "cell_type": "code",
   "execution_count": 5,
   "metadata": {
    "collapsed": false,
    "jupyter": {
     "outputs_hidden": false
    }
   },
   "outputs": [],
   "source": [
    "import os"
   ]
  },
  {
   "cell_type": "code",
   "execution_count": 6,
   "metadata": {},
   "outputs": [],
   "source": [
    "os.environ[\"JAVA_HOME\"] = \"/usr/libexec/java_home\""
   ]
  },
  {
   "cell_type": "code",
   "execution_count": null,
   "metadata": {},
   "outputs": [],
   "source": []
  }
 ],
 "metadata": {
  "kernelspec": {
   "display_name": "Python 3 (ipykernel)",
   "language": "python",
   "name": "python3"
  },
  "language_info": {
   "codemirror_mode": {
    "name": "ipython",
    "version": 3
   },
   "file_extension": ".py",
   "mimetype": "text/x-python",
   "name": "python",
   "nbconvert_exporter": "python",
   "pygments_lexer": "ipython3",
   "version": "3.11.0"
  }
 },
 "nbformat": 4,
 "nbformat_minor": 4
}
