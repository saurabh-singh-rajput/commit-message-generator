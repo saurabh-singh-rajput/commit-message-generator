{
 "cells": [
  {
   "cell_type": "markdown",
   "source": [
    "### Analyze code using CodeSplitJava\n",
    "CodeSplitJava splits Java projects and saves individual classes and methods into separate files. Find the open-source project [here](https://github.com/tushartushar/CodeSplitJava)\n",
    "The utlity supports two modes `method` and `class`."
   ],
   "metadata": {
    "collapsed": false
   }
  },
  {
   "cell_type": "code",
   "execution_count": 1,
   "outputs": [],
   "source": [
    "import os\n",
    "import subprocess\n",
    "\n",
    "def _run_code_split(folder_name, folder_path, code_split_result_folder, code_split_exe_path, code_split_mode):\n",
    "    out_folder = os.path.join(code_split_result_folder, folder_name)\n",
    "    if not os.path.exists(out_folder):\n",
    "        os.makedirs(out_folder)\n",
    "    subprocess.call([\"java\", \"-jar\", code_split_exe_path,\n",
    "                     \"-i\", folder_path, \"-o\", out_folder, \"-m\", code_split_mode])\n",
    "\n",
    "def java_code_split(repo_source_folder, code_split_mode, code_split_result_folder, code_split_exe_path):\n",
    "    assert code_split_mode == \"method\" or code_split_mode == \"class\"\n",
    "\n",
    "    for folder in os.listdir(repo_source_folder):\n",
    "        print(\"Processing \" + folder)\n",
    "        if os.path.exists(os.path.join(code_split_result_folder, folder)):\n",
    "            print (\"\\t.. skipping.\")\n",
    "        else:\n",
    "            _run_code_split(folder, os.path.join(repo_source_folder, folder),\n",
    "                            code_split_result_folder, code_split_exe_path, code_split_mode)\n",
    "    print(\"Done.\")"
   ],
   "metadata": {
    "collapsed": false
   }
  },
  {
   "cell_type": "code",
   "execution_count": 2,
   "outputs": [],
   "source": [
    "codesplit_folder = 'data/codesplit_class'\n",
    "if not os.path.exists(codesplit_folder):\n",
    "    os.mkdir(codesplit_folder)"
   ],
   "metadata": {
    "collapsed": false
   }
  },
  {
   "cell_type": "code",
   "execution_count": 3,
   "outputs": [
    {
     "name": "stdout",
     "output_type": "stream",
     "text": [
      "Processing buchen_portfolio\n",
      "Parsing the source code ...\n",
      "Resolving symbols...\n",
      "Done.\n",
      "Processing reactivex_rxjava\n",
      "Parsing the source code ...\n",
      "Resolving symbols...\n",
      "Done.\n",
      "Processing raphw_byte-buddy\n",
      "Parsing the source code ...\n",
      "Resolving symbols...\n",
      "Done.\n",
      "Processing minecraftforge_minecraftforge\n",
      "Parsing the source code ...\n",
      "Resolving symbols...\n",
      "Done.\n",
      "Processing traccar_traccar\n",
      "Parsing the source code ...\n",
      "Resolving symbols...\n",
      "Done.\n",
      "Processing apache_jmeter\n",
      "Parsing the source code ...\n",
      "Resolving symbols...\n",
      "Done.\n",
      "Processing libgdx_libgdx\n",
      "Parsing the source code ...\n",
      "Resolving symbols...\n",
      "Done.\n",
      "Processing spring-projects_spring-batch\n",
      "Parsing the source code ...\n",
      "Resolving symbols...\n",
      "Done.\n",
      "Processing redisson_redisson\n",
      "Parsing the source code ...\n",
      "Resolving symbols...\n",
      "Done.\n",
      "Processing thymeleaf_thymeleaf\n",
      "Parsing the source code ...\n",
      "Resolving symbols...\n",
      "Done.\n",
      "Processing antlr_antlr4\n",
      "Parsing the source code ...\n",
      "Resolving symbols...\n",
      "Done.\n",
      "Processing google_j2objc\n",
      "Parsing the source code ...\n",
      "Resolving symbols...\n",
      "Done.\n",
      "Processing mockito_mockito\n",
      "Parsing the source code ...\n",
      "Resolving symbols...\n",
      "Done.\n",
      "Processing movingblocks_terasology\n",
      "Parsing the source code ...\n",
      "Resolving symbols...\n",
      "Done.\n",
      "Processing oracle_opengrok\n",
      "Parsing the source code ...\n",
      "Resolving symbols...\n",
      "Done.\n",
      "Processing alibaba_druid\n",
      "Parsing the source code ...\n",
      "Resolving symbols...\n",
      "Done.\n",
      "Done.\n"
     ]
    }
   ],
   "source": [
    "java_code_split(repo_source_folder='data/repos',\n",
    "                code_split_mode='class',\n",
    "                code_split_result_folder=codesplit_folder,\n",
    "                code_split_exe_path='apps/codesplit/CodeSplitJava.jar')"
   ],
   "metadata": {
    "collapsed": false
   }
  },
  {
   "cell_type": "code",
   "execution_count": null,
   "outputs": [],
   "source": [],
   "metadata": {
    "collapsed": false
   }
  }
 ],
 "metadata": {
  "kernelspec": {
   "display_name": "Python 3",
   "language": "python",
   "name": "python3"
  },
  "language_info": {
   "codemirror_mode": {
    "name": "ipython",
    "version": 2
   },
   "file_extension": ".py",
   "mimetype": "text/x-python",
   "name": "python",
   "nbconvert_exporter": "python",
   "pygments_lexer": "ipython2",
   "version": "2.7.6"
  }
 },
 "nbformat": 4,
 "nbformat_minor": 0
}
