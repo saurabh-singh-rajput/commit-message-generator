{
 "cells": [
  {
   "cell_type": "markdown",
   "metadata": {},
   "source": [
    "### Create dataset\n",
    "The tool has analyzed the selected repositories. Now, we need to identify which class has a certain smell (in our case, we are considering 'multifaceted abstraction' and 'insufficient modularization'). Also, we need to collect the features (code quality metrics in this case) against each class."
   ]
  },
  {
   "cell_type": "code",
   "execution_count": 6,
   "metadata": {
    "collapsed": false,
    "jupyter": {
     "outputs_hidden": false
    }
   },
   "outputs": [
    {
     "name": "stdout",
     "output_type": "stream",
     "text": [
      "creating dataset from data/analyzed_repos/atmosphere_atmosphere ...\n",
      "creating dataset from data/analyzed_repos/.ipynb_checkpoints ...\n",
      "done.\n"
     ]
    }
   ],
   "source": [
    "import analyze_code\n",
    "import os\n",
    "\n",
    "out_file = 'data/smell_dataset.csv'\n",
    "\n",
    "with open(out_file, \"w\") as file:\n",
    "    file.write(\"Project Name,Package Name,Type Name,NOF,NOPF,NOM,NOPM,LOC,WMC,NC,DIT,LCOM,FANIN,FANOUT,Smell\\n\")\n",
    "    \n",
    "for folder in os.listdir('data/analyzed_repos'):\n",
    "    folder_path = os.path.join('data/analyzed_repos', folder)\n",
    "    print(f'creating dataset from {folder_path} ...')\n",
    "    type_dict = analyze_code.get_type_dict(folder_path)\n",
    "    # smell_dict = analyze_code.get_smell_dict(folder_path, 'Multifaceted Abstraction')\n",
    "    smell_dict = analyze_code.get_smell_dict(folder_path, 'Insufficient Modularization')\n",
    "    analyze_code.create_dataset(type_dict, smell_dict, out_file)\n",
    "print('done.')"
   ]
  },
  {
   "cell_type": "code",
   "execution_count": null,
   "metadata": {
    "collapsed": false,
    "jupyter": {
     "outputs_hidden": false
    }
   },
   "outputs": [],
   "source": []
  }
 ],
 "metadata": {
  "kernelspec": {
   "display_name": "Python 3 (ipykernel)",
   "language": "python",
   "name": "python3"
  },
  "language_info": {
   "codemirror_mode": {
    "name": "ipython",
    "version": 3
   },
   "file_extension": ".py",
   "mimetype": "text/x-python",
   "name": "python",
   "nbconvert_exporter": "python",
   "pygments_lexer": "ipython3",
   "version": "3.11.0"
  }
 },
 "nbformat": 4,
 "nbformat_minor": 4
}
