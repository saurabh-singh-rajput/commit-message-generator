{
 "cells": [
  {
   "cell_type": "markdown",
   "id": "4f334879-0ad3-4936-8565-e70f73c90056",
   "metadata": {},
   "source": [
    "# 1. Instructions"
   ]
  },
  {
   "cell_type": "markdown",
   "id": "7337c905-783a-4a21-8789-65a0a0437e3a",
   "metadata": {},
   "source": [
    "1. 1-income-prediction notebook has the model that was trained and saved using the adult.csv data\n",
    "2. We are saving the model using pickle format\n",
    "3. We will be creating a simple index.html template to get user data\n",
    "4. In the flask server, we will serve two endpoints one to serve the UI, the other to serve the predicted results.\n",
    "5. Map the predicted results and the default UI using the render_template method\n",
    "6. Run the python flask app using **`python app.py`**"
   ]
  },
  {
   "cell_type": "code",
   "execution_count": 1,
   "id": "7b23e86f-d580-485c-83e2-fdb008c50904",
   "metadata": {},
   "outputs": [
    {
     "name": "stdout",
     "output_type": "stream",
     "text": [
      " * Debugger is active!\r\n",
      " * Debugger PIN: 696-708-313\r\n",
      " * Running on http://127.0.0.1:8080/ (Press CTRL+C to quit)\r\n",
      "127.0.0.1 - - [09/Mar/2023 18:25:19] \"GET / HTTP/1.1\" 200 -\r\n",
      "/Users/Tushar/Dal/Teaching/4130_6314/ml4se/ml-essentials/venv/lib/python3.9/site-packages/sklearn/base.py:439: UserWarning: X does not have valid feature names, but GradientBoostingClassifier was fitted with feature names\r\n",
      "  warnings.warn(\r\n",
      "127.0.0.1 - - [09/Mar/2023 18:25:35] \"POST /predict HTTP/1.1\" 200 -\r\n",
      "^C\r\n"
     ]
    }
   ],
   "source": [
    "# Run the python application\n",
    "!python app.py"
   ]
  },
  {
   "cell_type": "code",
   "execution_count": null,
   "id": "db90adb3-9489-41d4-b954-eca91fc8aaf6",
   "metadata": {},
   "outputs": [],
   "source": []
  }
 ],
 "metadata": {
  "kernelspec": {
   "display_name": "Python 3 (ipykernel)",
   "language": "python",
   "name": "python3"
  },
  "language_info": {
   "codemirror_mode": {
    "name": "ipython",
    "version": 3
   },
   "file_extension": ".py",
   "mimetype": "text/x-python",
   "name": "python",
   "nbconvert_exporter": "python",
   "pygments_lexer": "ipython3",
   "version": "3.7.5"
  }
 },
 "nbformat": 4,
 "nbformat_minor": 5
}
