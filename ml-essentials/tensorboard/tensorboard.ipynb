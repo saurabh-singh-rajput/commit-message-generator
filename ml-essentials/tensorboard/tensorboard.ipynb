{
 "nbformat": 4,
 "nbformat_minor": 0,
 "metadata": {
  "colab": {
   "provenance": []
  },
  "kernelspec": {
   "name": "python3",
   "display_name": "Python 3"
  },
  "language_info": {
   "name": "python"
  }
 },
 "cells": [
  {
   "cell_type": "markdown",
   "metadata": {
    "id": "yjBn-ptXTppA"
   },
   "source": [
    "# Tensorboard demo\n",
    "\n",
    "### Setup and imports\n",
    "\n",
    "This notebook uses TensorBoard features which are only available for versions >= `2.3.0`."
   ]
  },
  {
   "cell_type": "code",
   "execution_count": null,
   "metadata": {
    "id": "L3ns52Luracm",
    "pycharm": {
     "is_executing": true
    }
   },
   "outputs": [],
   "source": [
    "import tensorflow as tf\n",
    "import datetime"
   ]
  },
  {
   "cell_type": "markdown",
   "metadata": {
    "id": "GqUABmUTT1Cl"
   },
   "source": [
    "### Train a simple model and create TensorBoard logs\n",
    "If you face `SSL: CERTIFICATE_VERIFY_FAILED` error while downloading the dataset, then browse to Applications/Python 3.x folder and execute `Install Certificates.command`"
   ]
  },
  {
   "cell_type": "code",
   "execution_count": null,
   "metadata": {
    "id": "LZExSr2Qrc5S",
    "colab": {
     "base_uri": "https://localhost:8080/"
    },
    "outputId": "458cd509-21dc-45b0-e4cb-71b5ea2e1fd7"
   },
   "outputs": [],
   "source": [
    "mnist = tf.keras.datasets.mnist\n",
    "\n",
    "(x_train, y_train),(x_test, y_test) = mnist.load_data()\n",
    "x_train, x_test = x_train / 255.0, x_test / 255.0\n",
    "\n",
    "def create_model():\n",
    "  return tf.keras.models.Sequential([\n",
    "    tf.keras.layers.Flatten(input_shape=(28, 28)),\n",
    "    tf.keras.layers.Dense(512, activation='relu'),\n",
    "    tf.keras.layers.Dropout(0.2),\n",
    "    tf.keras.layers.Dense(10, activation='softmax')\n",
    "  ])"
   ]
  },
  {
   "cell_type": "markdown",
   "metadata": {
    "id": "FSv4C0dBrmAx"
   },
   "source": [
    "TensorBoard logs are created during training by passing the [TensorBoard](https://www.tensorflow.org/tensorboard/get_started) to Keras' Model.fit(). These logs can then be rendered locally or uploaded to TensorBoard.dev.\n"
   ]
  },
  {
   "cell_type": "code",
   "execution_count": null,
   "metadata": {
    "id": "dsVjm5CrUtXm",
    "colab": {
     "base_uri": "https://localhost:8080/"
    },
    "outputId": "d1f87da4-d49f-460d-e154-6b45405529a2"
   },
   "outputs": [],
   "source": [
    "model = create_model()\n",
    "model.compile(\n",
    "    optimizer='adam',\n",
    "    loss='sparse_categorical_crossentropy',\n",
    "    metrics=['accuracy'])\n",
    "\n",
    "log_dir=\"logs/fit/\" + datetime.datetime.now().strftime(\"%Y%m%d-%H%M%S\")\n",
    "tensorboard_callback = tf.keras.callbacks.TensorBoard(\n",
    "    log_dir=log_dir, histogram_freq=1)\n",
    "\n",
    "model.fit(\n",
    "    x=x_train, \n",
    "    y=y_train, \n",
    "    epochs=5, \n",
    "    validation_data=(x_test, y_test), \n",
    "    callbacks=[tensorboard_callback])"
   ]
  },
  {
   "cell_type": "markdown",
   "metadata": {
    "id": "TgF35qdzIC3T"
   },
   "source": [
    "### Run Tensorboard locally\n",
    "- Run command `tensorboard --logdir logs/fit` (ensure that you are in your project folder)\n",
    "- Open Tensorboard local site typically at `http://localhost:6006/`"
   ]
  },
  {
   "cell_type": "markdown",
   "source": [
    "### Use TensorBoard.dev\n",
    "#### Authorize TensorBoard.dev (Jupyter only)\n",
    "**This step is not necessary in Colab**\n",
    "\n",
    "This step requires you to auth in your shell console, outside of Jupyter.  In your console, execute the following command.\n",
    "\n",
    "`tensorboard dev list`\n",
    "\n",
    "As part of this flow, you will be provided with an authorization code. This code is required to consent to the Terms of Service."
   ],
   "metadata": {
    "collapsed": false
   }
  },
  {
   "cell_type": "markdown",
   "metadata": {
    "id": "oKW8V5chyx6e"
   },
   "source": [
    "### Upload to TensorBoard.dev\n",
    "\n",
    "Uploading the TensorBoard logs will give you a URL that can be shared with anyone.\n",
    "\n",
    "Uploaded TensorBoards are public, so do not upload sensitive data.\n",
    "\n",
    "The uploader will exit when the entire logdir has uploaded.  (This is what the `--one_shot` flag specifies.)"
   ]
  },
  {
   "cell_type": "code",
   "execution_count": null,
   "metadata": {
    "id": "n2PvxhOkW7vn",
    "colab": {
     "base_uri": "https://localhost:8080/"
    },
    "outputId": "8496b41e-8819-4e32-87a8-ac1d83b46552"
   },
   "outputs": [],
   "source": [
    "!tensorboard dev upload --logdir ./logs \\\n",
    "  --name \"Simple experiment with MNIST\" \\\n",
    "  --description \"Training results from https://colab.sandbox.google.com/github/tensorflow/tensorboard/blob/master/docs/tbdev_getting_started.ipynb\" \\\n",
    "  --one_shot"
   ]
  },
  {
   "cell_type": "code",
   "execution_count": null,
   "outputs": [],
   "source": [],
   "metadata": {
    "collapsed": false
   }
  }
 ]
}
