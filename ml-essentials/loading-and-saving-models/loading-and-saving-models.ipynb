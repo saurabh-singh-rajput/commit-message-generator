{
 "nbformat": 4,
 "nbformat_minor": 0,
 "metadata": {
  "colab": {
   "provenance": [],
   "collapsed_sections": [
    "g0ZtcMq3cu-0",
    "ZfupsevzcOdT",
    "2UB1SI7kdE8t",
    "nafONHpzdTzJ"
   ]
  },
  "kernelspec": {
   "name": "python3",
   "display_name": "Python 3"
  },
  "language_info": {
   "name": "python"
  }
 },
 "cells": [
  {
   "cell_type": "markdown",
   "source": [
    "# Saving and loading models\n",
    "\n",
    "## Saving the model during development using checkpoints\n",
    "\n",
    "[Source of the below script](https://www.tensorflow.org/tutorials/keras/save_and_load)"
   ],
   "metadata": {
    "id": "g0ZtcMq3cu-0"
   }
  },
  {
   "cell_type": "code",
   "execution_count": 2,
   "metadata": {
    "colab": {
     "base_uri": "https://localhost:8080/"
    },
    "id": "sgbF0no1bd5v",
    "outputId": "1b60b0ef-c4ac-45d6-e254-45fa916c7991"
   },
   "outputs": [
    {
     "name": "stdout",
     "output_type": "stream",
     "text": [
      "Requirement already satisfied: pyyaml in /Users/Tushar/Dal/Teaching/4130_6314/ml4se/ml-essentials/venv/lib/python3.9/site-packages (6.0)\r\n",
      "Requirement already satisfied: h5py in /Users/Tushar/Dal/Teaching/4130_6314/ml4se/ml-essentials/venv/lib/python3.9/site-packages (3.8.0)\r\n",
      "Requirement already satisfied: numpy>=1.14.5 in /Users/Tushar/Dal/Teaching/4130_6314/ml4se/ml-essentials/venv/lib/python3.9/site-packages (from h5py) (1.24.2)\r\n",
      "\r\n",
      "\u001B[1m[\u001B[0m\u001B[34;49mnotice\u001B[0m\u001B[1;39;49m]\u001B[0m\u001B[39;49m A new release of pip available: \u001B[0m\u001B[31;49m22.3.1\u001B[0m\u001B[39;49m -> \u001B[0m\u001B[32;49m23.0.1\u001B[0m\r\n",
      "\u001B[1m[\u001B[0m\u001B[34;49mnotice\u001B[0m\u001B[1;39;49m]\u001B[0m\u001B[39;49m To update, run: \u001B[0m\u001B[32;49mpython -m pip install --upgrade pip\u001B[0m\r\n"
     ]
    }
   ],
   "source": [
    "!pip install pyyaml h5py"
   ]
  },
  {
   "cell_type": "code",
   "source": [
    "import os\n",
    "\n",
    "import tensorflow as tf\n",
    "from tensorflow import keras\n",
    "\n",
    "print(tf.version.VERSION)"
   ],
   "metadata": {
    "colab": {
     "base_uri": "https://localhost:8080/"
    },
    "id": "FBCRaSSwbrJY",
    "outputId": "dbd075de-87b7-460e-fd0c-6f6ac2650531"
   },
   "execution_count": 3,
   "outputs": [
    {
     "name": "stderr",
     "output_type": "stream",
     "text": [
      "2023-03-09 17:28:02.189557: I tensorflow/core/platform/cpu_feature_guard.cc:193] This TensorFlow binary is optimized with oneAPI Deep Neural Network Library (oneDNN) to use the following CPU instructions in performance-critical operations:  SSE4.1 SSE4.2\n",
      "To enable them in other operations, rebuild TensorFlow with the appropriate compiler flags.\n"
     ]
    },
    {
     "name": "stdout",
     "output_type": "stream",
     "text": [
      "2.11.0\n"
     ]
    }
   ]
  },
  {
   "cell_type": "code",
   "source": [
    "# Create a sample dataset \n",
    "\n",
    "(train_images, train_labels), (test_images, test_labels) = tf.keras.datasets.mnist.load_data()\n",
    "\n",
    "train_labels = train_labels[:1000]\n",
    "test_labels = test_labels[:1000]\n",
    "\n",
    "train_images = train_images[:1000].reshape(-1, 28 * 28) / 255.0\n",
    "test_images = test_images[:1000].reshape(-1, 28 * 28) / 255.0"
   ],
   "metadata": {
    "colab": {
     "base_uri": "https://localhost:8080/"
    },
    "id": "gJjA9QFtbuDV",
    "outputId": "1871e9ed-f5da-4cb1-aacb-684de094cb3b"
   },
   "execution_count": 4,
   "outputs": []
  },
  {
   "cell_type": "code",
   "source": [
    "# Define a simple model\n",
    "\n",
    "# Define a simple sequential model\n",
    "def create_model():\n",
    "  model = tf.keras.Sequential([\n",
    "    keras.layers.Dense(512, activation='relu', input_shape=(784,)),\n",
    "    keras.layers.Dropout(0.2),\n",
    "    keras.layers.Dense(10)\n",
    "  ])\n",
    "\n",
    "  model.compile(optimizer='adam',\n",
    "                loss=tf.keras.losses.SparseCategoricalCrossentropy(from_logits=True),\n",
    "                metrics=[tf.keras.metrics.SparseCategoricalAccuracy()])\n",
    "\n",
    "  return model\n",
    "\n",
    "# Create a basic model instance\n",
    "model = create_model()\n",
    "\n",
    "# Display the model's architecture\n",
    "model.summary()"
   ],
   "metadata": {
    "colab": {
     "base_uri": "https://localhost:8080/"
    },
    "id": "y4XEccYGbyj2",
    "outputId": "896688d0-1f72-46f7-e670-a8061671af09"
   },
   "execution_count": 5,
   "outputs": [
    {
     "name": "stdout",
     "output_type": "stream",
     "text": [
      "Model: \"sequential\"\n",
      "_________________________________________________________________\n",
      " Layer (type)                Output Shape              Param #   \n",
      "=================================================================\n",
      " dense (Dense)               (None, 512)               401920    \n",
      "                                                                 \n",
      " dropout (Dropout)           (None, 512)               0         \n",
      "                                                                 \n",
      " dense_1 (Dense)             (None, 10)                5130      \n",
      "                                                                 \n",
      "=================================================================\n",
      "Total params: 407,050\n",
      "Trainable params: 407,050\n",
      "Non-trainable params: 0\n",
      "_________________________________________________________________\n"
     ]
    },
    {
     "name": "stderr",
     "output_type": "stream",
     "text": [
      "2023-03-09 17:28:12.552450: I tensorflow/core/platform/cpu_feature_guard.cc:193] This TensorFlow binary is optimized with oneAPI Deep Neural Network Library (oneDNN) to use the following CPU instructions in performance-critical operations:  SSE4.1 SSE4.2\n",
      "To enable them in other operations, rebuild TensorFlow with the appropriate compiler flags.\n"
     ]
    }
   ]
  },
  {
   "cell_type": "code",
   "source": [
    "checkpoint_path = \"training_1/cp.ckpt\" # Provide the checkpoint path here\n",
    "checkpoint_dir = os.path.dirname(checkpoint_path)\n",
    "\n",
    "# Create a callback that saves the model's weights\n",
    "cp_callback = tf.keras.callbacks.ModelCheckpoint(filepath=checkpoint_path,\n",
    "                                                 save_weights_only=True,\n",
    "                                                 verbose=1)\n",
    "\n",
    "# Train the model with the new callback\n",
    "model.fit(train_images, \n",
    "          train_labels,  \n",
    "          epochs=10,\n",
    "          validation_data=(test_images, test_labels),\n",
    "          callbacks=[cp_callback])  # Pass callback to training\n",
    "\n",
    "# This may generate warnings related to saving the state of the optimizer.\n",
    "# These warnings (and similar warnings throughout this notebook)\n",
    "# are in place to discourage outdated usage, and can be ignored."
   ],
   "metadata": {
    "colab": {
     "base_uri": "https://localhost:8080/"
    },
    "id": "C4Zw7MRib3l1",
    "outputId": "b3166d0a-d260-4b5e-ebdd-3f898b35a577"
   },
   "execution_count": 6,
   "outputs": [
    {
     "name": "stdout",
     "output_type": "stream",
     "text": [
      "Epoch 1/10\n",
      "31/32 [============================>.] - ETA: 0s - loss: 1.1588 - sparse_categorical_accuracy: 0.6694\n",
      "Epoch 1: saving model to training_1/cp.ckpt\n",
      "32/32 [==============================] - 1s 10ms/step - loss: 1.1579 - sparse_categorical_accuracy: 0.6680 - val_loss: 0.7221 - val_sparse_categorical_accuracy: 0.7770\n",
      "Epoch 2/10\n",
      "29/32 [==========================>...] - ETA: 0s - loss: 0.4194 - sparse_categorical_accuracy: 0.8912\n",
      "Epoch 2: saving model to training_1/cp.ckpt\n",
      "32/32 [==============================] - 0s 6ms/step - loss: 0.4141 - sparse_categorical_accuracy: 0.8950 - val_loss: 0.5458 - val_sparse_categorical_accuracy: 0.8250\n",
      "Epoch 3/10\n",
      "32/32 [==============================] - ETA: 0s - loss: 0.2768 - sparse_categorical_accuracy: 0.9280\n",
      "Epoch 3: saving model to training_1/cp.ckpt\n",
      "32/32 [==============================] - 0s 6ms/step - loss: 0.2768 - sparse_categorical_accuracy: 0.9280 - val_loss: 0.4530 - val_sparse_categorical_accuracy: 0.8590\n",
      "Epoch 4/10\n",
      "30/32 [===========================>..] - ETA: 0s - loss: 0.2067 - sparse_categorical_accuracy: 0.9490\n",
      "Epoch 4: saving model to training_1/cp.ckpt\n",
      "32/32 [==============================] - 0s 6ms/step - loss: 0.2023 - sparse_categorical_accuracy: 0.9510 - val_loss: 0.4476 - val_sparse_categorical_accuracy: 0.8540\n",
      "Epoch 5/10\n",
      "31/32 [============================>.] - ETA: 0s - loss: 0.1517 - sparse_categorical_accuracy: 0.9627\n",
      "Epoch 5: saving model to training_1/cp.ckpt\n",
      "32/32 [==============================] - 0s 6ms/step - loss: 0.1508 - sparse_categorical_accuracy: 0.9630 - val_loss: 0.4196 - val_sparse_categorical_accuracy: 0.8570\n",
      "Epoch 6/10\n",
      "28/32 [=========================>....] - ETA: 0s - loss: 0.1117 - sparse_categorical_accuracy: 0.9810\n",
      "Epoch 6: saving model to training_1/cp.ckpt\n",
      "32/32 [==============================] - 0s 6ms/step - loss: 0.1133 - sparse_categorical_accuracy: 0.9810 - val_loss: 0.3980 - val_sparse_categorical_accuracy: 0.8630\n",
      "Epoch 7/10\n",
      "32/32 [==============================] - ETA: 0s - loss: 0.0800 - sparse_categorical_accuracy: 0.9880\n",
      "Epoch 7: saving model to training_1/cp.ckpt\n",
      "32/32 [==============================] - 0s 6ms/step - loss: 0.0800 - sparse_categorical_accuracy: 0.9880 - val_loss: 0.4006 - val_sparse_categorical_accuracy: 0.8650\n",
      "Epoch 8/10\n",
      "28/32 [=========================>....] - ETA: 0s - loss: 0.0665 - sparse_categorical_accuracy: 0.9933\n",
      "Epoch 8: saving model to training_1/cp.ckpt\n",
      "32/32 [==============================] - 0s 6ms/step - loss: 0.0644 - sparse_categorical_accuracy: 0.9940 - val_loss: 0.4129 - val_sparse_categorical_accuracy: 0.8650\n",
      "Epoch 9/10\n",
      "29/32 [==========================>...] - ETA: 0s - loss: 0.0522 - sparse_categorical_accuracy: 0.9957\n",
      "Epoch 9: saving model to training_1/cp.ckpt\n",
      "32/32 [==============================] - 0s 7ms/step - loss: 0.0514 - sparse_categorical_accuracy: 0.9960 - val_loss: 0.4037 - val_sparse_categorical_accuracy: 0.8630\n",
      "Epoch 10/10\n",
      "32/32 [==============================] - ETA: 0s - loss: 0.0396 - sparse_categorical_accuracy: 0.9970\n",
      "Epoch 10: saving model to training_1/cp.ckpt\n",
      "32/32 [==============================] - 0s 6ms/step - loss: 0.0396 - sparse_categorical_accuracy: 0.9970 - val_loss: 0.3913 - val_sparse_categorical_accuracy: 0.8730\n"
     ]
    },
    {
     "data": {
      "text/plain": "<keras.callbacks.History at 0x18b0349a0>"
     },
     "execution_count": 6,
     "metadata": {},
     "output_type": "execute_result"
    }
   ]
  },
  {
   "cell_type": "code",
   "source": [
    "os.listdir(checkpoint_dir) # To look at what files got generated"
   ],
   "metadata": {
    "colab": {
     "base_uri": "https://localhost:8080/"
    },
    "id": "EC0g5VNGcAy6",
    "outputId": "21caa88c-ee60-435a-af70-595fdd11af48"
   },
   "execution_count": 7,
   "outputs": [
    {
     "data": {
      "text/plain": "['cp.ckpt.data-00000-of-00001', 'checkpoint', 'cp.ckpt.index']"
     },
     "execution_count": 7,
     "metadata": {},
     "output_type": "execute_result"
    }
   ]
  },
  {
   "cell_type": "markdown",
   "source": [
    "## What are these files?\n",
    "---\n",
    "The above code stores the weights to a collection of checkpoint-formatted files that contain only the trained weights in a binary format. Checkpoints contain:\n",
    "\n",
    "One or more shards that contain your model's weights.\n",
    "An index file that indicates which weights are stored in which shard.\n",
    "If you are training a model on a single machine, you'll have one shard with the suffix: .data-00000-of-00001"
   ],
   "metadata": {
    "id": "Z0-chchQcmKR"
   }
  },
  {
   "cell_type": "markdown",
   "source": [
    "## Loading the model from the saved checkpoints\n"
   ],
   "metadata": {
    "id": "ZfupsevzcOdT"
   }
  },
  {
   "cell_type": "code",
   "source": [
    "# Create a basic model instance\n",
    "model = create_model()\n",
    "\n",
    "# Evaluate the model\n",
    "loss, acc = model.evaluate(test_images, test_labels, verbose=2)\n",
    "print(\"Untrained model, accuracy: {:5.2f}%\".format(100 * acc))"
   ],
   "metadata": {
    "colab": {
     "base_uri": "https://localhost:8080/"
    },
    "id": "ZV63ta-xcF2-",
    "outputId": "0149c494-20c4-4acd-a03a-0242291c449d"
   },
   "execution_count": 8,
   "outputs": [
    {
     "name": "stdout",
     "output_type": "stream",
     "text": [
      "32/32 - 0s - loss: 2.3564 - sparse_categorical_accuracy: 0.0930 - 105ms/epoch - 3ms/step\n",
      "Untrained model, accuracy:  9.30%\n"
     ]
    }
   ]
  },
  {
   "cell_type": "code",
   "source": [
    "# Callback checkpoints\n",
    "# Include the epoch in the file name (uses `str.format`)\n",
    "checkpoint_path = \"training_2/cp-{epoch:04d}.ckpt\"\n",
    "checkpoint_dir = os.path.dirname(checkpoint_path)\n",
    "\n",
    "batch_size = 32\n",
    "\n",
    "# Create a callback that saves the model's weights every 5 epochs\n",
    "cp_callback = tf.keras.callbacks.ModelCheckpoint(\n",
    "    filepath=checkpoint_path, \n",
    "    verbose=1, \n",
    "    save_weights_only=True,\n",
    "    save_freq=5*batch_size)\n",
    "\n",
    "# Create a new model instance\n",
    "model = create_model()\n",
    "\n",
    "# Save the weights using the `checkpoint_path` format\n",
    "model.save_weights(checkpoint_path.format(epoch=0))\n",
    "\n",
    "# Train the model with the new callback\n",
    "model.fit(train_images, \n",
    "          train_labels,\n",
    "          epochs=50, \n",
    "          batch_size=batch_size, \n",
    "          callbacks=[cp_callback],\n",
    "          validation_data=(test_images, test_labels),\n",
    "          verbose=0)"
   ],
   "metadata": {
    "colab": {
     "base_uri": "https://localhost:8080/"
    },
    "id": "o7yVxPTscT-v",
    "outputId": "50f6f183-8d27-4d30-9e2f-88729c9455df"
   },
   "execution_count": 9,
   "outputs": [
    {
     "name": "stdout",
     "output_type": "stream",
     "text": [
      "\n",
      "Epoch 5: saving model to training_2/cp-0005.ckpt\n",
      "\n",
      "Epoch 10: saving model to training_2/cp-0010.ckpt\n",
      "\n",
      "Epoch 15: saving model to training_2/cp-0015.ckpt\n",
      "\n",
      "Epoch 20: saving model to training_2/cp-0020.ckpt\n",
      "\n",
      "Epoch 25: saving model to training_2/cp-0025.ckpt\n",
      "\n",
      "Epoch 30: saving model to training_2/cp-0030.ckpt\n",
      "\n",
      "Epoch 35: saving model to training_2/cp-0035.ckpt\n",
      "\n",
      "Epoch 40: saving model to training_2/cp-0040.ckpt\n",
      "\n",
      "Epoch 45: saving model to training_2/cp-0045.ckpt\n",
      "\n",
      "Epoch 50: saving model to training_2/cp-0050.ckpt\n"
     ]
    },
    {
     "data": {
      "text/plain": "<keras.callbacks.History at 0x18b384940>"
     },
     "execution_count": 9,
     "metadata": {},
     "output_type": "execute_result"
    }
   ]
  },
  {
   "cell_type": "code",
   "source": [
    "# To obtain the latest checkpoint of training\n",
    "latest = tf.train.latest_checkpoint(checkpoint_dir)\n",
    "latest"
   ],
   "metadata": {
    "colab": {
     "base_uri": "https://localhost:8080/",
     "height": 35
    },
    "id": "FWD8AcVmcbR1",
    "outputId": "78b92469-0585-4758-d3b5-6684369c7036"
   },
   "execution_count": 10,
   "outputs": [
    {
     "data": {
      "text/plain": "'training_2/cp-0050.ckpt'"
     },
     "execution_count": 10,
     "metadata": {},
     "output_type": "execute_result"
    }
   ]
  },
  {
   "cell_type": "code",
   "source": [
    "# To load the model with latest checkpoint weights\n",
    "\n",
    "# Create a new model instance\n",
    "model = create_model()\n",
    "\n",
    "# Load the previously saved weights\n",
    "model.load_weights(latest)\n",
    "\n",
    "# Re-evaluate the model\n",
    "loss, acc = model.evaluate(test_images, test_labels, verbose=2)\n",
    "print(\"Restored model, accuracy: {:5.2f}%\".format(100 * acc))"
   ],
   "metadata": {
    "colab": {
     "base_uri": "https://localhost:8080/"
    },
    "id": "6xNGX7aoc6J_",
    "outputId": "242df1da-b4f8-4c32-d29c-07be2e3c20ee"
   },
   "execution_count": 11,
   "outputs": [
    {
     "name": "stdout",
     "output_type": "stream",
     "text": [
      "32/32 - 0s - loss: 0.4838 - sparse_categorical_accuracy: 0.8740 - 117ms/epoch - 4ms/step\n",
      "Restored model, accuracy: 87.40%\n"
     ]
    }
   ]
  },
  {
   "cell_type": "markdown",
   "source": [
    "## Saving Weights & Model Configuration Separately"
   ],
   "metadata": {
    "id": "2UB1SI7kdE8t"
   }
  },
  {
   "cell_type": "code",
   "source": [
    "# Save the weights\n",
    "model.save_weights('./checkpoints/my_checkpoint')\n",
    "\n",
    "# Create a new model instance\n",
    "model = create_model()\n",
    "\n",
    "# Restore the weights\n",
    "model.load_weights('./checkpoints/my_checkpoint')\n",
    "\n",
    "# Evaluate the model\n",
    "loss, acc = model.evaluate(test_images, test_labels, verbose=2)\n",
    "print(\"Restored model, accuracy: {:5.2f}%\".format(100 * acc)) "
   ],
   "metadata": {
    "colab": {
     "base_uri": "https://localhost:8080/"
    },
    "id": "oYir513MdBZv",
    "outputId": "bcdd771d-3ccf-45b7-8270-e0b0f047526e"
   },
   "execution_count": 12,
   "outputs": [
    {
     "name": "stdout",
     "output_type": "stream",
     "text": [
      "32/32 - 0s - loss: 0.4838 - sparse_categorical_accuracy: 0.8740 - 124ms/epoch - 4ms/step\n",
      "Restored model, accuracy: 87.40%\n"
     ]
    }
   ]
  },
  {
   "cell_type": "markdown",
   "source": [
    "## Saving Complete Model"
   ],
   "metadata": {
    "id": "Wr6F_gJbdDYj"
   }
  },
  {
   "cell_type": "code",
   "source": [
    "# Create and train a new model instance.\n",
    "model = create_model()\n",
    "model.fit(train_images, train_labels, epochs=5)\n",
    "\n",
    "# Save the entire model as a SavedModel.\n",
    "!mkdir -p saved_model\n",
    "model.save('saved_model/my_model')"
   ],
   "metadata": {
    "colab": {
     "base_uri": "https://localhost:8080/"
    },
    "id": "JOdziaaEc1is",
    "outputId": "8ca93cda-3e60-4e89-f12c-05e91435c767"
   },
   "execution_count": 13,
   "outputs": [
    {
     "name": "stdout",
     "output_type": "stream",
     "text": [
      "Epoch 1/5\n",
      "32/32 [==============================] - 0s 3ms/step - loss: 1.2075 - sparse_categorical_accuracy: 0.6540\n",
      "Epoch 2/5\n",
      "32/32 [==============================] - 0s 3ms/step - loss: 0.4273 - sparse_categorical_accuracy: 0.8850\n",
      "Epoch 3/5\n",
      "32/32 [==============================] - 0s 3ms/step - loss: 0.2909 - sparse_categorical_accuracy: 0.9260\n",
      "Epoch 4/5\n",
      "32/32 [==============================] - 0s 4ms/step - loss: 0.2112 - sparse_categorical_accuracy: 0.9510\n",
      "Epoch 5/5\n",
      "32/32 [==============================] - 0s 4ms/step - loss: 0.1479 - sparse_categorical_accuracy: 0.9760\n",
      "WARNING:tensorflow:Detecting that an object or model or tf.train.Checkpoint is being deleted with unrestored values. See the following logs for the specific values in question. To silence these warnings, use `status.expect_partial()`. See https://www.tensorflow.org/api_docs/python/tf/train/Checkpoint#restorefor details about the status object returned by the restore function.\n",
      "WARNING:tensorflow:Value in checkpoint could not be found in the restored object: (root).optimizer._variables.1\n",
      "WARNING:tensorflow:Value in checkpoint could not be found in the restored object: (root).optimizer._variables.2\n",
      "WARNING:tensorflow:Value in checkpoint could not be found in the restored object: (root).optimizer._variables.3\n",
      "WARNING:tensorflow:Value in checkpoint could not be found in the restored object: (root).optimizer._variables.4\n",
      "WARNING:tensorflow:Value in checkpoint could not be found in the restored object: (root).optimizer._variables.5\n",
      "WARNING:tensorflow:Value in checkpoint could not be found in the restored object: (root).optimizer._variables.6\n",
      "WARNING:tensorflow:Value in checkpoint could not be found in the restored object: (root).optimizer._variables.7\n",
      "WARNING:tensorflow:Value in checkpoint could not be found in the restored object: (root).optimizer._variables.8\n"
     ]
    },
    {
     "name": "stderr",
     "output_type": "stream",
     "text": [
      "WARNING:absl:Found untraced functions such as _update_step_xla while saving (showing 1 of 1). These functions will not be directly callable after loading.\n"
     ]
    },
    {
     "name": "stdout",
     "output_type": "stream",
     "text": [
      "INFO:tensorflow:Assets written to: saved_model/my_model/assets\n"
     ]
    },
    {
     "name": "stderr",
     "output_type": "stream",
     "text": [
      "INFO:tensorflow:Assets written to: saved_model/my_model/assets\n"
     ]
    }
   ]
  },
  {
   "cell_type": "code",
   "source": [
    "# Loading from the saved model\n",
    "new_model = tf.keras.models.load_model('saved_model/my_model')\n",
    "\n",
    "# Check its architecture\n",
    "new_model.summary()"
   ],
   "metadata": {
    "colab": {
     "base_uri": "https://localhost:8080/"
    },
    "id": "4d1xOyxGdGHB",
    "outputId": "9ee30a86-fc42-4828-a2ba-219ec28aaf87"
   },
   "execution_count": 14,
   "outputs": [
    {
     "name": "stdout",
     "output_type": "stream",
     "text": [
      "Model: \"sequential_5\"\n",
      "_________________________________________________________________\n",
      " Layer (type)                Output Shape              Param #   \n",
      "=================================================================\n",
      " dense_10 (Dense)            (None, 512)               401920    \n",
      "                                                                 \n",
      " dropout_5 (Dropout)         (None, 512)               0         \n",
      "                                                                 \n",
      " dense_11 (Dense)            (None, 10)                5130      \n",
      "                                                                 \n",
      "=================================================================\n",
      "Total params: 407,050\n",
      "Trainable params: 407,050\n",
      "Non-trainable params: 0\n",
      "_________________________________________________________________\n"
     ]
    }
   ]
  },
  {
   "cell_type": "markdown",
   "source": [
    "## Saving & Loading model in HDF5 Format"
   ],
   "metadata": {
    "id": "nafONHpzdTzJ"
   }
  },
  {
   "cell_type": "code",
   "source": [
    "# Create and train a new model instance.\n",
    "model = create_model()\n",
    "model.fit(train_images, train_labels, epochs=5)\n",
    "\n",
    "# Save the entire model to a HDF5 file.\n",
    "# The '.h5' extension indicates that the model should be saved to HDF5.\n",
    "model.save('my_model.h5')\n",
    "\n",
    "# Recreate the exact same model, including its weights and the optimizer\n",
    "new_model = tf.keras.models.load_model('my_model.h5')\n",
    "\n",
    "# Show the model architecture\n",
    "new_model.summary()"
   ],
   "metadata": {
    "colab": {
     "base_uri": "https://localhost:8080/"
    },
    "id": "jZmFNqUndK1q",
    "outputId": "de556ae6-5771-45d1-fe81-6de44aa05b3c"
   },
   "execution_count": 15,
   "outputs": [
    {
     "name": "stdout",
     "output_type": "stream",
     "text": [
      "Epoch 1/5\n",
      "32/32 [==============================] - 0s 3ms/step - loss: 1.1457 - sparse_categorical_accuracy: 0.6650\n",
      "Epoch 2/5\n",
      "32/32 [==============================] - 0s 4ms/step - loss: 0.4231 - sparse_categorical_accuracy: 0.8830\n",
      "Epoch 3/5\n",
      "32/32 [==============================] - 0s 3ms/step - loss: 0.2898 - sparse_categorical_accuracy: 0.9180\n",
      "Epoch 4/5\n",
      "32/32 [==============================] - 0s 3ms/step - loss: 0.2097 - sparse_categorical_accuracy: 0.9540\n",
      "Epoch 5/5\n",
      "32/32 [==============================] - 0s 3ms/step - loss: 0.1607 - sparse_categorical_accuracy: 0.9660\n",
      "Model: \"sequential_6\"\n",
      "_________________________________________________________________\n",
      " Layer (type)                Output Shape              Param #   \n",
      "=================================================================\n",
      " dense_12 (Dense)            (None, 512)               401920    \n",
      "                                                                 \n",
      " dropout_6 (Dropout)         (None, 512)               0         \n",
      "                                                                 \n",
      " dense_13 (Dense)            (None, 10)                5130      \n",
      "                                                                 \n",
      "=================================================================\n",
      "Total params: 407,050\n",
      "Trainable params: 407,050\n",
      "Non-trainable params: 0\n",
      "_________________________________________________________________\n"
     ]
    }
   ]
  },
  {
   "cell_type": "code",
   "execution_count": null,
   "outputs": [],
   "source": [],
   "metadata": {
    "collapsed": false
   }
  }
 ]
}
