{
 "cells": [
  {
   "cell_type": "code",
   "execution_count": null,
   "metadata": {
    "collapsed": true
   },
   "outputs": [],
   "source": [
    "!pip install -r requirements.txt"
   ]
  },
  {
   "cell_type": "code",
   "execution_count": null,
   "outputs": [],
   "source": [
    "import argparse\n",
    "import multiprocessing\n",
    "from transformers import RobertaTokenizer, RobertaConfig, RobertaModel\n",
    "from xglue.utils import *\n",
    "from xglue.model import *\n",
    "cpu_count = 4"
   ],
   "metadata": {
    "collapsed": false
   }
  },
  {
   "cell_type": "code",
   "execution_count": null,
   "outputs": [],
   "source": [
    "args = argparse.Namespace()\n",
    "argsdict = vars(args)\n",
    "argsdict[\"train_data_file\"] = \"train.txt\"\n",
    "argsdict[\"output_dir\"] = \"data/code-clone/saved_models\"\n",
    "argsdict[\"eval_data_file\"] = \"valid.txt\"\n",
    "argsdict[\"test_data_file\"] = \"test.txt\"\n",
    "argsdict[\"model_type\"] = \"roberta\"\n",
    "argsdict[\"model_name_or_path\"] = \"microsoft/codebert-base\"\n",
    "argsdict[\"tokenizer_name\"] = \"roberta-base\"\n",
    "argsdict[\"config_name\"] = \"microsoft/codebert-base\"\n",
    "argsdict[\"cache_dir\"] = \"\"\n",
    "\n",
    "argsdict[\"mlm\"] = False\n",
    "argsdict[\"mlm_probability\"] = 0.15\n",
    "argsdict[\"block_size\"] = 200\n",
    "argsdict[\"do_train\"] = True\n",
    "argsdict[\"do_eval\"] = False\n",
    "argsdict[\"do_test\"] = False\n",
    "argsdict[\"evaluate_during_training\"] = True\n",
    "argsdict[\"do_lower_case\"] = False\n",
    "argsdict[\"train_batch_size\"] = 16\n",
    "argsdict[\"eval_batch_size\"] = 32\n",
    "argsdict[\"gradient_accumulation_steps\"] = 1\n",
    "argsdict[\"learning_rate\"] = 5e-5\n",
    "argsdict[\"weight_decay\"] = 0.0\n",
    "argsdict[\"adam_epsilon\"] = 1e-8\n",
    "argsdict[\"max_grad_norm\"] = 1.0\n",
    "argsdict[\"num_train_epochs\"] = 1.0\n",
    "argsdict[\"max_steps\"] = -1\n",
    "argsdict[\"warmup_steps\"] = 0\n",
    "argsdict[\"logging_steps\"] = 2\n",
    "argsdict[\"save_steps\"] = 2\n",
    "argsdict[\"save_total_limit\"] = None\n",
    "argsdict[\"eval_all_checkpoints\"] = False\n",
    "argsdict[\"no_cuda\"] = False\n",
    "argsdict[\"overwrite_output_dir\"] = False\n",
    "argsdict[\"overwrite_cache\"] = True\n",
    "argsdict[\"seed\"] = 123456\n",
    "argsdict[\"epoch\"] = 1\n",
    "argsdict[\"fp16\"] = False\n",
    "argsdict[\"fp16_opt_level\"] = '01'\n",
    "argsdict[\"local_rank\"] = -1\n",
    "argsdict[\"server_ip\"] = ''\n",
    "argsdict[\"server_port\"] = ''\n",
    "argsdict[\"per_gpu_train_batch_size\"] = 16\n",
    "argsdict[\"n_gpu\"] = 1\n",
    "argsdict[\"device\"] = \"cpu\"\n",
    "#\n",
    "args.start_epoch = 0\n",
    "args.start_step = 0"
   ],
   "metadata": {
    "collapsed": false
   }
  },
  {
   "cell_type": "code",
   "execution_count": null,
   "outputs": [],
   "source": [
    "pool = multiprocessing.Pool(cpu_count)\n",
    "tokenizer = RobertaTokenizer.from_pretrained(args.tokenizer_name,\n",
    "                                                do_lower_case=False,\n",
    "                                                cache_dir=args.cache_dir if args.cache_dir else None,\n",
    "                                             model_max_length=512, max_length=512, padding=\"max_length\", truncation=True)\n"
   ],
   "metadata": {
    "collapsed": false
   }
  },
  {
   "cell_type": "code",
   "execution_count": null,
   "outputs": [],
   "source": [
    "config = RobertaConfig.from_pretrained(args.config_name if args.config_name else args.model_name_or_path,\n",
    "                                          cache_dir=args.cache_dir if args.cache_dir else None, model_max_length=512)\n",
    "config.num_labels=1\n",
    "\n",
    "model = RobertaModel.from_pretrained(args.model_name_or_path,\n",
    "                                            from_tf=bool('.ckpt' in args.model_name_or_path),\n",
    "                                            config=config,\n",
    "                                            cache_dir=args.cache_dir if args.cache_dir else None)"
   ],
   "metadata": {
    "collapsed": false
   }
  },
  {
   "cell_type": "code",
   "execution_count": null,
   "outputs": [],
   "source": [
    "train_dataset = load_and_cache_examples(args, tokenizer, evaluate=False,pool=pool)"
   ],
   "metadata": {
    "collapsed": false
   }
  },
  {
   "cell_type": "code",
   "execution_count": null,
   "outputs": [],
   "source": [
    "model=Model(model,config,tokenizer,args)\n",
    "global_step, tr_loss = train(args, train_dataset, model, tokenizer, pool)"
   ],
   "metadata": {
    "collapsed": false
   }
  },
  {
   "cell_type": "code",
   "execution_count": null,
   "outputs": [],
   "source": [],
   "metadata": {
    "collapsed": false
   }
  }
 ],
 "metadata": {
  "kernelspec": {
   "display_name": "Python 3",
   "language": "python",
   "name": "python3"
  },
  "language_info": {
   "codemirror_mode": {
    "name": "ipython",
    "version": 2
   },
   "file_extension": ".py",
   "mimetype": "text/x-python",
   "name": "python",
   "nbconvert_exporter": "python",
   "pygments_lexer": "ipython2",
   "version": "2.7.6"
  }
 },
 "nbformat": 4,
 "nbformat_minor": 0
}
