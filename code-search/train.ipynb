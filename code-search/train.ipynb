{
 "cells": [
  {
   "cell_type": "code",
   "execution_count": 1,
   "id": "0d8f0f82-121c-43d3-87eb-31265edc0bd6",
   "metadata": {},
   "outputs": [
    {
     "name": "stdout",
     "output_type": "stream",
     "text": [
      "Requirement already satisfied: torch==1.4.0 in /Users/bharatwaajshankar/opt/anaconda3/envs/assn2/lib/python3.7/site-packages (from -r requirements.txt (line 1)) (1.4.0)\n",
      "Requirement already satisfied: transformers==2.5.0 in /Users/bharatwaajshankar/opt/anaconda3/envs/assn2/lib/python3.7/site-packages (from -r requirements.txt (line 2)) (2.5.0)\n",
      "Requirement already satisfied: scikit-learn in /Users/bharatwaajshankar/opt/anaconda3/envs/assn2/lib/python3.7/site-packages (from -r requirements.txt (line 3)) (1.0.2)\n",
      "Requirement already satisfied: tensorboard in /Users/bharatwaajshankar/opt/anaconda3/envs/assn2/lib/python3.7/site-packages (from -r requirements.txt (line 4)) (2.11.2)\n",
      "Requirement already satisfied: requests in /Users/bharatwaajshankar/opt/anaconda3/envs/assn2/lib/python3.7/site-packages (from transformers==2.5.0->-r requirements.txt (line 2)) (2.28.2)\n",
      "Requirement already satisfied: boto3 in /Users/bharatwaajshankar/opt/anaconda3/envs/assn2/lib/python3.7/site-packages (from transformers==2.5.0->-r requirements.txt (line 2)) (1.26.87)\n",
      "Requirement already satisfied: tqdm>=4.27 in /Users/bharatwaajshankar/opt/anaconda3/envs/assn2/lib/python3.7/site-packages (from transformers==2.5.0->-r requirements.txt (line 2)) (4.65.0)\n",
      "Requirement already satisfied: sacremoses in /Users/bharatwaajshankar/opt/anaconda3/envs/assn2/lib/python3.7/site-packages (from transformers==2.5.0->-r requirements.txt (line 2)) (0.0.53)\n",
      "Requirement already satisfied: regex!=2019.12.17 in /Users/bharatwaajshankar/opt/anaconda3/envs/assn2/lib/python3.7/site-packages (from transformers==2.5.0->-r requirements.txt (line 2)) (2022.10.31)\n",
      "Requirement already satisfied: tokenizers==0.5.0 in /Users/bharatwaajshankar/opt/anaconda3/envs/assn2/lib/python3.7/site-packages (from transformers==2.5.0->-r requirements.txt (line 2)) (0.5.0)\n",
      "Requirement already satisfied: sentencepiece in /Users/bharatwaajshankar/opt/anaconda3/envs/assn2/lib/python3.7/site-packages (from transformers==2.5.0->-r requirements.txt (line 2)) (0.1.97)\n",
      "Requirement already satisfied: filelock in /Users/bharatwaajshankar/opt/anaconda3/envs/assn2/lib/python3.7/site-packages (from transformers==2.5.0->-r requirements.txt (line 2)) (3.9.0)\n",
      "Requirement already satisfied: numpy in /Users/bharatwaajshankar/opt/anaconda3/envs/assn2/lib/python3.7/site-packages (from transformers==2.5.0->-r requirements.txt (line 2)) (1.21.6)\n",
      "Requirement already satisfied: joblib>=0.11 in /Users/bharatwaajshankar/opt/anaconda3/envs/assn2/lib/python3.7/site-packages (from scikit-learn->-r requirements.txt (line 3)) (1.2.0)\n",
      "Requirement already satisfied: scipy>=1.1.0 in /Users/bharatwaajshankar/opt/anaconda3/envs/assn2/lib/python3.7/site-packages (from scikit-learn->-r requirements.txt (line 3)) (1.7.3)\n",
      "Requirement already satisfied: threadpoolctl>=2.0.0 in /Users/bharatwaajshankar/opt/anaconda3/envs/assn2/lib/python3.7/site-packages (from scikit-learn->-r requirements.txt (line 3)) (3.1.0)\n",
      "Requirement already satisfied: google-auth<3,>=1.6.3 in /Users/bharatwaajshankar/opt/anaconda3/envs/assn2/lib/python3.7/site-packages (from tensorboard->-r requirements.txt (line 4)) (2.16.2)\n",
      "Requirement already satisfied: markdown>=2.6.8 in /Users/bharatwaajshankar/opt/anaconda3/envs/assn2/lib/python3.7/site-packages (from tensorboard->-r requirements.txt (line 4)) (3.4.1)\n",
      "Requirement already satisfied: google-auth-oauthlib<0.5,>=0.4.1 in /Users/bharatwaajshankar/opt/anaconda3/envs/assn2/lib/python3.7/site-packages (from tensorboard->-r requirements.txt (line 4)) (0.4.6)\n",
      "Requirement already satisfied: setuptools>=41.0.0 in /Users/bharatwaajshankar/opt/anaconda3/envs/assn2/lib/python3.7/site-packages (from tensorboard->-r requirements.txt (line 4)) (65.6.3)\n",
      "Requirement already satisfied: absl-py>=0.4 in /Users/bharatwaajshankar/opt/anaconda3/envs/assn2/lib/python3.7/site-packages (from tensorboard->-r requirements.txt (line 4)) (1.4.0)\n",
      "Requirement already satisfied: tensorboard-data-server<0.7.0,>=0.6.0 in /Users/bharatwaajshankar/opt/anaconda3/envs/assn2/lib/python3.7/site-packages (from tensorboard->-r requirements.txt (line 4)) (0.6.1)\n",
      "Requirement already satisfied: protobuf<4,>=3.9.2 in /Users/bharatwaajshankar/opt/anaconda3/envs/assn2/lib/python3.7/site-packages (from tensorboard->-r requirements.txt (line 4)) (3.20.3)\n",
      "Requirement already satisfied: grpcio>=1.24.3 in /Users/bharatwaajshankar/opt/anaconda3/envs/assn2/lib/python3.7/site-packages (from tensorboard->-r requirements.txt (line 4)) (1.51.3)\n",
      "Requirement already satisfied: werkzeug>=1.0.1 in /Users/bharatwaajshankar/opt/anaconda3/envs/assn2/lib/python3.7/site-packages (from tensorboard->-r requirements.txt (line 4)) (2.2.3)\n",
      "Requirement already satisfied: tensorboard-plugin-wit>=1.6.0 in /Users/bharatwaajshankar/opt/anaconda3/envs/assn2/lib/python3.7/site-packages (from tensorboard->-r requirements.txt (line 4)) (1.8.1)\n",
      "Requirement already satisfied: wheel>=0.26 in /Users/bharatwaajshankar/opt/anaconda3/envs/assn2/lib/python3.7/site-packages (from tensorboard->-r requirements.txt (line 4)) (0.38.4)\n",
      "Requirement already satisfied: rsa<5,>=3.1.4 in /Users/bharatwaajshankar/opt/anaconda3/envs/assn2/lib/python3.7/site-packages (from google-auth<3,>=1.6.3->tensorboard->-r requirements.txt (line 4)) (4.9)\n",
      "Requirement already satisfied: pyasn1-modules>=0.2.1 in /Users/bharatwaajshankar/opt/anaconda3/envs/assn2/lib/python3.7/site-packages (from google-auth<3,>=1.6.3->tensorboard->-r requirements.txt (line 4)) (0.2.8)\n",
      "Requirement already satisfied: cachetools<6.0,>=2.0.0 in /Users/bharatwaajshankar/opt/anaconda3/envs/assn2/lib/python3.7/site-packages (from google-auth<3,>=1.6.3->tensorboard->-r requirements.txt (line 4)) (5.3.0)\n",
      "Requirement already satisfied: six>=1.9.0 in /Users/bharatwaajshankar/opt/anaconda3/envs/assn2/lib/python3.7/site-packages (from google-auth<3,>=1.6.3->tensorboard->-r requirements.txt (line 4)) (1.16.0)\n",
      "Requirement already satisfied: requests-oauthlib>=0.7.0 in /Users/bharatwaajshankar/opt/anaconda3/envs/assn2/lib/python3.7/site-packages (from google-auth-oauthlib<0.5,>=0.4.1->tensorboard->-r requirements.txt (line 4)) (1.3.1)\n",
      "Requirement already satisfied: importlib-metadata>=4.4 in /Users/bharatwaajshankar/opt/anaconda3/envs/assn2/lib/python3.7/site-packages (from markdown>=2.6.8->tensorboard->-r requirements.txt (line 4)) (6.0.0)\n",
      "Requirement already satisfied: certifi>=2017.4.17 in /Users/bharatwaajshankar/opt/anaconda3/envs/assn2/lib/python3.7/site-packages (from requests->transformers==2.5.0->-r requirements.txt (line 2)) (2022.12.7)\n",
      "Requirement already satisfied: urllib3<1.27,>=1.21.1 in /Users/bharatwaajshankar/opt/anaconda3/envs/assn2/lib/python3.7/site-packages (from requests->transformers==2.5.0->-r requirements.txt (line 2)) (1.26.14)\n",
      "Requirement already satisfied: idna<4,>=2.5 in /Users/bharatwaajshankar/opt/anaconda3/envs/assn2/lib/python3.7/site-packages (from requests->transformers==2.5.0->-r requirements.txt (line 2)) (3.4)\n",
      "Requirement already satisfied: charset-normalizer<4,>=2 in /Users/bharatwaajshankar/opt/anaconda3/envs/assn2/lib/python3.7/site-packages (from requests->transformers==2.5.0->-r requirements.txt (line 2)) (3.1.0)\n",
      "Requirement already satisfied: MarkupSafe>=2.1.1 in /Users/bharatwaajshankar/opt/anaconda3/envs/assn2/lib/python3.7/site-packages (from werkzeug>=1.0.1->tensorboard->-r requirements.txt (line 4)) (2.1.2)\n",
      "Requirement already satisfied: jmespath<2.0.0,>=0.7.1 in /Users/bharatwaajshankar/opt/anaconda3/envs/assn2/lib/python3.7/site-packages (from boto3->transformers==2.5.0->-r requirements.txt (line 2)) (1.0.1)\n",
      "Requirement already satisfied: botocore<1.30.0,>=1.29.87 in /Users/bharatwaajshankar/opt/anaconda3/envs/assn2/lib/python3.7/site-packages (from boto3->transformers==2.5.0->-r requirements.txt (line 2)) (1.29.87)\n",
      "Requirement already satisfied: s3transfer<0.7.0,>=0.6.0 in /Users/bharatwaajshankar/opt/anaconda3/envs/assn2/lib/python3.7/site-packages (from boto3->transformers==2.5.0->-r requirements.txt (line 2)) (0.6.0)\n",
      "Requirement already satisfied: click in /Users/bharatwaajshankar/opt/anaconda3/envs/assn2/lib/python3.7/site-packages (from sacremoses->transformers==2.5.0->-r requirements.txt (line 2)) (8.1.3)\n",
      "Requirement already satisfied: python-dateutil<3.0.0,>=2.1 in /Users/bharatwaajshankar/opt/anaconda3/envs/assn2/lib/python3.7/site-packages (from botocore<1.30.0,>=1.29.87->boto3->transformers==2.5.0->-r requirements.txt (line 2)) (2.8.2)\n",
      "Requirement already satisfied: typing-extensions>=3.6.4 in /Users/bharatwaajshankar/opt/anaconda3/envs/assn2/lib/python3.7/site-packages (from importlib-metadata>=4.4->markdown>=2.6.8->tensorboard->-r requirements.txt (line 4)) (4.5.0)\n",
      "Requirement already satisfied: zipp>=0.5 in /Users/bharatwaajshankar/opt/anaconda3/envs/assn2/lib/python3.7/site-packages (from importlib-metadata>=4.4->markdown>=2.6.8->tensorboard->-r requirements.txt (line 4)) (3.15.0)\n",
      "Requirement already satisfied: pyasn1<0.5.0,>=0.4.6 in /Users/bharatwaajshankar/opt/anaconda3/envs/assn2/lib/python3.7/site-packages (from pyasn1-modules>=0.2.1->google-auth<3,>=1.6.3->tensorboard->-r requirements.txt (line 4)) (0.4.8)\n",
      "Requirement already satisfied: oauthlib>=3.0.0 in /Users/bharatwaajshankar/opt/anaconda3/envs/assn2/lib/python3.7/site-packages (from requests-oauthlib>=0.7.0->google-auth-oauthlib<0.5,>=0.4.1->tensorboard->-r requirements.txt (line 4)) (3.2.2)\n"
     ]
    }
   ],
   "source": [
    "# Install all requirements\n",
    "!pip install -r requirements.txt"
   ]
  },
  {
   "cell_type": "code",
   "execution_count": 2,
   "id": "b6dd0966-3d10-4e1d-b19d-f8270bb2d017",
   "metadata": {},
   "outputs": [
    {
     "name": "stdout",
     "output_type": "stream",
     "text": [
      "--2023-03-16 17:15:46--  https://s3.amazonaws.com/code-search-net/CodeSearchNet/v2/python.zip\n",
      "Resolving s3.amazonaws.com (s3.amazonaws.com)... 52.217.162.176, 52.216.136.246, 54.231.197.80, ...\n",
      "Connecting to s3.amazonaws.com (s3.amazonaws.com)|52.217.162.176|:443... connected.\n",
      "HTTP request sent, awaiting response... 200 OK\n",
      "Length: 940909997 (897M) [application/zip]\n",
      "Saving to: ‘python.zip.1’\n",
      "\n",
      "python.zip.1         15%[==>                 ] 139.97M  6.91MB/s    eta 2m 11s ^C\n"
     ]
    }
   ],
   "source": [
    "# Download all necessary data\n",
    "!bash download_and_preprocess_data.sh"
   ]
  },
  {
   "cell_type": "code",
   "execution_count": 13,
   "id": "46bdc1a8-b489-4a4f-a1b5-8a48ae0bf90d",
   "metadata": {},
   "outputs": [],
   "source": [
    "# Add Required Imports\n",
    "from transformers import AutoTokenizer, AutoModel, pipeline\n",
    "from transformers import RobertaConfig, RobertaTokenizer, RobertaForMaskedLM, pipeline\n",
    "import json\n",
    "import argparse\n",
    "from xglue.utils import *\n",
    "from xglue.model import *\n",
    "import multiprocessing\n",
    "import torch\n",
    "\n",
    "from transformers import (WEIGHTS_NAME, AdamW, get_linear_schedule_with_warmup,\n",
    "                          BertConfig, BertForMaskedLM, BertTokenizer,\n",
    "                          GPT2Config, GPT2LMHeadModel, GPT2Tokenizer,\n",
    "                          OpenAIGPTConfig, OpenAIGPTLMHeadModel, OpenAIGPTTokenizer,\n",
    "                          RobertaConfig, RobertaModel, RobertaTokenizer,\n",
    "                          DistilBertConfig, DistilBertForMaskedLM, DistilBertTokenizer)\n"
   ]
  },
  {
   "cell_type": "code",
   "execution_count": 14,
   "id": "234c7894-997f-4ee4-a759-b472d7364c38",
   "metadata": {},
   "outputs": [],
   "source": [
    "# Setup Arguments\n",
    "args = argparse.Namespace()\n",
    "argsdict = vars(args)\n",
    "\n",
    "argsdict[\"data_dir\"] = \"./data\"\n",
    "argsdict[\"train_file\"] = \"train_codesearchnet_7.json\"\n",
    "argsdict[\"output_dir\"] = \"./outputs\"\n",
    "argsdict[\"dev_file\"] = \"dev_codesearchnet.json\"\n",
    "argsdict[\"test_file\"] = \"test.txt\"\n",
    "\n",
    "argsdict[\"model_type\"] = \"roberta\"\n",
    "argsdict[\"pn_weight\"] = 1.0\n",
    "argsdict[\"encoder_name_or_path\"] = \"microsoft/codebert-base\"\n",
    "argsdict[\"checkpoint_path\"] = \"\"\n",
    "\n",
    "argsdict[\"mlm\"] = False\n",
    "argsdict[\"mlm_probability\"] = 0.15\n",
    "\n",
    "argsdict[\"config_name\"] = \"roberta-base\"\n",
    "argsdict[\"tokenizer_name\"] = \"roberta-base\"\n",
    "argsdict[\"cache_dir\"] = \"\"\n",
    "argsdict[\"max_seq_length\"] = 200\n",
    "\n",
    "argsdict[\"do_train\"] = True\n",
    "argsdict[\"do_eval\"] = False\n",
    "argsdict[\"do_predict\"] = False\n",
    "\n",
    "argsdict[\"evaluate_during_training\"] = True\n",
    "argsdict[\"do_lower_case\"] = False\n",
    "argsdict[\"per_gpu_train_batch_size\"] = 16\n",
    "argsdict[\"per_gpu_eval_batch_size\"] = 16\n",
    "argsdict[\"gradient_accumulation_steps\"] = 1\n",
    "argsdict[\"learning_rate\"] = 1e-5\n",
    "argsdict[\"weight_decay\"] = 0.0\n",
    "argsdict[\"adam_epsilon\"] = 1e-8\n",
    "argsdict[\"max_grad_norm\"] = 1.0\n",
    "argsdict[\"num_train_epochs\"] = 3\n",
    "argsdict[\"max_steps\"] = -1\n",
    "argsdict[\"warmup_steps\"] = 1000\n",
    "argsdict[\"logging_steps\"] = 2 \n",
    "argsdict[\"save_steps\"] = 2\n",
    "argsdict[\"save_total_limit\"] = None\n",
    "argsdict[\"eval_all_checkpoints\"] = True\n",
    "argsdict[\"no_cuda\"] = False\n",
    "argsdict[\"overwrite_output_dir\"] = False\n",
    "argsdict[\"overwrite_cache\"] = True\n",
    "argsdict[\"seed\"] = 123456\n",
    "argsdict[\"fp16\"] = False\n",
    "argsdict[\"fp16_opt_level\"] = '01' \n",
    "argsdict[\"local_rank\"] = -1\n",
    "argsdict[\"server_ip\"] = ''\n",
    "argsdict[\"server_port\"] = ''\n",
    "argsdict[\"test_result_dir\"] = 'test_results.tsv'\n",
    "argsdict[\"prediction_file\"] = 'predictions.txt'\n",
    "\n",
    "argsdict[\"per_gpu_train_batch_size\"] = 16\n",
    "argsdict[\"n_gpu\"] = 1\n",
    "argsdict[\"device\"] = \"cpu\"\n",
    "\n",
    "args.start_epoch = 0\n",
    "args.start_step = 0\n",
    "cpu_cont = 16\n",
    "\n",
    "set_seed(args.seed)"
   ]
  },
  {
   "cell_type": "code",
   "execution_count": 15,
   "id": "3e85a11e-86f2-4c4f-8b07-bc1210f88e99",
   "metadata": {},
   "outputs": [],
   "source": [
    "pool = multiprocessing.Pool(cpu_cont)"
   ]
  },
  {
   "cell_type": "code",
   "execution_count": 16,
   "id": "f7bc0ac1-078f-497f-88bd-5a73ce592b60",
   "metadata": {},
   "outputs": [],
   "source": [
    "# Model Classes Supported\n",
    "MODEL_CLASSES = {'roberta': (RobertaConfig, RobertaModel, RobertaTokenizer)}"
   ]
  },
  {
   "cell_type": "code",
   "execution_count": 17,
   "id": "8311f5be-7baa-4e2b-9847-fee6256cce9c",
   "metadata": {},
   "outputs": [],
   "source": [
    "# Configuration & Tokenizer\n",
    "config_class, model_class, tokenizer_class = MODEL_CLASSES[args.model_type]\n",
    "config = config_class.from_pretrained(args.config_name if args.config_name else args.encoder_name_or_path,\n",
    "                                      cache_dir=args.cache_dir if args.cache_dir else None)\n",
    "config.num_labels = 2\n",
    "tokenizer = tokenizer_class.from_pretrained(args.tokenizer_name if args.tokenizer_name else args.encoder_name_or_path,\n",
    "                                                do_lower_case=args.do_lower_case,\n",
    "                                                cache_dir=args.cache_dir if args.cache_dir else None)"
   ]
  },
  {
   "cell_type": "code",
   "execution_count": 18,
   "id": "8b657ebe-2c75-4247-8f77-b5d65e36e819",
   "metadata": {},
   "outputs": [],
   "source": [
    "# Setup Max Sequence Length for the model\n",
    "args.max_seq_length = min(args.max_seq_length, tokenizer.max_len_single_sentence)"
   ]
  },
  {
   "cell_type": "code",
   "execution_count": 19,
   "id": "25763910-a8fb-47f5-b8fb-cbd5f9226412",
   "metadata": {},
   "outputs": [],
   "source": [
    "# Download a pretrained huggingface model\n",
    "model = model_class.from_pretrained(args.encoder_name_or_path,\n",
    "                                            from_tf=bool('.ckpt' in args.encoder_name_or_path),\n",
    "                                            config=config,\n",
    "                                            cache_dir=args.cache_dir if args.cache_dir else None)"
   ]
  },
  {
   "cell_type": "code",
   "execution_count": 20,
   "id": "dcefcfc7-9eea-4590-961a-e4558322b7fd",
   "metadata": {},
   "outputs": [],
   "source": [
    "# Create a model\n",
    "model = Model(model, config, tokenizer, args)"
   ]
  },
  {
   "cell_type": "code",
   "execution_count": 21,
   "id": "c128e6db-2711-45b3-95bc-f639312577ac",
   "metadata": {},
   "outputs": [],
   "source": [
    "# Check for checkpoints\n",
    "if args.checkpoint_path:\n",
    "    model.load_state_dict(torch.load(os.path.join(args.checkpoint_path, 'pytorch_model.bin')))"
   ]
  },
  {
   "cell_type": "code",
   "execution_count": null,
   "id": "0691caf4-09e4-4cb0-b978-c30afa643143",
   "metadata": {},
   "outputs": [],
   "source": [
    "# Perform Training\n",
    "train_data_path = os.path.join(args.data_dir, args.train_file)\n",
    "train_dataset = TextDataset(tokenizer, args, train_data_path, type='train')\n",
    "train(args, train_dataset, model, tokenizer)"
   ]
  },
  {
   "cell_type": "code",
   "execution_count": null,
   "id": "87edb6b5-72cd-488d-b176-f5aa9a1a9dd3",
   "metadata": {},
   "outputs": [],
   "source": [
    "# Evaluate the model\n",
    "results = {}\n",
    "\n",
    "checkpoint_prefix = 'checkpoint-best-ever'\n",
    "output_dir = os.path.join(args.output_dir, checkpoint_prefix)\n",
    "model.load_state_dict(torch.load(os.path.join(output_dir, 'pytorch_model.bin')))\n",
    "tokenizer = tokenizer.from_pretrained(output_dir)\n",
    "model.to(args.device)\n",
    "results = evaluate(args, model, tokenizer)\n",
    "\n",
    "# Print top ten results\n",
    "print(results[:10])"
   ]
  },
  {
   "cell_type": "code",
   "execution_count": null,
   "id": "6f83e757-51eb-4fe4-9385-be57a51b4aab",
   "metadata": {},
   "outputs": [],
   "source": []
  }
 ],
 "metadata": {
  "kernelspec": {
   "display_name": "Python 3 (ipykernel)",
   "language": "python",
   "name": "python3"
  },
  "language_info": {
   "codemirror_mode": {
    "name": "ipython",
    "version": 3
   },
   "file_extension": ".py",
   "mimetype": "text/x-python",
   "name": "python",
   "nbconvert_exporter": "python",
   "pygments_lexer": "ipython3",
   "version": "3.7.16"
  }
 },
 "nbformat": 4,
 "nbformat_minor": 5
}
