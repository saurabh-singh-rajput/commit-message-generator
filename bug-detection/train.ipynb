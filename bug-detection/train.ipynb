{
 "cells": [
  {
   "cell_type": "code",
   "execution_count": null,
   "id": "5abc00e6-291f-47e4-b954-5829e38561d7",
   "metadata": {},
   "outputs": [],
   "source": [
    "# Install all requirements\n",
    "!pip install -r requirements.txt"
   ]
  },
  {
   "cell_type": "code",
   "execution_count": 1,
   "id": "e6801842-5cd6-4f48-8850-7b08f772424a",
   "metadata": {},
   "outputs": [],
   "source": [
    "# Necessary Imports\n",
    "import os\n",
    "import sys\n",
    "import pickle\n",
    "import torch\n",
    "import json\n",
    "import random\n",
    "import logging\n",
    "import argparse\n",
    "import numpy as np\n",
    "from io import open\n",
    "from itertools import cycle\n",
    "import torch.nn as nn\n",
    "from tqdm import tqdm, trange\n",
    "from torch.utils.data import DataLoader, Dataset, SequentialSampler, RandomSampler,TensorDataset\n",
    "from torch.utils.data.distributed import DistributedSampler\n",
    "from transformers import (WEIGHTS_NAME, AdamW, get_linear_schedule_with_warmup,\n",
    "                          RobertaConfig, RobertaModel, RobertaTokenizer)\n",
    "from xglue.utils import *"
   ]
  },
  {
   "cell_type": "code",
   "execution_count": 2,
   "id": "cbba6ede-c5e2-46d1-892b-b81c947edab7",
   "metadata": {},
   "outputs": [],
   "source": [
    "# Setup Arguments\n",
    "args = argparse.Namespace()\n",
    "argsdict = vars(args)\n",
    "\n",
    "argsdict[\"model_type\"] = \"roberta\"\n",
    "argsdict[\"model_name_or_path\"] = \"microsoft/codebert-base\"\n",
    "argsdict[\"tokenizer_name\"] = \"roberta-base\"\n",
    "argsdict[\"output_dir\"] = \"outputs\"\n",
    "\n",
    "argsdict[\"load_model_path\"] = None\n",
    "argsdict[\"train_filename\"] = \"./data/small/train.buggy-fixed.buggy,./data/small/train.buggy-fixed.fixed\"\n",
    "argsdict[\"dev_filename\"] = \"./data/small/valid.buggy-fixed.buggy,./data/small/valid.buggy-fixed.fixed\"\n",
    "argsdict[\"test_filename\"] = \"./data/small/test.buggy-fixed.buggy,./data/small/test.buggy-fixed.fixed\"\n",
    "argsdict[\"config_name\"] = \"roberta-base\"\n",
    "argsdict[\"max_source_length\"] = 256\n",
    "argsdict[\"max_target_length\"] = 256\n",
    "\n",
    "argsdict[\"do_train\"] = True\n",
    "argsdict[\"do_eval\"] = False\n",
    "argsdict[\"do_test\"] = False\n",
    "argsdict[\"do_lower_case\"] = False\n",
    "argsdict[\"no_cuda\"] = False\n",
    "\n",
    "argsdict[\"train_batch_size\"] = 16\n",
    "argsdict[\"eval_batch_size\"] = 16\n",
    "argsdict[\"gradient_accumulation_steps\"] = 1\n",
    "\n",
    "argsdict[\"learning_rate\"] = 5e-5\n",
    "argsdict[\"beam_size\"] = 5\n",
    "argsdict[\"weight_decay\"] = 0.0\n",
    "argsdict[\"adam_epsilon\"] = 1e-8\n",
    "argsdict[\"max_grad_norm\"] = 1.0\n",
    "argsdict[\"num_train_epochs\"] = 3.0\n",
    "argsdict[\"max_steps\"] = -1\n",
    "argsdict[\"eval_steps\"] = 5000\n",
    "argsdict[\"train_steps\"] = 100000\n",
    "\n",
    "argsdict[\"warmup_steps\"] = 1000\n",
    "argsdict[\"local_rank\"] = -1\n",
    "argsdict[\"seed\"] = 123456\n",
    "\n",
    "argsdict[\"mlm\"] = False\n",
    "argsdict[\"mlm_probability\"] = 0.15\n",
    "\n",
    "argsdict[\"cache_dir\"] = \"\"\n",
    "argsdict[\"max_seq_length\"] = 200\n",
    "\n",
    "argsdict[\"logging_steps\"] = 2 \n",
    "argsdict[\"save_steps\"] = 2\n",
    "argsdict[\"save_total_limit\"] = None\n",
    "argsdict[\"eval_all_checkpoints\"] = True\n",
    "\n",
    "argsdict[\"overwrite_output_dir\"] = False\n",
    "argsdict[\"overwrite_cache\"] = True\n",
    "argsdict[\"fp16\"] = False\n",
    "argsdict[\"fp16_opt_level\"] = '01' \n",
    "\n",
    "argsdict[\"server_ip\"] = ''\n",
    "argsdict[\"server_port\"] = ''\n",
    "argsdict[\"test_result_dir\"] = 'test_results.tsv'\n",
    "argsdict[\"prediction_file\"] = 'predictions.txt'\n",
    "\n",
    "argsdict[\"per_gpu_train_batch_size\"] = 16\n",
    "argsdict[\"n_gpu\"] = 1\n",
    "argsdict[\"device\"] = \"cpu\"\n",
    "\n",
    "args.start_epoch = 0\n",
    "args.start_step = 0\n",
    "cpu_cont = 16\n",
    "\n",
    "set_seed(args)"
   ]
  },
  {
   "cell_type": "code",
   "execution_count": 3,
   "id": "81f712d8-5ad2-4f4b-a92c-bdc48a21d77d",
   "metadata": {},
   "outputs": [],
   "source": [
    "MODEL_CLASSES = {'roberta': (RobertaConfig, RobertaModel, RobertaTokenizer)}"
   ]
  },
  {
   "cell_type": "code",
   "execution_count": 4,
   "id": "b92310f4-2982-4ebe-92dd-d3375d752c19",
   "metadata": {},
   "outputs": [],
   "source": [
    "# Config & Tokenizer from Hugging Face Pretrained\n",
    "config_class, model_class, tokenizer_class = MODEL_CLASSES[args.model_type]\n",
    "config = config_class.from_pretrained(args.config_name if args.config_name else args.model_name_or_path)\n",
    "tokenizer = tokenizer_class.from_pretrained(args.tokenizer_name,do_lower_case=args.do_lower_case)"
   ]
  },
  {
   "cell_type": "code",
   "execution_count": 5,
   "id": "c1bc4a49-d6c6-4e4d-a122-759e1ed49dae",
   "metadata": {},
   "outputs": [],
   "source": [
    "# Build From Pre-trained Model\n",
    "encoder = model_class.from_pretrained(args.model_name_or_path,config=config)    \n",
    "decoder_layer = nn.TransformerDecoderLayer(d_model=config.hidden_size, nhead=config.num_attention_heads)\n",
    "decoder = nn.TransformerDecoder(decoder_layer, num_layers=6)\n",
    "model=Seq2Seq(encoder=encoder,decoder=decoder,config=config,\n",
    "              beam_size=args.beam_size,max_length=args.max_target_length,\n",
    "              sos_id=tokenizer.cls_token_id,eos_id=tokenizer.sep_token_id)"
   ]
  },
  {
   "cell_type": "code",
   "execution_count": 6,
   "id": "20197c86-b297-4fe4-97e0-1a8b5c7dfdd6",
   "metadata": {},
   "outputs": [],
   "source": [
    "# Load model from our pre-trained and best model\n",
    "if args.load_model_path is not None:\n",
    "    model.load_state_dict(torch.load(args.load_model_path))"
   ]
  },
  {
   "cell_type": "code",
   "execution_count": null,
   "id": "7f02c3fe-2857-4f8a-8139-8fc9bc733dcf",
   "metadata": {},
   "outputs": [],
   "source": [
    "# Train the model\n",
    "train_model(args, tokenizer, model)"
   ]
  },
  {
   "cell_type": "code",
   "execution_count": null,
   "id": "44ddf202-d664-484d-963c-4a43fbafd6c7",
   "metadata": {},
   "outputs": [],
   "source": [
    "# Test the model - Results are stored in predictions.txt\n",
    "test_model(args, tokenizer, model)"
   ]
  },
  {
   "cell_type": "code",
   "execution_count": null,
   "id": "0a9dcce5-64d8-4efc-8760-e91eba177947",
   "metadata": {},
   "outputs": [],
   "source": []
  }
 ],
 "metadata": {
  "kernelspec": {
   "display_name": "Python 3 (ipykernel)",
   "language": "python",
   "name": "python3"
  },
  "language_info": {
   "codemirror_mode": {
    "name": "ipython",
    "version": 3
   },
   "file_extension": ".py",
   "mimetype": "text/x-python",
   "name": "python",
   "nbconvert_exporter": "python",
   "pygments_lexer": "ipython3",
   "version": "3.7.16"
  }
 },
 "nbformat": 4,
 "nbformat_minor": 5
}
