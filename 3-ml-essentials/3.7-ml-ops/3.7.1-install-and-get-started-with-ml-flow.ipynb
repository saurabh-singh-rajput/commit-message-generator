{
 "cells": [
  {
   "cell_type": "code",
   "execution_count": 4,
   "id": "ca66bcb9-02f8-4c20-97b8-740a11f1cfb3",
   "metadata": {},
   "outputs": [
    {
     "name": "stdout",
     "output_type": "stream",
     "text": [
      "Collecting mlflow\n",
      "  Downloading mlflow-1.30.0-py3-none-any.whl (17.0 MB)\n",
      "\u001b[2K     \u001b[90m━━━━━━━━━━━━━━━━━━━━━━━━━━━━━━━━━━━━━━━━\u001b[0m \u001b[32m17.0/17.0 MB\u001b[0m \u001b[31m17.5 MB/s\u001b[0m eta \u001b[36m0:00:00\u001b[0m00:01\u001b[0m00:01\u001b[0m\n",
      "\u001b[?25hCollecting sqlalchemy<2,>=1.4.0\n",
      "  Downloading SQLAlchemy-1.4.46-cp37-cp37m-macosx_10_15_x86_64.whl (1.6 MB)\n",
      "\u001b[2K     \u001b[90m━━━━━━━━━━━━━━━━━━━━━━━━━━━━━━━━━━━━━━━━\u001b[0m \u001b[32m1.6/1.6 MB\u001b[0m \u001b[31m13.6 MB/s\u001b[0m eta \u001b[36m0:00:00\u001b[0m00:01\u001b[0m00:01\u001b[0m\n",
      "\u001b[?25hCollecting querystring-parser<2\n",
      "  Downloading querystring_parser-1.2.4-py2.py3-none-any.whl (7.9 kB)\n",
      "Requirement already satisfied: gunicorn<21 in /Users/bharatwaajshankar/opt/anaconda3/envs/method-name-prediction/lib/python3.7/site-packages (from mlflow) (19.9.0)\n",
      "Requirement already satisfied: entrypoints<1 in /Users/bharatwaajshankar/opt/anaconda3/envs/method-name-prediction/lib/python3.7/site-packages (from mlflow) (0.4)\n",
      "Requirement already satisfied: cloudpickle<3 in /Users/bharatwaajshankar/opt/anaconda3/envs/method-name-prediction/lib/python3.7/site-packages (from mlflow) (2.2.1)\n",
      "Requirement already satisfied: click<9,>=7.0 in /Users/bharatwaajshankar/opt/anaconda3/envs/method-name-prediction/lib/python3.7/site-packages (from mlflow) (8.1.3)\n",
      "Requirement already satisfied: scipy<2 in /Users/bharatwaajshankar/opt/anaconda3/envs/method-name-prediction/lib/python3.7/site-packages (from mlflow) (1.5.2)\n",
      "Requirement already satisfied: importlib-metadata!=4.7.0,<6,>=3.7.0 in /Users/bharatwaajshankar/opt/anaconda3/envs/method-name-prediction/lib/python3.7/site-packages (from mlflow) (4.8.1)\n",
      "Requirement already satisfied: packaging<22 in /Users/bharatwaajshankar/opt/anaconda3/envs/method-name-prediction/lib/python3.7/site-packages (from mlflow) (21.3)\n",
      "Requirement already satisfied: Flask<3 in /Users/bharatwaajshankar/opt/anaconda3/envs/method-name-prediction/lib/python3.7/site-packages (from mlflow) (1.1.1)\n",
      "Requirement already satisfied: protobuf<5,>=3.12.0 in /Users/bharatwaajshankar/opt/anaconda3/envs/method-name-prediction/lib/python3.7/site-packages (from mlflow) (4.21.12)\n",
      "Requirement already satisfied: pyyaml<7,>=5.1 in /Users/bharatwaajshankar/opt/anaconda3/envs/method-name-prediction/lib/python3.7/site-packages (from mlflow) (6.0)\n",
      "Requirement already satisfied: databricks-cli<1,>=0.8.7 in /Users/bharatwaajshankar/opt/anaconda3/envs/method-name-prediction/lib/python3.7/site-packages (from mlflow) (0.17.4)\n",
      "Requirement already satisfied: pytz<2023 in /Users/bharatwaajshankar/opt/anaconda3/envs/method-name-prediction/lib/python3.7/site-packages (from mlflow) (2021.3)\n",
      "Requirement already satisfied: numpy<2 in /Users/bharatwaajshankar/opt/anaconda3/envs/method-name-prediction/lib/python3.7/site-packages (from mlflow) (1.21.6)\n",
      "Collecting alembic<2\n",
      "  Downloading alembic-1.9.4-py3-none-any.whl (210 kB)\n",
      "\u001b[2K     \u001b[90m━━━━━━━━━━━━━━━━━━━━━━━━━━━━━━━━━━━━━━\u001b[0m \u001b[32m210.5/210.5 kB\u001b[0m \u001b[31m19.5 MB/s\u001b[0m eta \u001b[36m0:00:00\u001b[0m\n",
      "\u001b[?25hRequirement already satisfied: gitpython<4,>=2.1.0 in /Users/bharatwaajshankar/opt/anaconda3/envs/method-name-prediction/lib/python3.7/site-packages (from mlflow) (3.1.31)\n",
      "Requirement already satisfied: pandas<2 in /Users/bharatwaajshankar/opt/anaconda3/envs/method-name-prediction/lib/python3.7/site-packages (from mlflow) (1.3.5)\n",
      "Collecting prometheus-flask-exporter<1\n",
      "  Downloading prometheus_flask_exporter-0.22.2-py3-none-any.whl (18 kB)\n",
      "Requirement already satisfied: requests<3,>=2.17.3 in /Users/bharatwaajshankar/opt/anaconda3/envs/method-name-prediction/lib/python3.7/site-packages (from mlflow) (2.27.1)\n",
      "Collecting docker<7,>=4.0.0\n",
      "  Downloading docker-6.0.1-py3-none-any.whl (147 kB)\n",
      "\u001b[2K     \u001b[90m━━━━━━━━━━━━━━━━━━━━━━━━━━━━━━━━━━━━━━\u001b[0m \u001b[32m147.5/147.5 kB\u001b[0m \u001b[31m16.7 MB/s\u001b[0m eta \u001b[36m0:00:00\u001b[0m\n",
      "\u001b[?25hRequirement already satisfied: sqlparse<1,>=0.4.0 in /Users/bharatwaajshankar/opt/anaconda3/envs/method-name-prediction/lib/python3.7/site-packages (from mlflow) (0.4.3)\n",
      "Collecting importlib-resources\n",
      "  Using cached importlib_resources-5.12.0-py3-none-any.whl (36 kB)\n",
      "Collecting Mako\n",
      "  Downloading Mako-1.2.4-py3-none-any.whl (78 kB)\n",
      "\u001b[2K     \u001b[90m━━━━━━━━━━━━━━━━━━━━━━━━━━━━━━━━━━━━━━━━\u001b[0m \u001b[32m78.7/78.7 kB\u001b[0m \u001b[31m10.3 MB/s\u001b[0m eta \u001b[36m0:00:00\u001b[0m\n",
      "\u001b[?25hRequirement already satisfied: tabulate>=0.7.7 in /Users/bharatwaajshankar/opt/anaconda3/envs/method-name-prediction/lib/python3.7/site-packages (from databricks-cli<1,>=0.8.7->mlflow) (0.9.0)\n",
      "Requirement already satisfied: six>=1.10.0 in /Users/bharatwaajshankar/opt/anaconda3/envs/method-name-prediction/lib/python3.7/site-packages (from databricks-cli<1,>=0.8.7->mlflow) (1.16.0)\n",
      "Requirement already satisfied: oauthlib>=3.1.0 in /Users/bharatwaajshankar/opt/anaconda3/envs/method-name-prediction/lib/python3.7/site-packages (from databricks-cli<1,>=0.8.7->mlflow) (3.2.2)\n",
      "Requirement already satisfied: pyjwt>=1.7.0 in /Users/bharatwaajshankar/opt/anaconda3/envs/method-name-prediction/lib/python3.7/site-packages (from databricks-cli<1,>=0.8.7->mlflow) (2.6.0)\n",
      "Collecting websocket-client>=0.32.0\n",
      "  Downloading websocket_client-1.5.1-py3-none-any.whl (55 kB)\n",
      "\u001b[2K     \u001b[90m━━━━━━━━━━━━━━━━━━━━━━━━━━━━━━━━━━━━━━━━\u001b[0m \u001b[32m55.9/55.9 kB\u001b[0m \u001b[31m7.0 MB/s\u001b[0m eta \u001b[36m0:00:00\u001b[0m\n",
      "\u001b[?25hRequirement already satisfied: urllib3>=1.26.0 in /Users/bharatwaajshankar/opt/anaconda3/envs/method-name-prediction/lib/python3.7/site-packages (from docker<7,>=4.0.0->mlflow) (1.26.8)\n",
      "Requirement already satisfied: itsdangerous>=0.24 in /Users/bharatwaajshankar/opt/anaconda3/envs/method-name-prediction/lib/python3.7/site-packages (from Flask<3->mlflow) (1.1.0)\n",
      "Requirement already satisfied: Werkzeug>=0.15 in /Users/bharatwaajshankar/opt/anaconda3/envs/method-name-prediction/lib/python3.7/site-packages (from Flask<3->mlflow) (0.15.5)\n",
      "Requirement already satisfied: Jinja2>=2.10.1 in /Users/bharatwaajshankar/opt/anaconda3/envs/method-name-prediction/lib/python3.7/site-packages (from Flask<3->mlflow) (2.10.1)\n",
      "Requirement already satisfied: gitdb<5,>=4.0.1 in /Users/bharatwaajshankar/opt/anaconda3/envs/method-name-prediction/lib/python3.7/site-packages (from gitpython<4,>=2.1.0->mlflow) (4.0.10)\n",
      "Requirement already satisfied: typing-extensions>=3.7.4.3 in /Users/bharatwaajshankar/opt/anaconda3/envs/method-name-prediction/lib/python3.7/site-packages (from gitpython<4,>=2.1.0->mlflow) (4.1.1)\n",
      "Requirement already satisfied: zipp>=0.5 in /Users/bharatwaajshankar/opt/anaconda3/envs/method-name-prediction/lib/python3.7/site-packages (from importlib-metadata!=4.7.0,<6,>=3.7.0->mlflow) (3.6.0)\n",
      "Requirement already satisfied: pyparsing!=3.0.5,>=2.0.2 in /Users/bharatwaajshankar/opt/anaconda3/envs/method-name-prediction/lib/python3.7/site-packages (from packaging<22->mlflow) (3.0.4)\n",
      "Requirement already satisfied: python-dateutil>=2.7.3 in /Users/bharatwaajshankar/opt/anaconda3/envs/method-name-prediction/lib/python3.7/site-packages (from pandas<2->mlflow) (2.8.2)\n",
      "Requirement already satisfied: prometheus-client in /Users/bharatwaajshankar/opt/anaconda3/envs/method-name-prediction/lib/python3.7/site-packages (from prometheus-flask-exporter<1->mlflow) (0.13.1)\n",
      "Requirement already satisfied: idna<4,>=2.5 in /Users/bharatwaajshankar/opt/anaconda3/envs/method-name-prediction/lib/python3.7/site-packages (from requests<3,>=2.17.3->mlflow) (3.3)\n",
      "Requirement already satisfied: certifi>=2017.4.17 in /Users/bharatwaajshankar/opt/anaconda3/envs/method-name-prediction/lib/python3.7/site-packages (from requests<3,>=2.17.3->mlflow) (2022.12.7)\n",
      "Requirement already satisfied: charset-normalizer~=2.0.0 in /Users/bharatwaajshankar/opt/anaconda3/envs/method-name-prediction/lib/python3.7/site-packages (from requests<3,>=2.17.3->mlflow) (2.0.4)\n",
      "Collecting greenlet!=0.4.17\n",
      "  Downloading greenlet-2.0.2-cp37-cp37m-macosx_10_15_x86_64.whl (240 kB)\n",
      "\u001b[2K     \u001b[90m━━━━━━━━━━━━━━━━━━━━━━━━━━━━━━━━━━━━━━\u001b[0m \u001b[32m240.1/240.1 kB\u001b[0m \u001b[31m17.8 MB/s\u001b[0m eta \u001b[36m0:00:00\u001b[0m\n",
      "\u001b[?25hRequirement already satisfied: smmap<6,>=3.0.1 in /Users/bharatwaajshankar/opt/anaconda3/envs/method-name-prediction/lib/python3.7/site-packages (from gitdb<5,>=4.0.1->gitpython<4,>=2.1.0->mlflow) (5.0.0)\n",
      "Requirement already satisfied: MarkupSafe>=0.23 in /Users/bharatwaajshankar/opt/anaconda3/envs/method-name-prediction/lib/python3.7/site-packages (from Jinja2>=2.10.1->Flask<3->mlflow) (1.1.1)\n",
      "Installing collected packages: websocket-client, querystring-parser, importlib-resources, greenlet, sqlalchemy, Mako, docker, alembic, prometheus-flask-exporter, mlflow\n",
      "Successfully installed Mako-1.2.4 alembic-1.9.4 docker-6.0.1 greenlet-2.0.2 importlib-resources-5.12.0 mlflow-1.30.0 prometheus-flask-exporter-0.22.2 querystring-parser-1.2.4 sqlalchemy-1.4.46 websocket-client-1.5.1\n"
     ]
    }
   ],
   "source": [
    "# Install MLFlow\n",
    "!pip install mlflow"
   ]
  },
  {
   "cell_type": "code",
   "execution_count": 5,
   "id": "f9fb566a-581c-4ae7-9644-63a7b2c210e2",
   "metadata": {},
   "outputs": [
    {
     "name": "stdout",
     "output_type": "stream",
     "text": [
      "[2023-02-25 03:30:40 -0400] [15925] [INFO] Starting gunicorn 19.9.0\n",
      "[2023-02-25 03:30:40 -0400] [15925] [INFO] Listening at: http://127.0.0.1:8081 (15925)\n",
      "[2023-02-25 03:30:40 -0400] [15925] [INFO] Using worker: sync\n",
      "[2023-02-25 03:30:40 -0400] [15929] [INFO] Booting worker with pid: 15929\n",
      "^C\n",
      "[2023-02-25 03:54:01 -0400] [15925] [INFO] Handling signal: int\n",
      "[2023-02-25 03:54:01 -0400] [15929] [INFO] Worker exiting (pid: 15929)\n"
     ]
    }
   ],
   "source": [
    "# Start the MLFlow UI\n",
    "!mlflow ui --port 8081"
   ]
  }
 ],
 "metadata": {
  "kernelspec": {
   "display_name": "Python 3 (ipykernel)",
   "language": "python",
   "name": "python3"
  },
  "language_info": {
   "codemirror_mode": {
    "name": "ipython",
    "version": 3
   },
   "file_extension": ".py",
   "mimetype": "text/x-python",
   "name": "python",
   "nbconvert_exporter": "python",
   "pygments_lexer": "ipython3",
   "version": "3.7.5"
  }
 },
 "nbformat": 4,
 "nbformat_minor": 5
}
