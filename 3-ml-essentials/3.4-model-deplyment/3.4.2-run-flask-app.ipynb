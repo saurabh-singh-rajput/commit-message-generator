{
 "cells": [
  {
   "cell_type": "markdown",
   "id": "4f334879-0ad3-4936-8565-e70f73c90056",
   "metadata": {},
   "source": [
    "# 1. Instructions"
   ]
  },
  {
   "cell_type": "markdown",
   "id": "7337c905-783a-4a21-8789-65a0a0437e3a",
   "metadata": {},
   "source": [
    "1. 3.4.1-income-prediction notebook has the EDA and the model that was trained and saved using the adult.csv data\n",
    "2. We are saving the model using pickle format\n",
    "3. We will be creating a simple index.html template to get user data\n",
    "4. In the flask server, we will serve two endpoints one to serve the UI, the other to serve the predicted results.\n",
    "5. Map the predicted results and the default UI using the render_template method\n",
    "6. Run the python flask app using **`python app.py`**"
   ]
  },
  {
   "cell_type": "code",
   "execution_count": 1,
   "id": "76efd401-5371-474c-87f4-748c287173a9",
   "metadata": {},
   "outputs": [
    {
     "name": "stdout",
     "output_type": "stream",
     "text": [
      "Requirement already satisfied: Flask==1.1.1 in /Users/bharatwaajshankar/opt/anaconda3/envs/method-name-prediction/lib/python3.7/site-packages (from -r requirements.txt (line 1)) (1.1.1)\n",
      "Requirement already satisfied: numpy>=1.9.2 in /Users/bharatwaajshankar/opt/anaconda3/envs/method-name-prediction/lib/python3.7/site-packages (from -r requirements.txt (line 2)) (1.21.6)\n",
      "Requirement already satisfied: scipy>=0.15.1 in /Users/bharatwaajshankar/opt/anaconda3/envs/method-name-prediction/lib/python3.7/site-packages (from -r requirements.txt (line 3)) (1.5.2)\n",
      "Requirement already satisfied: scikit-learn>=0.18 in /Users/bharatwaajshankar/opt/anaconda3/envs/method-name-prediction/lib/python3.7/site-packages (from -r requirements.txt (line 4)) (1.0.2)\n",
      "Requirement already satisfied: matplotlib>=1.4.3 in /Users/bharatwaajshankar/opt/anaconda3/envs/method-name-prediction/lib/python3.7/site-packages (from -r requirements.txt (line 5)) (3.5.3)\n",
      "Requirement already satisfied: pandas>=0.19 in /Users/bharatwaajshankar/opt/anaconda3/envs/method-name-prediction/lib/python3.7/site-packages (from -r requirements.txt (line 6)) (1.3.5)\n",
      "Requirement already satisfied: Werkzeug>=0.15 in /Users/bharatwaajshankar/opt/anaconda3/envs/method-name-prediction/lib/python3.7/site-packages (from Flask==1.1.1->-r requirements.txt (line 1)) (0.15.5)\n",
      "Requirement already satisfied: Jinja2>=2.10.1 in /Users/bharatwaajshankar/opt/anaconda3/envs/method-name-prediction/lib/python3.7/site-packages (from Flask==1.1.1->-r requirements.txt (line 1)) (2.10.1)\n",
      "Requirement already satisfied: click>=5.1 in /Users/bharatwaajshankar/opt/anaconda3/envs/method-name-prediction/lib/python3.7/site-packages (from Flask==1.1.1->-r requirements.txt (line 1)) (8.1.3)\n",
      "Requirement already satisfied: itsdangerous>=0.24 in /Users/bharatwaajshankar/opt/anaconda3/envs/method-name-prediction/lib/python3.7/site-packages (from Flask==1.1.1->-r requirements.txt (line 1)) (1.1.0)\n",
      "Requirement already satisfied: joblib>=0.11 in /Users/bharatwaajshankar/opt/anaconda3/envs/method-name-prediction/lib/python3.7/site-packages (from scikit-learn>=0.18->-r requirements.txt (line 4)) (1.2.0)\n",
      "Requirement already satisfied: threadpoolctl>=2.0.0 in /Users/bharatwaajshankar/opt/anaconda3/envs/method-name-prediction/lib/python3.7/site-packages (from scikit-learn>=0.18->-r requirements.txt (line 4)) (3.1.0)\n",
      "Requirement already satisfied: cycler>=0.10 in /Users/bharatwaajshankar/opt/anaconda3/envs/method-name-prediction/lib/python3.7/site-packages (from matplotlib>=1.4.3->-r requirements.txt (line 5)) (0.11.0)\n",
      "Requirement already satisfied: kiwisolver>=1.0.1 in /Users/bharatwaajshankar/opt/anaconda3/envs/method-name-prediction/lib/python3.7/site-packages (from matplotlib>=1.4.3->-r requirements.txt (line 5)) (1.4.4)\n",
      "Requirement already satisfied: python-dateutil>=2.7 in /Users/bharatwaajshankar/opt/anaconda3/envs/method-name-prediction/lib/python3.7/site-packages (from matplotlib>=1.4.3->-r requirements.txt (line 5)) (2.8.2)\n",
      "Requirement already satisfied: pillow>=6.2.0 in /Users/bharatwaajshankar/opt/anaconda3/envs/method-name-prediction/lib/python3.7/site-packages (from matplotlib>=1.4.3->-r requirements.txt (line 5)) (9.4.0)\n",
      "Requirement already satisfied: pyparsing>=2.2.1 in /Users/bharatwaajshankar/opt/anaconda3/envs/method-name-prediction/lib/python3.7/site-packages (from matplotlib>=1.4.3->-r requirements.txt (line 5)) (3.0.4)\n",
      "Requirement already satisfied: packaging>=20.0 in /Users/bharatwaajshankar/opt/anaconda3/envs/method-name-prediction/lib/python3.7/site-packages (from matplotlib>=1.4.3->-r requirements.txt (line 5)) (21.3)\n",
      "Requirement already satisfied: fonttools>=4.22.0 in /Users/bharatwaajshankar/opt/anaconda3/envs/method-name-prediction/lib/python3.7/site-packages (from matplotlib>=1.4.3->-r requirements.txt (line 5)) (4.38.0)\n",
      "Requirement already satisfied: pytz>=2017.3 in /Users/bharatwaajshankar/opt/anaconda3/envs/method-name-prediction/lib/python3.7/site-packages (from pandas>=0.19->-r requirements.txt (line 6)) (2021.3)\n",
      "Requirement already satisfied: importlib-metadata in /Users/bharatwaajshankar/opt/anaconda3/envs/method-name-prediction/lib/python3.7/site-packages (from click>=5.1->Flask==1.1.1->-r requirements.txt (line 1)) (4.8.1)\n",
      "Requirement already satisfied: MarkupSafe>=0.23 in /Users/bharatwaajshankar/opt/anaconda3/envs/method-name-prediction/lib/python3.7/site-packages (from Jinja2>=2.10.1->Flask==1.1.1->-r requirements.txt (line 1)) (1.1.1)\n",
      "Requirement already satisfied: typing-extensions in /Users/bharatwaajshankar/opt/anaconda3/envs/method-name-prediction/lib/python3.7/site-packages (from kiwisolver>=1.0.1->matplotlib>=1.4.3->-r requirements.txt (line 5)) (4.1.1)\n",
      "Requirement already satisfied: six>=1.5 in /Users/bharatwaajshankar/opt/anaconda3/envs/method-name-prediction/lib/python3.7/site-packages (from python-dateutil>=2.7->matplotlib>=1.4.3->-r requirements.txt (line 5)) (1.16.0)\n",
      "Requirement already satisfied: zipp>=0.5 in /Users/bharatwaajshankar/opt/anaconda3/envs/method-name-prediction/lib/python3.7/site-packages (from importlib-metadata->click>=5.1->Flask==1.1.1->-r requirements.txt (line 1)) (3.6.0)\n"
     ]
    }
   ],
   "source": [
    "# Installing the required application requirements using pip\n",
    "!pip install -r requirements.txt"
   ]
  },
  {
   "cell_type": "code",
   "execution_count": 3,
   "id": "7b23e86f-d580-485c-83e2-fdb008c50904",
   "metadata": {},
   "outputs": [
    {
     "name": "stdout",
     "output_type": "stream",
     "text": [
      "/Users/bharatwaajshankar/opt/anaconda3/envs/method-name-prediction/lib/python3.7/site-packages/sklearn/base.py:338: UserWarning: Trying to unpickle estimator DummyClassifier from version 0.22.1 when using version 1.0.2. This might lead to breaking code or invalid results. Use at your own risk. For more info please refer to:\n",
      "https://scikit-learn.org/stable/modules/model_persistence.html#security-maintainability-limitations\n",
      "  UserWarning,\n",
      "/Users/bharatwaajshankar/opt/anaconda3/envs/method-name-prediction/lib/python3.7/site-packages/sklearn/base.py:338: UserWarning: Trying to unpickle estimator DecisionTreeRegressor from version 0.22.1 when using version 1.0.2. This might lead to breaking code or invalid results. Use at your own risk. For more info please refer to:\n",
      "https://scikit-learn.org/stable/modules/model_persistence.html#security-maintainability-limitations\n",
      "  UserWarning,\n",
      "/Users/bharatwaajshankar/opt/anaconda3/envs/method-name-prediction/lib/python3.7/site-packages/sklearn/base.py:338: UserWarning: Trying to unpickle estimator GradientBoostingClassifier from version 0.22.1 when using version 1.0.2. This might lead to breaking code or invalid results. Use at your own risk. For more info please refer to:\n",
      "https://scikit-learn.org/stable/modules/model_persistence.html#security-maintainability-limitations\n",
      "  UserWarning,\n",
      " * Debugger is active!\n",
      " * Debugger PIN: 271-531-553\n",
      " * Running on http://127.0.0.1:8080/ (Press CTRL+C to quit)\n",
      "127.0.0.1 - - [25/Feb/2023 02:54:09] \"\u001b[37mGET / HTTP/1.1\u001b[0m\" 200 -\n",
      "^C\n"
     ]
    }
   ],
   "source": [
    "# Run the python application\n",
    "!python app.py"
   ]
  },
  {
   "cell_type": "code",
   "execution_count": null,
   "id": "db90adb3-9489-41d4-b954-eca91fc8aaf6",
   "metadata": {},
   "outputs": [],
   "source": []
  }
 ],
 "metadata": {
  "kernelspec": {
   "display_name": "Python 3 (ipykernel)",
   "language": "python",
   "name": "python3"
  },
  "language_info": {
   "codemirror_mode": {
    "name": "ipython",
    "version": 3
   },
   "file_extension": ".py",
   "mimetype": "text/x-python",
   "name": "python",
   "nbconvert_exporter": "python",
   "pygments_lexer": "ipython3",
   "version": "3.7.5"
  }
 },
 "nbformat": 4,
 "nbformat_minor": 5
}
