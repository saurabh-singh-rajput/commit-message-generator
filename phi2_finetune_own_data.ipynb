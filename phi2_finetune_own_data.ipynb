{
  "cells": [
    {
      "cell_type": "markdown",
      "metadata": {
        "id": "view-in-github",
        "colab_type": "text"
      },
      "source": [
        "<a href=\"https://colab.research.google.com/github/saurabh-singh-rajput/commit-message-generator/blob/main/phi2_finetune_own_data.ipynb\" target=\"_parent\"><img src=\"https://colab.research.google.com/assets/colab-badge.svg\" alt=\"Open In Colab\"/></a>"
      ]
    },
    {
      "cell_type": "markdown",
      "metadata": {
        "id": "xFCx6jZU3m11"
      },
      "source": [
        "<!-- Banner Image -->\n",
        "<img src=\"https://uohmivykqgnnbiouffke.supabase.co/storage/v1/object/public/landingpage/brev-xmas-3.png\" width=\"100%\">\n",
        "\n",
        "<!-- Links -->\n",
        "<center>\n",
        "  <a href=\"https://console.brev.dev\" style=\"color: #06b6d4;\">Console</a> •\n",
        "  <a href=\"https://brev.dev\" style=\"color: #06b6d4;\">Docs</a> •\n",
        "  <a href=\"/\" style=\"color: #06b6d4;\">Templates</a> •\n",
        "  <a href=\"https://discord.gg/NVDyv7TUgJ\" style=\"color: #06b6d4;\">Discord</a>\n",
        "</center>\n",
        "\n",
        "# Fine-tuning Microsoft's Phi-2 on your own data 🤙\n",
        "\n",
        "Welcome!\n",
        "\n",
        "In this notebook and tutorial, we will fine-tune [Microsoft's Phi-2](https://huggingface.co/microsoft/phi-2) relatively small 2.7B model - which has \"showcased a nearly state-of-the-art performance among models with less than 13 billion parameters\" - ***on your own data!***\n",
        "\n",
        "## Watch the accompanying video walk-through (but for Mistral 7B) [here](https://youtu.be/kmkcNVvEz-k?si=Ogt1wRFNqYI6zXfw&t=1)!\n",
        "If you'd like to see a notebook to fine-tune Phi-2 on a Hugging Face dataset instead, click [here](https://github.com/brevdev/notebooks/blob/main/phi2-finetune-own-data.ipynb).\n",
        "\n",
        "I did this for **just one dollar ($1)** on an 1x A10G 24GB from Brev.dev (instructions below).\n",
        "\n",
        "This tutorial will use QLoRA, a fine-tuning method that combines quantization and LoRA. For more information about what those are and how they work, see [this post](https://brev.dev/blog/how-qlora-works).\n",
        "\n",
        "Note that if you ever have trouble importing something from Huggingface, you may need to run `huggingface-cli login` in a shell. To open a shell in Jupyter Lab, click on 'Launcher' (or the '+' if it's not there) next to the notebook tab at the top of the screen. Under \"Other\", click \"Terminal\" and then run the command.\n",
        "\n",
        "### Help us make this tutorial better! Please provide feedback on the [Discord channel](https://discord.gg/RN2a436M73) or on [X](https://x.com/harperscarroll)."
      ]
    },
    {
      "cell_type": "markdown",
      "metadata": {
        "id": "G9TytWkb3m15"
      },
      "source": [
        "#### Before we begin: A note on OOM errors\n",
        "\n",
        "If you get an error like this: `OutOfMemoryError: CUDA out of memory`, tweak your parameters to make the model less computationally intensive. I will help guide you through that in this guide, and if you have any additional questions you can reach out on the [Discord channel](https://discord.gg/RN2a436M73) or on [X](https://x.com/harperscarroll).\n",
        "\n",
        "To re-try after you tweak your parameters, open a Terminal ('Launcher' or '+' in the nav bar above -> Other -> Terminal) and run the command `nvidia-smi`. Then find the process ID `PID` under `Processes` and run the command `kill [PID]`. You will need to re-start your notebook from the beginning. (There may be a better way to do this... if so please do let me know!)"
      ]
    },
    {
      "cell_type": "markdown",
      "metadata": {
        "id": "VC-9m2yv3m18"
      },
      "source": [
        "## Let's begin!\n",
        "### 0. Preparing data\n",
        "\n",
        "Before you check out a GPU, prepare your dataset for loading and training.\n",
        "\n",
        "To prepare your dataset for loading, all you need are two `.jsonl` files structured something like this:\n",
        "```\n",
        "{\"input\": \"What color is the sky?\", \"output\": \"The sky is blue.\"}\n",
        "{\"input\": \"Where is the best place to get cloud GPUs?\", \"output\": \"Brev.dev\"}\n",
        "```\n",
        "If you choose to model your data as input/output pairs, you'll want to use something like the second `formatting_func` below, which will will combine all your features into one input string.\n",
        "\n",
        "As you can see below, I have `notes.jsonl` for my `train_dataset` and `notes_validation.jsonl` for my `eval_dataset`.\n",
        "\n",
        "I used Exporter, a free local-only app, to export my Apple Notes to `.txt` files, and then I wrote a script to process each note into one `.jsonl` file. Note that for this script, ChatGPT can help out a LOT if you tell it how your data is currently formatted, how you'd like it to be formatted, and ask it to write a script in a certain language you know well (for any debugging) to do so. I also broke up my journal entries so the training sample vector length was smaller (see the discussion on `max_length` and the data visualization below). I broke it into pieces so that contexts were encapsulated entirely, since I did want the model to understand context about my life. My data were ultimately formatted as:\n",
        "\n",
        "```json\n",
        "{\"note\": \"journal-entry-for-model-to-predict\"}\n",
        "{\"note\": \"journal-entry-for-model-to-predict-1\"}\n",
        "{\"note\": \"journal-entry-for-model-to-predict-2\"}\n",
        "```"
      ]
    },
    {
      "cell_type": "markdown",
      "metadata": {
        "id": "E2CkxsA43m15"
      },
      "source": [
        "### 1. Set Up GPU\n",
        "\n",
        "I used a GPU and dev environment from [brev.dev](https://brev.dev). The whole thing cost me $1 using a 1xA10G 24GB. Click the badge below to get your preconfigured instance:\n",
        "\n",
        "[![](https://uohmivykqgnnbiouffke.supabase.co/storage/v1/object/public/landingpage/brevdeploynavy.svg)](https://console.brev.dev/environment/new?instance=A10G:g5.xlarge&diskStorage=256&name=phi2-finetune-own-data&file=https://github.com/brevdev/notebooks/raw/main/phi2-finetune-own-data.ipynb&python=3.10&cuda=12.1.1)\n",
        "\n",
        "A single A10G (as linked) with 24GB GPU Memory was enough for me. You may need more GPUs and/or Memory if your sequence max_length is larger than 512.\n",
        "\n",
        "Once you've checked out your machine and landed in your instance page, select the specs you'd like (I used **Python 3.10 and CUDA 12.1.1**; these should be preconfigured for you if you use the badge above) and click the \"Build\" button to build your verb container. Give this a few minutes.\n",
        "\n",
        "A few minutes after your model has started Running, click the 'Notebook' button on the top right of your screen once it illuminates (you may need to refresh the screen). You will be taken to a Jupyter Lab environment, where you can upload this Notebook.\n",
        "\n",
        "\n",
        "Note: You can connect your cloud credits (AWS or GCP) by clicking \"Org: \" on the top right, and in the panel that slides over, click \"Connect AWS\" or \"Connect GCP\" under \"Connect your cloud\" and follow the instructions linked to attach your credentials."
      ]
    },
    {
      "cell_type": "code",
      "execution_count": 1,
      "metadata": {
        "id": "FuXIFTFapAMI",
        "outputId": "a63cbe9a-a5cd-47ad-dda1-34e229f5b2d9",
        "colab": {
          "base_uri": "https://localhost:8080/"
        }
      },
      "outputs": [
        {
          "output_type": "stream",
          "name": "stdout",
          "text": [
            "\u001b[2K     \u001b[90m━━━━━━━━━━━━━━━━━━━━━━━━━━━━━━━━━━━━━━━━\u001b[0m \u001b[32m92.6/92.6 MB\u001b[0m \u001b[31m6.4 MB/s\u001b[0m eta \u001b[36m0:00:00\u001b[0m\n",
            "\u001b[?25h  Installing build dependencies ... \u001b[?25l\u001b[?25hdone\n",
            "  Getting requirements to build wheel ... \u001b[?25l\u001b[?25hdone\n",
            "  Preparing metadata (pyproject.toml) ... \u001b[?25l\u001b[?25hdone\n",
            "  Building wheel for transformers (pyproject.toml) ... \u001b[?25l\u001b[?25hdone\n",
            "  Installing build dependencies ... \u001b[?25l\u001b[?25hdone\n",
            "  Getting requirements to build wheel ... \u001b[?25l\u001b[?25hdone\n",
            "  Preparing metadata (pyproject.toml) ... \u001b[?25l\u001b[?25hdone\n",
            "\u001b[2K     \u001b[90m━━━━━━━━━━━━━━━━━━━━━━━━━━━━━━━━━━━━━━━━\u001b[0m \u001b[32m265.7/265.7 kB\u001b[0m \u001b[31m3.3 MB/s\u001b[0m eta \u001b[36m0:00:00\u001b[0m\n",
            "\u001b[?25h  Building wheel for peft (pyproject.toml) ... \u001b[?25l\u001b[?25hdone\n",
            "  Installing build dependencies ... \u001b[?25l\u001b[?25hdone\n",
            "  Getting requirements to build wheel ... \u001b[?25l\u001b[?25hdone\n",
            "  Preparing metadata (pyproject.toml) ... \u001b[?25l\u001b[?25hdone\n",
            "  Building wheel for accelerate (pyproject.toml) ... \u001b[?25l\u001b[?25hdone\n",
            "\u001b[2K     \u001b[90m━━━━━━━━━━━━━━━━━━━━━━━━━━━━━━━━━━━━━━━━\u001b[0m \u001b[32m507.1/507.1 kB\u001b[0m \u001b[31m7.2 MB/s\u001b[0m eta \u001b[36m0:00:00\u001b[0m\n",
            "\u001b[2K     \u001b[90m━━━━━━━━━━━━━━━━━━━━━━━━━━━━━━━━━━━━━━━━\u001b[0m \u001b[32m139.4/139.4 kB\u001b[0m \u001b[31m9.5 MB/s\u001b[0m eta \u001b[36m0:00:00\u001b[0m\n",
            "\u001b[2K     \u001b[90m━━━━━━━━━━━━━━━━━━━━━━━━━━━━━━━━━━━━━━━━\u001b[0m \u001b[32m11.6/11.6 MB\u001b[0m \u001b[31m38.3 MB/s\u001b[0m eta \u001b[36m0:00:00\u001b[0m\n",
            "\u001b[2K     \u001b[90m━━━━━━━━━━━━━━━━━━━━━━━━━━━━━━━━━━━━━━━━\u001b[0m \u001b[32m44.6/44.6 kB\u001b[0m \u001b[31m7.6 MB/s\u001b[0m eta \u001b[36m0:00:00\u001b[0m\n",
            "\u001b[2K     \u001b[90m━━━━━━━━━━━━━━━━━━━━━━━━━━━━━━━━━━━━━━━━\u001b[0m \u001b[32m115.3/115.3 kB\u001b[0m \u001b[31m18.1 MB/s\u001b[0m eta \u001b[36m0:00:00\u001b[0m\n",
            "\u001b[2K     \u001b[90m━━━━━━━━━━━━━━━━━━━━━━━━━━━━━━━━━━━━━━━━\u001b[0m \u001b[32m134.8/134.8 kB\u001b[0m \u001b[31m23.3 MB/s\u001b[0m eta \u001b[36m0:00:00\u001b[0m\n",
            "\u001b[2K     \u001b[90m━━━━━━━━━━━━━━━━━━━━━━━━━━━━━━━━━━━━━━━━\u001b[0m \u001b[32m2.3/2.3 MB\u001b[0m \u001b[31m60.7 MB/s\u001b[0m eta \u001b[36m0:00:00\u001b[0m\n",
            "\u001b[2K     \u001b[90m━━━━━━━━━━━━━━━━━━━━━━━━━━━━━━━━━━━━━━━━\u001b[0m \u001b[32m1.6/1.6 MB\u001b[0m \u001b[31m63.8 MB/s\u001b[0m eta \u001b[36m0:00:00\u001b[0m\n",
            "\u001b[?25h\u001b[31mERROR: pip's dependency resolver does not currently take into account all the packages that are installed. This behaviour is the source of the following dependency conflicts.\n",
            "lida 0.0.10 requires fastapi, which is not installed.\n",
            "lida 0.0.10 requires kaleido, which is not installed.\n",
            "lida 0.0.10 requires python-multipart, which is not installed.\n",
            "lida 0.0.10 requires uvicorn, which is not installed.\u001b[0m\u001b[31m\n",
            "\u001b[0m"
          ]
        }
      ],
      "source": [
        "# You only need to run this once per machine\n",
        "!pip install -q -U bitsandbytes\n",
        "!pip install -q -U git+https://github.com/huggingface/transformers.git\n",
        "!pip install -q -U git+https://github.com/huggingface/peft.git\n",
        "!pip install -q -U git+https://github.com/huggingface/accelerate.git\n",
        "!pip install -q -U datasets scipy ipywidgets matplotlib einops"
      ]
    },
    {
      "cell_type": "markdown",
      "metadata": {
        "id": "05H5MIfjyRgc"
      },
      "source": [
        "#### Accelerator\n",
        "\n",
        "Set up the Accelerator. I'm not sure if we really need this for a QLoRA given its [description](https://huggingface.co/docs/accelerate/v0.19.0/en/usage_guides/fsdp) (I have to read more about it) but it seems it can't hurt, and it's helpful to have the code for future reference. You can always comment out the accelerator if you want to try without."
      ]
    },
    {
      "cell_type": "code",
      "execution_count": 2,
      "metadata": {
        "id": "TEzYBadkyRgd"
      },
      "outputs": [],
      "source": [
        "from accelerate import FullyShardedDataParallelPlugin, Accelerator\n",
        "from torch.distributed.fsdp.fully_sharded_data_parallel import FullOptimStateDictConfig, FullStateDictConfig\n",
        "\n",
        "fsdp_plugin = FullyShardedDataParallelPlugin(\n",
        "    state_dict_config=FullStateDictConfig(offload_to_cpu=True, rank0_only=False),\n",
        "    optim_state_dict_config=FullOptimStateDictConfig(offload_to_cpu=True, rank0_only=False),\n",
        ")\n",
        "\n",
        "accelerator = Accelerator(fsdp_plugin=fsdp_plugin)"
      ]
    },
    {
      "cell_type": "markdown",
      "metadata": {
        "id": "-9KNTJZkyRgn"
      },
      "source": [
        "#### Weights & Biases\n",
        "\n",
        "Let's use Weights & Biases to track our training metrics. You'll need to apply an API key when prompted. Feel free to skip this if you'd like, and just comment out the `wandb` parameters in the `Trainer` definition below."
      ]
    },
    {
      "cell_type": "code",
      "execution_count": 3,
      "metadata": {
        "id": "DDqUNyIoyRgo",
        "colab": {
          "base_uri": "https://localhost:8080/",
          "height": 173
        },
        "outputId": "04746af0-9898-4dc2-e309-61655ddf6750"
      },
      "outputs": [
        {
          "output_type": "stream",
          "name": "stdout",
          "text": [
            "\u001b[2K     \u001b[90m━━━━━━━━━━━━━━━━━━━━━━━━━━━━━━━━━━━━━━━━\u001b[0m \u001b[32m2.1/2.1 MB\u001b[0m \u001b[31m12.5 MB/s\u001b[0m eta \u001b[36m0:00:00\u001b[0m\n",
            "\u001b[2K     \u001b[90m━━━━━━━━━━━━━━━━━━━━━━━━━━━━━━━━━━━━━━━━\u001b[0m \u001b[32m190.6/190.6 kB\u001b[0m \u001b[31m14.3 MB/s\u001b[0m eta \u001b[36m0:00:00\u001b[0m\n",
            "\u001b[2K     \u001b[90m━━━━━━━━━━━━━━━━━━━━━━━━━━━━━━━━━━━━━━━━\u001b[0m \u001b[32m254.1/254.1 kB\u001b[0m \u001b[31m17.5 MB/s\u001b[0m eta \u001b[36m0:00:00\u001b[0m\n",
            "\u001b[2K     \u001b[90m━━━━━━━━━━━━━━━━━━━━━━━━━━━━━━━━━━━━━━━━\u001b[0m \u001b[32m62.7/62.7 kB\u001b[0m \u001b[31m10.6 MB/s\u001b[0m eta \u001b[36m0:00:00\u001b[0m\n",
            "\u001b[?25h"
          ]
        },
        {
          "output_type": "display_data",
          "data": {
            "text/plain": [
              "<IPython.core.display.Javascript object>"
            ],
            "application/javascript": [
              "\n",
              "        window._wandbApiKey = new Promise((resolve, reject) => {\n",
              "            function loadScript(url) {\n",
              "            return new Promise(function(resolve, reject) {\n",
              "                let newScript = document.createElement(\"script\");\n",
              "                newScript.onerror = reject;\n",
              "                newScript.onload = resolve;\n",
              "                document.body.appendChild(newScript);\n",
              "                newScript.src = url;\n",
              "            });\n",
              "            }\n",
              "            loadScript(\"https://cdn.jsdelivr.net/npm/postmate/build/postmate.min.js\").then(() => {\n",
              "            const iframe = document.createElement('iframe')\n",
              "            iframe.style.cssText = \"width:0;height:0;border:none\"\n",
              "            document.body.appendChild(iframe)\n",
              "            const handshake = new Postmate({\n",
              "                container: iframe,\n",
              "                url: 'https://wandb.ai/authorize'\n",
              "            });\n",
              "            const timeout = setTimeout(() => reject(\"Couldn't auto authenticate\"), 5000)\n",
              "            handshake.then(function(child) {\n",
              "                child.on('authorize', data => {\n",
              "                    clearTimeout(timeout)\n",
              "                    resolve(data)\n",
              "                });\n",
              "            });\n",
              "            })\n",
              "        });\n",
              "    "
            ]
          },
          "metadata": {}
        },
        {
          "output_type": "stream",
          "name": "stderr",
          "text": [
            "\u001b[34m\u001b[1mwandb\u001b[0m: Logging into wandb.ai. (Learn how to deploy a W&B server locally: https://wandb.me/wandb-server)\n",
            "\u001b[34m\u001b[1mwandb\u001b[0m: You can find your API key in your browser here: https://wandb.ai/authorize\n",
            "wandb: Paste an API key from your profile and hit enter, or press ctrl+c to quit:"
          ]
        },
        {
          "name": "stdout",
          "output_type": "stream",
          "text": [
            " ··········\n"
          ]
        },
        {
          "output_type": "stream",
          "name": "stderr",
          "text": [
            "\u001b[34m\u001b[1mwandb\u001b[0m: Appending key for api.wandb.ai to your netrc file: /root/.netrc\n"
          ]
        }
      ],
      "source": [
        "!pip install -q wandb -U\n",
        "\n",
        "import wandb, os\n",
        "wandb.login()\n",
        "\n",
        "wandb_project = \"journal-finetune\"\n",
        "if len(wandb_project) > 0:\n",
        "    os.environ[\"WANDB_PROJECT\"] = wandb_project"
      ]
    },
    {
      "cell_type": "markdown",
      "metadata": {
        "id": "eBAN-Nod5wP2"
      },
      "source": [
        "### 2. Load Dataset"
      ]
    },
    {
      "cell_type": "code",
      "execution_count": 9,
      "metadata": {
        "id": "s6f4z8EYmcJ6"
      },
      "outputs": [],
      "source": [
        "from datasets import load_dataset\n",
        "\n",
        "# train_dataset = load_dataset('json', data_files='notes.jsonl', split='train')\n",
        "# eval_dataset = load_dataset('json', data_files='notes_validation.jsonl', split='train')"
      ]
    },
    {
      "cell_type": "code",
      "execution_count": 11,
      "metadata": {
        "id": "sRY0cmMF9f4M"
      },
      "outputs": [],
      "source": [
        "import pandas as pd\n",
        "data = pd.read_csv(\"filtered_data.csv\")"
      ]
    },
    {
      "cell_type": "code",
      "execution_count": 12,
      "metadata": {
        "id": "7waorpR_gcxo"
      },
      "outputs": [],
      "source": [
        "# Dropping the unnecessary index column: \"Unnamed: 0\"\n",
        "\n",
        "data.drop(data.columns[0], inplace=True, axis=1)"
      ]
    },
    {
      "cell_type": "code",
      "execution_count": 13,
      "metadata": {
        "id": "HBkFJwcKgi8V"
      },
      "outputs": [],
      "source": [
        "# Renaming the column\n",
        "\n",
        "data.rename(columns = {'diff':'commits'}, inplace=True)"
      ]
    },
    {
      "cell_type": "markdown",
      "metadata": {
        "id": "wDeb2spGa7gy"
      },
      "source": [
        "### Train and test splits\n",
        "\n",
        "85% of the data is for training\n",
        "\n",
        "15% of the data is for validation\n",
        "\n",
        "We have a seperate set for testing the data"
      ]
    },
    {
      "cell_type": "code",
      "execution_count": 14,
      "metadata": {
        "id": "b-Ijvxgga-Za"
      },
      "outputs": [],
      "source": [
        "val_data = data.iloc[:int(len(data)*0.085),:]\n",
        "train_data = data.iloc[int(len(data)*0.085):,:]"
      ]
    },
    {
      "cell_type": "markdown",
      "metadata": {
        "id": "sefCw2f2o0D3"
      },
      "source": [
        "Resetting indexes after the split"
      ]
    },
    {
      "cell_type": "code",
      "execution_count": 15,
      "metadata": {
        "id": "-6qTMgc7a-cA"
      },
      "outputs": [],
      "source": [
        "val_data.reset_index(drop=True, inplace=True)\n",
        "train_data.reset_index(drop=True, inplace=True)"
      ]
    },
    {
      "cell_type": "code",
      "execution_count": 16,
      "metadata": {
        "id": "Jpho9Stvm8-S"
      },
      "outputs": [],
      "source": [
        "import pyarrow as pa\n",
        "from datasets import Dataset"
      ]
    },
    {
      "cell_type": "code",
      "execution_count": 18,
      "metadata": {
        "id": "BYZY-P-bpjFu"
      },
      "outputs": [],
      "source": [
        "# convert to pyarrow datatype\n",
        "train_dataset = Dataset(pa.Table.from_pandas(train_data))\n",
        "eval_dataset = Dataset(pa.Table.from_pandas(val_data))"
      ]
    },
    {
      "cell_type": "markdown",
      "metadata": {
        "id": "uhw8JiOr3m18"
      },
      "source": [
        "#### Formatting prompts\n",
        "Then create a `formatting_func` to structure training examples as prompts."
      ]
    },
    {
      "cell_type": "code",
      "execution_count": 24,
      "metadata": {
        "id": "f-fJR0MlQiTD"
      },
      "outputs": [],
      "source": [
        "def formatting_func(example):\n",
        "    text = f\"### Question: {example['commits']}\\n ### Answer: {example['message']}\"\n",
        "    return text"
      ]
    },
    {
      "cell_type": "markdown",
      "metadata": {
        "id": "sflV0DL2P64_"
      },
      "source": [
        "Here's another common one(if you have dataset that just has \"single statements\" like code snippets for each sample and not input-output statement pairs like commit-message pairs.):\n",
        "\n",
        "```python\n",
        "def formatting_func(example):\n",
        "    text = f\"### The following is a not by Eevee the Dog: {example['note']}\"\n",
        "    return text\n",
        "```"
      ]
    },
    {
      "cell_type": "markdown",
      "metadata": {
        "id": "shz8Xdv-yRgf"
      },
      "source": [
        "### 3. Load Base Model"
      ]
    },
    {
      "cell_type": "markdown",
      "metadata": {
        "id": "MJ-5idQwzvg-"
      },
      "source": [
        "Let's now load Phi-2 using 8-bit quantization!"
      ]
    },
    {
      "cell_type": "code",
      "execution_count": 25,
      "metadata": {
        "colab": {
          "referenced_widgets": [
            "5689c871fc8b455eb9843fce4923177c",
            "7a7c0020e385463fba66347b3630affc",
            "9ba7bec26d194d3fba8982483454324e",
            "8a8ce388c8914eea99766b5540c92676",
            "73cddd2ea62e4d058f495a21e2fca51f",
            "b3f961b0f7a3458fac3e9a1671e25adc",
            "93ea1712d0ad4ed5a21191a27a16f6c9",
            "765885d3ec83482ab137ed1f2051a604",
            "c3203f5e5a51451b919f086ddb8cddc1",
            "011cf4009c29412ea9eac87ea68b0084",
            "a1ac1cd144fd4b36af39473cb8a22853"
          ],
          "base_uri": "https://localhost:8080/",
          "height": 17
        },
        "id": "E0Nl5mWL0k2T",
        "outputId": "58775294-5d6e-4461-9170-ef01ddb1c07d"
      },
      "outputs": [
        {
          "output_type": "display_data",
          "data": {
            "text/plain": [
              "Loading checkpoint shards:   0%|          | 0/2 [00:00<?, ?it/s]"
            ],
            "application/vnd.jupyter.widget-view+json": {
              "version_major": 2,
              "version_minor": 0,
              "model_id": "5689c871fc8b455eb9843fce4923177c"
            }
          },
          "metadata": {}
        }
      ],
      "source": [
        "import torch\n",
        "from transformers import AutoTokenizer, AutoModelForCausalLM\n",
        "\n",
        "base_model_id = \"microsoft/phi-2\"\n",
        "model = AutoModelForCausalLM.from_pretrained(base_model_id, trust_remote_code=True, torch_dtype=torch.float16, load_in_8bit=True)"
      ]
    },
    {
      "cell_type": "markdown",
      "metadata": {
        "id": "UjNdXolqyRgf"
      },
      "source": [
        "### 4. Tokenization\n",
        "\n",
        "Set up the tokenizer. Add padding on the left as it [makes training use less memory](https://ai.stackexchange.com/questions/41485/while-fine-tuning-a-decoder-only-llm-like-llama-on-chat-dataset-what-kind-of-pa).\n",
        "\n",
        "\n",
        "For `model_max_length`, it's helpful to get a distribution of your data lengths. Let's first tokenize without the truncation/padding, so we can get a length distribution."
      ]
    },
    {
      "cell_type": "code",
      "execution_count": 26,
      "metadata": {
        "id": "haSUDD9HyRgf",
        "outputId": "5e3fd19d-11ff-448c-e824-412d8fae5601",
        "colab": {
          "base_uri": "https://localhost:8080/"
        }
      },
      "outputs": [
        {
          "output_type": "stream",
          "name": "stderr",
          "text": [
            "Special tokens have been added in the vocabulary, make sure the associated word embeddings are fine-tuned or trained.\n"
          ]
        }
      ],
      "source": [
        "tokenizer = AutoTokenizer.from_pretrained(\n",
        "    base_model_id,\n",
        "    padding_side=\"left\",\n",
        "    add_eos_token=True,\n",
        "    add_bos_token=True,\n",
        "    use_fast=False, # needed for now, should be fixed soon\n",
        ")\n",
        "tokenizer.pad_token = tokenizer.eos_token\n",
        "\n",
        "def generate_and_tokenize_prompt(prompt):\n",
        "    return tokenizer(formatting_func(prompt))"
      ]
    },
    {
      "cell_type": "markdown",
      "metadata": {
        "id": "WHnKLcq4yRgg"
      },
      "source": [
        "Reformat the prompt and tokenize each sample:"
      ]
    },
    {
      "cell_type": "code",
      "execution_count": 27,
      "metadata": {
        "id": "S3iLAwLh3m19",
        "colab": {
          "base_uri": "https://localhost:8080/",
          "height": 17,
          "referenced_widgets": [
            "ee7486b8fbf7448181bd52be45465941",
            "257b51dd27fa4f6cbaa82f6b4f815d0e",
            "d1935a2f9a274c5aabccd6fcadd4e282",
            "dc7d6e007e354b909517d4b965b09159",
            "7280ebd0969d4a7a81d2cde232e2a189",
            "8e1fcec412cf49c1bd855bbac5884863",
            "e83c47805ba14efe89b11329bd45020d",
            "a0119ecbc068413abffd9d607099bbc7",
            "565cca5880e84e2986b8e3bd583777a1",
            "8c5c4f2d4d4443049af64c067a34b600",
            "887278423dc449d6991987600f258cee",
            "14a8b0d550094d72bdf460cec6e8ab21",
            "e170dfd4bbd940e8b25a984c2021157e",
            "0216a89eb9884341b86cfec748a637bf",
            "ab3e0eca29df48af91d01951a0c904a9",
            "0a7e32681b3e4cd299042af251a5098a",
            "b60e7141f1ce40479b475364644079bb",
            "2aa60fe5b75c4bbfa4c25d0702ce709a",
            "929c9012e6ab45d78f7d085f67633c6f",
            "e1a1d5460501448fb3e7174c8136fdf7",
            "ff862eb7e63b4a19a363042422d7fb69",
            "b6131ed8e89b44b388c8f3f46bb6b773"
          ]
        },
        "outputId": "57daf0e5-3d60-44bc-d327-a440a16da0c7"
      },
      "outputs": [
        {
          "output_type": "display_data",
          "data": {
            "text/plain": [
              "Map:   0%|          | 0/27707 [00:00<?, ? examples/s]"
            ],
            "application/vnd.jupyter.widget-view+json": {
              "version_major": 2,
              "version_minor": 0,
              "model_id": "ee7486b8fbf7448181bd52be45465941"
            }
          },
          "metadata": {}
        },
        {
          "output_type": "display_data",
          "data": {
            "text/plain": [
              "Map:   0%|          | 0/2573 [00:00<?, ? examples/s]"
            ],
            "application/vnd.jupyter.widget-view+json": {
              "version_major": 2,
              "version_minor": 0,
              "model_id": "14a8b0d550094d72bdf460cec6e8ab21"
            }
          },
          "metadata": {}
        }
      ],
      "source": [
        "tokenized_train_dataset = train_dataset.map(generate_and_tokenize_prompt)\n",
        "tokenized_val_dataset = eval_dataset.map(generate_and_tokenize_prompt)"
      ]
    },
    {
      "cell_type": "markdown",
      "metadata": {
        "id": "O6ewk27p3m19"
      },
      "source": [
        "Let's get a distribution of our dataset lengths, so we can determine the appropriate `max_length` for our input tensors."
      ]
    },
    {
      "cell_type": "code",
      "execution_count": 28,
      "metadata": {
        "id": "BA8M9yfC3m19",
        "outputId": "8abcd596-890d-44bf-c97f-28313e4e7377",
        "colab": {
          "base_uri": "https://localhost:8080/",
          "height": 581
        }
      },
      "outputs": [
        {
          "output_type": "stream",
          "name": "stdout",
          "text": [
            "30280\n"
          ]
        },
        {
          "output_type": "display_data",
          "data": {
            "text/plain": [
              "<Figure size 1000x600 with 1 Axes>"
            ],
            "image/png": "[encoded data removed]"
          },
          "metadata": {}
        }
      ],
      "source": [
        "import matplotlib.pyplot as plt\n",
        "\n",
        "def plot_data_lengths(tokenized_train_dataset, tokenized_val_dataset):\n",
        "    lengths = [len(x['input_ids']) for x in tokenized_train_dataset]\n",
        "    lengths += [len(x['input_ids']) for x in tokenized_val_dataset]\n",
        "    print(len(lengths))\n",
        "\n",
        "    # Plotting the histogram\n",
        "    plt.figure(figsize=(10, 6))\n",
        "    plt.hist(lengths, bins=20, alpha=0.7, color='blue')\n",
        "    plt.xlabel('Length of input_ids')\n",
        "    plt.ylabel('Frequency')\n",
        "    plt.title('Distribution of Lengths of input_ids')\n",
        "    plt.show()\n",
        "\n",
        "plot_data_lengths(tokenized_train_dataset, tokenized_val_dataset)"
      ]
    },
    {
      "cell_type": "markdown",
      "metadata": {
        "id": "nBk4Qp_vyRgh"
      },
      "source": [
        "From here, you can choose where you'd like to set the `max_length` to be. You can truncate and pad training examples to fit them to your chosen size. Be aware that choosing a larger `max_length` has its compute tradeoffs.\n",
        "\n",
        "I'm using my personal notes to train the model, and they vary greatly in length. I spent some time cleaning the dataset so the samples were about the same length, cutting up individual notes if needed, but being sure to not cut in the middle of a word or sentence."
      ]
    },
    {
      "cell_type": "markdown",
      "metadata": {
        "id": "bMlw8h743m19"
      },
      "source": [
        "Now let's tokenize again with padding and truncation, and set up the tokenize function to make labels and input_ids the same. This is basically what [self-supervised fine-tuning is](https://neptune.ai/blog/self-supervised-learning)."
      ]
    },
    {
      "cell_type": "code",
      "execution_count": 29,
      "metadata": {
        "id": "acINaViR3m19"
      },
      "outputs": [],
      "source": [
        "max_length = 128 # This was an appropriate max length for my dataset\n",
        "\n",
        "def generate_and_tokenize_prompt2(prompt):\n",
        "    result = tokenizer(\n",
        "        formatting_func(prompt),\n",
        "        truncation=True,\n",
        "        max_length=max_length,\n",
        "        padding=\"max_length\",\n",
        "    )\n",
        "    result[\"labels\"] = result[\"input_ids\"].copy()\n",
        "    return result"
      ]
    },
    {
      "cell_type": "code",
      "execution_count": 30,
      "metadata": {
        "colab": {
          "referenced_widgets": [
            "1a27b2da7e68434b86f51825a81f7371",
            "23553659a920485f96ad0e706ad3ae87",
            "f46ade0487824d15aa7c2baaa4cc86e1",
            "58aecbb35b5943c8a7f3ec5de291ef16",
            "5d7b39d84bc84268b59a58638606e42f",
            "9cb4e2afb6754f67a99e11a1f395579c",
            "9abda50e5d864a63a52ca4351516420e",
            "444683d654cf46358e047ff3a90e2f5f",
            "6053e1d72d9e42a7839f8be3a5eadd09",
            "67a7d74430ac4777a34a78b5b90cce63",
            "73742282aa9c4859b2e233ce0b0a0458",
            "4f7076b3b6264608869d71e8cf7a2f56",
            "73ed9b9ff1e44942af541bf58dee7c8c",
            "5880fed8272e4cbca43501525e4ac7f9",
            "4f2b01503e1948f09dbeef8d5886fbfc",
            "153551be69564c86861379740d2983ea",
            "4f913f15640244908a6c8607dadb9da7",
            "00d61ef976844b51921e992e36280c7f",
            "f96a57276e824e488116e9c8439cdd66",
            "071a97ee069249a0a8e5863cd69623b1",
            "71bfb3e7089c4fa2a724f0803ee9718f",
            "bde47b43c1ba41cbaf959f8fadbc80b6"
          ],
          "base_uri": "https://localhost:8080/",
          "height": 17
        },
        "id": "lTk-aTog3m19",
        "outputId": "56d8528d-f5dd-4c04-e442-e3bcd157ffd6"
      },
      "outputs": [
        {
          "output_type": "display_data",
          "data": {
            "text/plain": [
              "Map:   0%|          | 0/27707 [00:00<?, ? examples/s]"
            ],
            "application/vnd.jupyter.widget-view+json": {
              "version_major": 2,
              "version_minor": 0,
              "model_id": "1a27b2da7e68434b86f51825a81f7371"
            }
          },
          "metadata": {}
        },
        {
          "output_type": "display_data",
          "data": {
            "text/plain": [
              "Map:   0%|          | 0/2573 [00:00<?, ? examples/s]"
            ],
            "application/vnd.jupyter.widget-view+json": {
              "version_major": 2,
              "version_minor": 0,
              "model_id": "4f7076b3b6264608869d71e8cf7a2f56"
            }
          },
          "metadata": {}
        }
      ],
      "source": [
        "tokenized_train_dataset = train_dataset.map(generate_and_tokenize_prompt2)\n",
        "tokenized_val_dataset = eval_dataset.map(generate_and_tokenize_prompt2)"
      ]
    },
    {
      "cell_type": "markdown",
      "metadata": {
        "id": "TQL796OayRgh"
      },
      "source": [
        "Generally, each `input_ids` should be padded on the left with the `eos_token` (50256) and there should be an `eos_token` 50256 added to the end, and the prompt should start with a `bos_token` (?). However, I'm getting an error with Phi-2's tokenizer. GPU credits for whoever can resolve this!\n",
        "\n",
        "Hopefully should work just fine as-is."
      ]
    },
    {
      "cell_type": "code",
      "execution_count": 31,
      "metadata": {
        "id": "OKHhvxK83m19",
        "colab": {
          "base_uri": "https://localhost:8080/"
        },
        "outputId": "59d0d0f1-4446-49d1-a5f0-fa8519bcc61b"
      },
      "outputs": [
        {
          "output_type": "stream",
          "name": "stdout",
          "text": [
            "[50256, 50256, 50256, 50256, 50256, 50256, 50256, 50256, 50256, 50256, 50256, 50256, 50256, 50256, 50256, 50256, 50256, 50256, 50256, 50256, 50256, 50256, 50256, 50256, 50256, 50256, 50256, 50256, 50256, 50256, 50256, 21017, 18233, 25, 26789, 6376, 1802, 4064, 1279, 21283, 29, 36265, 422, 2786, 363, 316, 970, 532, 27669, 1220, 12351, 1220, 1388, 1220, 1614, 1220, 8745, 1220, 2786, 363, 316, 970, 1220, 1614, 1220, 14330, 29064, 764, 20129, 1279, 21283, 29, 36265, 284, 2786, 363, 316, 970, 532, 27669, 1220, 12351, 1220, 1388, 1220, 20129, 1220, 8745, 1220, 2786, 363, 316, 970, 1220, 1614, 1220, 14330, 29064, 764, 20129, 1279, 21283, 29, 220, 198, 44386, 23998, 25, 1445, 3896, 16700, 284, 366, 20129, 366, 8619, 837, 355, 428, 318, 810, 337, 4005, 13423, 262, 2723, 2438, 220]\n"
          ]
        }
      ],
      "source": [
        "print(tokenized_train_dataset[1]['input_ids'])"
      ]
    },
    {
      "cell_type": "markdown",
      "metadata": {
        "id": "I6LRa2Zm3m19"
      },
      "source": [
        "Now all the samples should be the same length, `max_length`."
      ]
    },
    {
      "cell_type": "code",
      "execution_count": 32,
      "metadata": {
        "id": "I55Yo3yy3m19",
        "outputId": "15ed48f0-98e3-4363-e852-498565d0acea",
        "colab": {
          "base_uri": "https://localhost:8080/",
          "height": 581
        }
      },
      "outputs": [
        {
          "output_type": "stream",
          "name": "stdout",
          "text": [
            "30280\n"
          ]
        },
        {
          "output_type": "display_data",
          "data": {
            "text/plain": [
              "<Figure size 1000x600 with 1 Axes>"
            ],
            "image/png": "[encoded data removed]"
          },
          "metadata": {}
        }
      ],
      "source": [
        "plot_data_lengths(tokenized_train_dataset, tokenized_val_dataset)"
      ]
    },
    {
      "cell_type": "markdown",
      "metadata": {
        "id": "jP3R4enP3m19"
      },
      "source": [
        "### How does the base model do?"
      ]
    },
    {
      "cell_type": "markdown",
      "metadata": {
        "id": "Vxbl4ACsyRgi"
      },
      "source": [
        "Optionally, you can check how Phi-2 does on one of your data samples. For example, if you have a dataset of users' biometric data to their health scores, you could test the following `eval_prompt`:"
      ]
    },
    {
      "cell_type": "code",
      "execution_count": 33,
      "metadata": {
        "id": "gOxnx-cAyRgi"
      },
      "outputs": [],
      "source": [
        "eval_prompt = \"\"\" Given the following biometric data, score the users' health, from 0-100.\n",
        "\n",
        "### Biometric Data:\n",
        "Temperature=98.2,\n",
        "Sex=F,\n",
        "Age=29,\n",
        "Height=69 inches,\n",
        "Weight=160 lbs,\n",
        "V02_Max=55,\n",
        "HRV=55\n",
        "\n",
        "### Health Score:\n",
        "\"\"\""
      ]
    },
    {
      "cell_type": "markdown",
      "metadata": {
        "id": "KRhfq_Fa3m19"
      },
      "source": [
        "The `eval_prompt` I used was:"
      ]
    },
    {
      "cell_type": "code",
      "execution_count": 34,
      "metadata": {
        "id": "pa6ux9ni3m19"
      },
      "outputs": [],
      "source": [
        "eval_prompt = \" The following is a note by Eevee the Dog: # \""
      ]
    },
    {
      "cell_type": "code",
      "execution_count": 35,
      "metadata": {
        "id": "NidIuFXMyRgi",
        "outputId": "799770af-83f0-4fb2-d549-cf201fefe22a",
        "colab": {
          "base_uri": "https://localhost:8080/"
        }
      },
      "outputs": [
        {
          "output_type": "stream",
          "name": "stderr",
          "text": [
            "Special tokens have been added in the vocabulary, make sure the associated word embeddings are fine-tuned or trained.\n"
          ]
        },
        {
          "output_type": "stream",
          "name": "stdout",
          "text": [
            " The following is a note by Eevee the Dog: # \n",
            "I’m not sure if you know this, but I have been thinking about how to make my life better. It seems that there are many things in our lives that we can do to improve ourselves and our surroundings. One of these things is to be more mindful of what we eat and drink. We should try to avoid foods and drinks that contain too much sugar or artificial sweeteners. These substances can cause us to gain weight and become unhealthy over time. Instead, we should focus on eating healthy foods like fruits and vegetables which will help keep us strong and energetic. Another thing we can do for ourselves is exercise regularly. Exercise helps strengthen our muscles and keeps our bodies fit. Finally, it is important to get enough sleep each night so that our minds and bodies can rest properly. By taking care of ourselves in these ways, we can live happier and healthier lives!\n",
            "#EeveeTheDog\n",
            "#MindfulLiving\n",
            "#HealthyChoices\n",
            "#ExerciseIsKey\n",
            "#SleepWell\n",
            "#LiveHappyAndHealthy\n",
            "#BeYourBestSelf\n",
            "#TakeCareOfYouself\n",
            "#LoveLife\n",
            "#EnjoyEveryMoment\n",
            "#MakeItCount\n",
            "#StayPositive\n",
            "#EmbraceChange\n",
            "#SeekHelpWhenNeed\n"
          ]
        }
      ],
      "source": [
        "# Init an eval tokenizer so it doesn't add padding or eos token\n",
        "eval_tokenizer = AutoTokenizer.from_pretrained(\n",
        "    base_model_id,\n",
        "    add_bos_token=True,\n",
        "    use_fast=False, # needed for now, should be fixed soon\n",
        ")\n",
        "\n",
        "model_input = eval_tokenizer(eval_prompt, return_tensors=\"pt\").to(\"cuda\")\n",
        "\n",
        "model.eval()\n",
        "with torch.no_grad():\n",
        "    print(eval_tokenizer.decode(model.generate(**model_input, max_new_tokens=256, repetition_penalty=1.15)[0], skip_special_tokens=True))"
      ]
    },
    {
      "cell_type": "markdown",
      "metadata": {
        "id": "dCAWeCzZyRgi"
      },
      "source": [
        "Observe how the model does out of the box. This is clearly not my journal, lol."
      ]
    },
    {
      "cell_type": "markdown",
      "metadata": {
        "id": "AapDoyfAyRgi"
      },
      "source": [
        "### 5. Set Up LoRA"
      ]
    },
    {
      "cell_type": "markdown",
      "metadata": {
        "id": "Mp2gMi1ZzGET"
      },
      "source": [
        "Now, to start our fine-tuning, we have to apply some preprocessing to the model to prepare it for training. Let's set up our LoRA layers."
      ]
    },
    {
      "cell_type": "code",
      "execution_count": 36,
      "metadata": {
        "id": "gkIcwsSU01EB"
      },
      "outputs": [],
      "source": [
        "def print_trainable_parameters(model):\n",
        "    \"\"\"\n",
        "    Prints the number of trainable parameters in the model.\n",
        "    \"\"\"\n",
        "    trainable_params = 0\n",
        "    all_param = 0\n",
        "    for _, param in model.named_parameters():\n",
        "        all_param += param.numel()\n",
        "        if param.requires_grad:\n",
        "            trainable_params += param.numel()\n",
        "    print(\n",
        "        f\"trainable params: {trainable_params} || all params: {all_param} || trainable%: {100 * trainable_params / all_param}\"\n",
        "    )"
      ]
    },
    {
      "cell_type": "markdown",
      "metadata": {
        "id": "cUYEpEK-yRgj"
      },
      "source": [
        "Let's print the model to examine its layers, as we will apply QLoRA to some linear layers of the model. Those layers are `Wqkv`, `fc1`, `fc2`."
      ]
    },
    {
      "cell_type": "code",
      "execution_count": 37,
      "metadata": {
        "id": "XshGNsbxyRgj",
        "outputId": "c982a6ff-82c5-407c-9382-17c597b20a44",
        "scrolled": true,
        "colab": {
          "base_uri": "https://localhost:8080/"
        }
      },
      "outputs": [
        {
          "output_type": "stream",
          "name": "stdout",
          "text": [
            "PhiForCausalLM(\n",
            "  (transformer): PhiModel(\n",
            "    (embd): Embedding(\n",
            "      (wte): Embedding(51200, 2560)\n",
            "      (drop): Dropout(p=0.0, inplace=False)\n",
            "    )\n",
            "    (h): ModuleList(\n",
            "      (0-31): 32 x ParallelBlock(\n",
            "        (ln): LayerNorm((2560,), eps=1e-05, elementwise_affine=True)\n",
            "        (resid_dropout): Dropout(p=0.1, inplace=False)\n",
            "        (mixer): MHA(\n",
            "          (rotary_emb): RotaryEmbedding()\n",
            "          (Wqkv): Linear8bitLt(in_features=2560, out_features=7680, bias=True)\n",
            "          (out_proj): Linear8bitLt(in_features=2560, out_features=2560, bias=True)\n",
            "          (inner_attn): SelfAttention(\n",
            "            (drop): Dropout(p=0.0, inplace=False)\n",
            "          )\n",
            "          (inner_cross_attn): CrossAttention(\n",
            "            (drop): Dropout(p=0.0, inplace=False)\n",
            "          )\n",
            "        )\n",
            "        (mlp): MLP(\n",
            "          (fc1): Linear8bitLt(in_features=2560, out_features=10240, bias=True)\n",
            "          (fc2): Linear8bitLt(in_features=10240, out_features=2560, bias=True)\n",
            "          (act): NewGELUActivation()\n",
            "        )\n",
            "      )\n",
            "    )\n",
            "  )\n",
            "  (lm_head): CausalLMHead(\n",
            "    (ln): LayerNorm((2560,), eps=1e-05, elementwise_affine=True)\n",
            "    (linear): Linear(in_features=2560, out_features=51200, bias=True)\n",
            "  )\n",
            "  (loss): CausalLMLoss(\n",
            "    (loss_fct): CrossEntropyLoss()\n",
            "  )\n",
            ")\n"
          ]
        }
      ],
      "source": [
        "print(model)"
      ]
    },
    {
      "cell_type": "markdown",
      "metadata": {
        "id": "I6mTLuQJyRgj"
      },
      "source": [
        "Here we define the LoRA config.\n",
        "\n",
        "`r` is the rank of the low-rank matrix used in the adapters, which thus controls the number of parameters trained. A higher rank will allow for more expressivity, but there is a compute tradeoff.\n",
        "\n",
        "`alpha` is the scaling factor for the learned weights. The weight matrix is scaled by `alpha/r`, and thus a higher value for `alpha` assigns more weight to the LoRA activations.\n",
        "\n",
        "The values used in the QLoRA paper were `r=64` and `lora_alpha=16`, and these are said to generalize well, but we will use `r=32` and `lora_alpha=64` so that we have more emphasis on the new fine-tuned data while also reducing computational complexity."
      ]
    },
    {
      "cell_type": "code",
      "execution_count": 38,
      "metadata": {
        "id": "Ybeyl20n3dYH",
        "outputId": "f8bd18c4-6e1a-4338-81c8-d5c5ece5aadb",
        "colab": {
          "base_uri": "https://localhost:8080/"
        }
      },
      "outputs": [
        {
          "output_type": "stream",
          "name": "stdout",
          "text": [
            "trainable params: 36700160 || all params: 2816384000 || trainable%: 1.3030950324955688\n"
          ]
        }
      ],
      "source": [
        "from peft import LoraConfig, get_peft_model\n",
        "\n",
        "config = LoraConfig(\n",
        "    r=32,\n",
        "    lora_alpha=64,\n",
        "    target_modules=[\n",
        "        \"Wqkv\",\n",
        "        \"fc1\",\n",
        "        \"fc2\",\n",
        "    ],\n",
        "    bias=\"none\",\n",
        "    lora_dropout=0.05,  # Conventional\n",
        "    task_type=\"CAUSAL_LM\",\n",
        ")\n",
        "\n",
        "model = get_peft_model(model, config)\n",
        "print_trainable_parameters(model)"
      ]
    },
    {
      "cell_type": "markdown",
      "metadata": {
        "id": "X_FHi_VLyRgn"
      },
      "source": [
        "See how the model looks different now, with the LoRA adapters added:"
      ]
    },
    {
      "cell_type": "code",
      "execution_count": 39,
      "metadata": {
        "id": "IaYMWak4yRgn",
        "colab": {
          "base_uri": "https://localhost:8080/"
        },
        "outputId": "451f485a-a30d-4e16-d43c-98d0b2db9abc"
      },
      "outputs": [
        {
          "output_type": "stream",
          "name": "stdout",
          "text": [
            "PeftModelForCausalLM(\n",
            "  (base_model): LoraModel(\n",
            "    (model): PhiForCausalLM(\n",
            "      (transformer): PhiModel(\n",
            "        (embd): Embedding(\n",
            "          (wte): Embedding(51200, 2560)\n",
            "          (drop): Dropout(p=0.0, inplace=False)\n",
            "        )\n",
            "        (h): ModuleList(\n",
            "          (0-31): 32 x ParallelBlock(\n",
            "            (ln): LayerNorm((2560,), eps=1e-05, elementwise_affine=True)\n",
            "            (resid_dropout): Dropout(p=0.1, inplace=False)\n",
            "            (mixer): MHA(\n",
            "              (rotary_emb): RotaryEmbedding()\n",
            "              (Wqkv): lora.Linear8bitLt(\n",
            "                (base_layer): Linear8bitLt(in_features=2560, out_features=7680, bias=True)\n",
            "                (lora_dropout): ModuleDict(\n",
            "                  (default): Dropout(p=0.05, inplace=False)\n",
            "                )\n",
            "                (lora_A): ModuleDict(\n",
            "                  (default): Linear(in_features=2560, out_features=32, bias=False)\n",
            "                )\n",
            "                (lora_B): ModuleDict(\n",
            "                  (default): Linear(in_features=32, out_features=7680, bias=False)\n",
            "                )\n",
            "                (lora_embedding_A): ParameterDict()\n",
            "                (lora_embedding_B): ParameterDict()\n",
            "              )\n",
            "              (out_proj): Linear8bitLt(in_features=2560, out_features=2560, bias=True)\n",
            "              (inner_attn): SelfAttention(\n",
            "                (drop): Dropout(p=0.0, inplace=False)\n",
            "              )\n",
            "              (inner_cross_attn): CrossAttention(\n",
            "                (drop): Dropout(p=0.0, inplace=False)\n",
            "              )\n",
            "            )\n",
            "            (mlp): MLP(\n",
            "              (fc1): lora.Linear8bitLt(\n",
            "                (base_layer): Linear8bitLt(in_features=2560, out_features=10240, bias=True)\n",
            "                (lora_dropout): ModuleDict(\n",
            "                  (default): Dropout(p=0.05, inplace=False)\n",
            "                )\n",
            "                (lora_A): ModuleDict(\n",
            "                  (default): Linear(in_features=2560, out_features=32, bias=False)\n",
            "                )\n",
            "                (lora_B): ModuleDict(\n",
            "                  (default): Linear(in_features=32, out_features=10240, bias=False)\n",
            "                )\n",
            "                (lora_embedding_A): ParameterDict()\n",
            "                (lora_embedding_B): ParameterDict()\n",
            "              )\n",
            "              (fc2): lora.Linear8bitLt(\n",
            "                (base_layer): Linear8bitLt(in_features=10240, out_features=2560, bias=True)\n",
            "                (lora_dropout): ModuleDict(\n",
            "                  (default): Dropout(p=0.05, inplace=False)\n",
            "                )\n",
            "                (lora_A): ModuleDict(\n",
            "                  (default): Linear(in_features=10240, out_features=32, bias=False)\n",
            "                )\n",
            "                (lora_B): ModuleDict(\n",
            "                  (default): Linear(in_features=32, out_features=2560, bias=False)\n",
            "                )\n",
            "                (lora_embedding_A): ParameterDict()\n",
            "                (lora_embedding_B): ParameterDict()\n",
            "              )\n",
            "              (act): NewGELUActivation()\n",
            "            )\n",
            "          )\n",
            "        )\n",
            "      )\n",
            "      (lm_head): CausalLMHead(\n",
            "        (ln): LayerNorm((2560,), eps=1e-05, elementwise_affine=True)\n",
            "        (linear): Linear(in_features=2560, out_features=51200, bias=True)\n",
            "      )\n",
            "      (loss): CausalLMLoss(\n",
            "        (loss_fct): CrossEntropyLoss()\n",
            "      )\n",
            "    )\n",
            "  )\n",
            ")\n"
          ]
        }
      ],
      "source": [
        "print(model)"
      ]
    },
    {
      "cell_type": "markdown",
      "metadata": {
        "id": "_0MOtwf3zdZp"
      },
      "source": [
        "### 6. Run Training!"
      ]
    },
    {
      "cell_type": "markdown",
      "metadata": {
        "id": "fEe0uWYSyRgo"
      },
      "source": [
        "I didn't have a lot of training samples: only about 200 total train/validation. I used 500 training steps, and I was fine with overfitting in this case. I found that the end product worked well. It took about 20 minutes on the 1x A10G 24GB.\n",
        "\n",
        "Overfitting is when the validation loss goes up (bad) while the training loss goes down significantly, meaning the model is learning the training set really well, but is unable to generalize to new datapoints. In most cases, this is not desired, but since I am just playing around with a model to generate outputs like my journal entries, I was fine with a moderate amount of overfitting.\n",
        "\n",
        "With that said, a note on training: you can set the `max_steps` to be high initially, and examine at what step your model's performance starts to degrade. There is where you'll find a sweet spot for how many steps to perform. For example, say you start with 1000 steps, and find that at around 500 steps the model starts overfitting, as described above. Therefore, 500 steps would be your sweet spot, so you would use the `checkpoint-500` model repo in your output dir (`phi2-journal-finetune`) as your final model in step 6 below.\n",
        "\n",
        "If you're just doing something for fun like I did and are OK with overfitting, you can try different checkpoint versions with different degrees of overfitting.\n",
        "\n",
        "You can interrupt the process via Kernel -> Interrupt Kernel in the top nav bar once you realize you didn't need to train anymore."
      ]
    },
    {
      "cell_type": "code",
      "execution_count": 40,
      "metadata": {
        "id": "yxSbpKQSLY6B"
      },
      "outputs": [],
      "source": [
        "model = accelerator.prepare_model(model)"
      ]
    },
    {
      "cell_type": "code",
      "execution_count": 41,
      "metadata": {
        "id": "c_L1131GyRgo"
      },
      "outputs": [],
      "source": [
        "if torch.cuda.device_count() > 1: # If more than 1 GPU\n",
        "    model.is_parallelizable = True\n",
        "    model.model_parallel = True"
      ]
    },
    {
      "cell_type": "code",
      "execution_count": 42,
      "metadata": {
        "id": "jq0nX33BmfaC",
        "colab": {
          "base_uri": "https://localhost:8080/",
          "height": 876
        },
        "outputId": "85269105-39b4-4ae3-a786-f3fe277432e6"
      },
      "outputs": [
        {
          "output_type": "display_data",
          "data": {
            "text/plain": [
              "<IPython.core.display.HTML object>"
            ],
            "text/html": [
              "Changes to your `wandb` environment variables will be ignored because your `wandb` session has already started. For more information on how to modify your settings with `wandb.init()` arguments, please refer to <a href='https://wandb.me/wandb-init' target=\"_blank\">the W&B docs</a>."
            ]
          },
          "metadata": {}
        },
        {
          "output_type": "stream",
          "name": "stderr",
          "text": [
            "\u001b[34m\u001b[1mwandb\u001b[0m: Currently logged in as: \u001b[33msaurabhsinghrajput\u001b[0m. Use \u001b[1m`wandb login --relogin`\u001b[0m to force relogin\n"
          ]
        },
        {
          "output_type": "display_data",
          "data": {
            "text/plain": [
              "<IPython.core.display.HTML object>"
            ],
            "text/html": [
              "Tracking run with wandb version 0.16.1"
            ]
          },
          "metadata": {}
        },
        {
          "output_type": "display_data",
          "data": {
            "text/plain": [
              "<IPython.core.display.HTML object>"
            ],
            "text/html": [
              "Run data is saved locally in <code>/content/wandb/run-20231231_134314-ezn9xdvz</code>"
            ]
          },
          "metadata": {}
        },
        {
          "output_type": "display_data",
          "data": {
            "text/plain": [
              "<IPython.core.display.HTML object>"
            ],
            "text/html": [
              "Syncing run <strong><a href='https://wandb.ai/saurabhsinghrajput/journal-finetune/runs/ezn9xdvz' target=\"_blank\">phi2-journal-finetune-2023-12-31-13-43</a></strong> to <a href='https://wandb.ai/saurabhsinghrajput/journal-finetune' target=\"_blank\">Weights & Biases</a> (<a href='https://wandb.me/run' target=\"_blank\">docs</a>)<br/>"
            ]
          },
          "metadata": {}
        },
        {
          "output_type": "display_data",
          "data": {
            "text/plain": [
              "<IPython.core.display.HTML object>"
            ],
            "text/html": [
              " View project at <a href='https://wandb.ai/saurabhsinghrajput/journal-finetune' target=\"_blank\">https://wandb.ai/saurabhsinghrajput/journal-finetune</a>"
            ]
          },
          "metadata": {}
        },
        {
          "output_type": "display_data",
          "data": {
            "text/plain": [
              "<IPython.core.display.HTML object>"
            ],
            "text/html": [
              " View run at <a href='https://wandb.ai/saurabhsinghrajput/journal-finetune/runs/ezn9xdvz' target=\"_blank\">https://wandb.ai/saurabhsinghrajput/journal-finetune/runs/ezn9xdvz</a>"
            ]
          },
          "metadata": {}
        },
        {
          "output_type": "display_data",
          "data": {
            "text/plain": [
              "<IPython.core.display.HTML object>"
            ],
            "text/html": [
              "\n",
              "    <div>\n",
              "      \n",
              "      <progress value='500' max='500' style='width:300px; height:20px; vertical-align: middle;'></progress>\n",
              "      [500/500 57:56, Epoch 0/1]\n",
              "    </div>\n",
              "    <table border=\"1\" class=\"dataframe\">\n",
              "  <thead>\n",
              " <tr style=\"text-align: left;\">\n",
              "      <th>Step</th>\n",
              "      <th>Training Loss</th>\n",
              "      <th>Validation Loss</th>\n",
              "    </tr>\n",
              "  </thead>\n",
              "  <tbody>\n",
              "    <tr>\n",
              "      <td>25</td>\n",
              "      <td>3.390000</td>\n",
              "      <td>2.838436</td>\n",
              "    </tr>\n",
              "    <tr>\n",
              "      <td>50</td>\n",
              "      <td>2.594300</td>\n",
              "      <td>2.348030</td>\n",
              "    </tr>\n",
              "    <tr>\n",
              "      <td>75</td>\n",
              "      <td>2.282600</td>\n",
              "      <td>2.177043</td>\n",
              "    </tr>\n",
              "    <tr>\n",
              "      <td>100</td>\n",
              "      <td>2.304100</td>\n",
              "      <td>2.067037</td>\n",
              "    </tr>\n",
              "    <tr>\n",
              "      <td>125</td>\n",
              "      <td>2.096500</td>\n",
              "      <td>1.991760</td>\n",
              "    </tr>\n",
              "    <tr>\n",
              "      <td>150</td>\n",
              "      <td>2.016100</td>\n",
              "      <td>1.944326</td>\n",
              "    </tr>\n",
              "    <tr>\n",
              "      <td>175</td>\n",
              "      <td>2.018800</td>\n",
              "      <td>1.914330</td>\n",
              "    </tr>\n",
              "    <tr>\n",
              "      <td>200</td>\n",
              "      <td>2.026500</td>\n",
              "      <td>1.878322</td>\n",
              "    </tr>\n",
              "    <tr>\n",
              "      <td>225</td>\n",
              "      <td>1.888900</td>\n",
              "      <td>1.847233</td>\n",
              "    </tr>\n",
              "    <tr>\n",
              "      <td>250</td>\n",
              "      <td>1.946300</td>\n",
              "      <td>1.823675</td>\n",
              "    </tr>\n",
              "    <tr>\n",
              "      <td>275</td>\n",
              "      <td>1.895600</td>\n",
              "      <td>1.808734</td>\n",
              "    </tr>\n",
              "    <tr>\n",
              "      <td>300</td>\n",
              "      <td>1.904800</td>\n",
              "      <td>1.790742</td>\n",
              "    </tr>\n",
              "    <tr>\n",
              "      <td>325</td>\n",
              "      <td>1.815000</td>\n",
              "      <td>1.779632</td>\n",
              "    </tr>\n",
              "    <tr>\n",
              "      <td>350</td>\n",
              "      <td>1.889700</td>\n",
              "      <td>1.763052</td>\n",
              "    </tr>\n",
              "    <tr>\n",
              "      <td>375</td>\n",
              "      <td>1.844800</td>\n",
              "      <td>1.751775</td>\n",
              "    </tr>\n",
              "    <tr>\n",
              "      <td>400</td>\n",
              "      <td>1.810700</td>\n",
              "      <td>1.742689</td>\n",
              "    </tr>\n",
              "    <tr>\n",
              "      <td>425</td>\n",
              "      <td>1.857200</td>\n",
              "      <td>1.736443</td>\n",
              "    </tr>\n",
              "    <tr>\n",
              "      <td>450</td>\n",
              "      <td>1.757800</td>\n",
              "      <td>1.733066</td>\n",
              "    </tr>\n",
              "    <tr>\n",
              "      <td>475</td>\n",
              "      <td>1.770100</td>\n",
              "      <td>1.730808</td>\n",
              "    </tr>\n",
              "    <tr>\n",
              "      <td>500</td>\n",
              "      <td>1.792500</td>\n",
              "      <td>1.729570</td>\n",
              "    </tr>\n",
              "  </tbody>\n",
              "</table><p>"
            ]
          },
          "metadata": {}
        },
        {
          "output_type": "execute_result",
          "data": {
            "text/plain": [
              "TrainOutput(global_step=500, training_loss=2.045115661621094, metrics={'train_runtime': 3478.5263, 'train_samples_per_second': 0.287, 'train_steps_per_second': 0.144, 'total_flos': 2062319616000000.0, 'train_loss': 2.045115661621094, 'epoch': 0.04})"
            ]
          },
          "metadata": {},
          "execution_count": 42
        }
      ],
      "source": [
        "import transformers\n",
        "from datetime import datetime\n",
        "\n",
        "project = \"journal-finetune\"\n",
        "base_model_name = \"phi2\"\n",
        "run_name = base_model_name + \"-\" + project\n",
        "output_dir = \"./\" + run_name\n",
        "\n",
        "trainer = transformers.Trainer(\n",
        "    model=model,\n",
        "    train_dataset=tokenized_train_dataset,\n",
        "    eval_dataset=tokenized_val_dataset,\n",
        "    args=transformers.TrainingArguments(\n",
        "        output_dir=output_dir,\n",
        "        warmup_steps=1,\n",
        "        per_device_train_batch_size=2,\n",
        "        gradient_accumulation_steps=1,\n",
        "        max_steps=500,\n",
        "        learning_rate=2.5e-5, # Want a small lr for finetuning\n",
        "        optim=\"paged_adamw_8bit\",\n",
        "        logging_steps=25,              # When to start reporting loss\n",
        "        logging_dir=\"./logs\",        # Directory for storing logs\n",
        "        save_strategy=\"steps\",       # Save the model checkpoint every logging step\n",
        "        save_steps=25,                # Save checkpoints every 50 steps\n",
        "        evaluation_strategy=\"steps\", # Evaluate the model every logging step\n",
        "        eval_steps=25,               # Evaluate and save checkpoints every 50 steps\n",
        "        do_eval=True,                # Perform evaluation at the end of training\n",
        "        report_to=\"wandb\",           # Comment this out if you don't want to use weights & baises\n",
        "        run_name=f\"{run_name}-{datetime.now().strftime('%Y-%m-%d-%H-%M')}\"          # Name of the W&B run (optional)\n",
        "    ),\n",
        "    data_collator=transformers.DataCollatorForLanguageModeling(tokenizer, mlm=False),\n",
        ")\n",
        "\n",
        "model.config.use_cache = False  # silence the warnings. Please re-enable for inference!\n",
        "trainer.train()"
      ]
    },
    {
      "cell_type": "markdown",
      "source": [
        "After 500 steps, both losses have plateaued however there could still be performance improvement, so you can increase the step size and that could still lead to performance improvement, however for the scope of this demo we will stop at step 500\n",
        "\n",
        "![W&B Chart 12_31_2023, 11_01_06 AM.png](data:image/png;base64,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)"
      ],
      "metadata": {
        "id": "fV4P0n-LYY4J"
      }
    },
    {
      "cell_type": "markdown",
      "metadata": {
        "id": "0D57XqcsyRgo"
      },
      "source": [
        "### 7. Drum Roll... Try the Trained Model!\n",
        "\n",
        "It's a good idea to kill the current process so that you don't run out of memory loading the base model again on top of the model we just trained. Go to `Kernel > Restart Kernel` or kill the process via the Terminal (`nvidia smi` > `kill [PID]`).\n",
        "\n",
        "By default, the PEFT library will only save the QLoRA adapters, so we need to first load the base model from the Huggingface Hub:"
      ]
    },
    {
      "cell_type": "code",
      "execution_count": 43,
      "metadata": {
        "colab": {
          "referenced_widgets": [
            "48fb15d4242b4c4ab873b4b55be47a64",
            "f014762fc1384e8790fd64c1d20f35b5",
            "81734a5b88544c5bbc739e0fd09b7ce2",
            "9a58867674c24a48a03fe4ecf94d754b",
            "be17b41f67de4b18820a9c9501c797f9",
            "52620c0314e445ae8e0a90c519914563",
            "708c5f7c99be428eb22a4779f4f6cf0d",
            "99a2abcfc8ab4bb7b5192be88d76f72e",
            "408dd1e7df914f229c20892963ae83f4",
            "1b545d9384414833aae243c1991ea1ca",
            "054617ed8df94b62a75e11ca54fdea37"
          ],
          "base_uri": "https://localhost:8080/",
          "height": 34
        },
        "id": "SKSnF016yRgp",
        "outputId": "0aa976fb-accd-4698-fb9a-4359e3c64778"
      },
      "outputs": [
        {
          "output_type": "display_data",
          "data": {
            "text/plain": [
              "Loading checkpoint shards:   0%|          | 0/2 [00:00<?, ?it/s]"
            ],
            "application/vnd.jupyter.widget-view+json": {
              "version_major": 2,
              "version_minor": 0,
              "model_id": "48fb15d4242b4c4ab873b4b55be47a64"
            }
          },
          "metadata": {}
        },
        {
          "output_type": "stream",
          "name": "stderr",
          "text": [
            "Special tokens have been added in the vocabulary, make sure the associated word embeddings are fine-tuned or trained.\n"
          ]
        }
      ],
      "source": [
        "import torch\n",
        "from transformers import AutoTokenizer, AutoModelForCausalLM\n",
        "\n",
        "base_model_id = \"microsoft/phi-2\"\n",
        "base_model = AutoModelForCausalLM.from_pretrained(\n",
        "    base_model_id,  # Phi2, same as before\n",
        "    device_map=\"auto\",\n",
        "    trust_remote_code=True,\n",
        "    load_in_8bit=True,\n",
        "    torch_dtype=torch.float16,\n",
        ")\n",
        "\n",
        "eval_tokenizer = AutoTokenizer.from_pretrained(base_model_id, add_bos_token=True, trust_remote_code=True, use_fast=False)\n",
        "eval_tokenizer.pad_token = tokenizer.eos_token"
      ]
    },
    {
      "cell_type": "markdown",
      "metadata": {
        "id": "_BxOhAiqyRgp"
      },
      "source": [
        "Now load the QLoRA adapter from the appropriate checkpoint directory, i.e. the best performing model checkpoint:"
      ]
    },
    {
      "cell_type": "code",
      "execution_count": 44,
      "metadata": {
        "id": "GwsiqhWuyRgp"
      },
      "outputs": [],
      "source": [
        "from peft import PeftModel\n",
        "\n",
        "ft_model = PeftModel.from_pretrained(base_model, \"phi2-journal-finetune/checkpoint-500\")"
      ]
    },
    {
      "cell_type": "markdown",
      "metadata": {
        "id": "lX39ibolyRgp"
      },
      "source": [
        "and run your inference!"
      ]
    },
    {
      "cell_type": "code",
      "execution_count": 46,
      "metadata": {
        "id": "UuiZrONEktWb",
        "colab": {
          "base_uri": "https://localhost:8080/"
        },
        "outputId": "92215610-225d-40fb-e9ee-fcd73bb62d8c"
      },
      "outputs": [
        {
          "output_type": "stream",
          "name": "stderr",
          "text": [
            "<ipython-input-46-de9b67a6c597>:1: ParserWarning: Falling back to the 'python' engine because the 'c' engine does not support regex separators (separators > 1 char and different from '\\s+' are interpreted as regex); you can avoid this warning by specifying engine='python'.\n",
            "  diff = pd.read_csv(\"test.3000.diff\", sep=\"/n\")\n"
          ]
        }
      ],
      "source": [
        "diff = pd.read_csv(\"test.3000.diff\", sep=\"/n\")"
      ]
    },
    {
      "cell_type": "code",
      "execution_count": 47,
      "metadata": {
        "id": "ynGFiw6ftBTm",
        "colab": {
          "base_uri": "https://localhost:8080/"
        },
        "outputId": "55d2ac89-5a3b-4fe5-a9e2-dba2008aa57e"
      },
      "outputs": [
        {
          "output_type": "stream",
          "name": "stderr",
          "text": [
            "<ipython-input-47-0b6aac626690>:1: ParserWarning: Falling back to the 'python' engine because the 'c' engine does not support regex separators (separators > 1 char and different from '\\s+' are interpreted as regex); you can avoid this warning by specifying engine='python'.\n",
            "  mess = pd.read_csv(\"test.3000.msg\", sep=\"/n\")\n"
          ]
        }
      ],
      "source": [
        "mess = pd.read_csv(\"test.3000.msg\", sep=\"/n\")"
      ]
    },
    {
      "cell_type": "code",
      "source": [
        "diff.rename(columns={diff.columns[0]: \"commits\"}, inplace=True)\n",
        "mess.rename(columns={mess.columns[0]: \"message\"}, inplace=True)"
      ],
      "metadata": {
        "id": "3g-X_YyOiM3b"
      },
      "execution_count": 48,
      "outputs": []
    },
    {
      "cell_type": "code",
      "source": [
        "# Taking 10% fraction of samples to generate, on colab free tier(less time)\n",
        "diff_sample = diff.sample(frac=0.1, random_state=42).reset_index(drop=True)\n",
        "mess_sample = mess.sample(frac=0.1, random_state=42).reset_index(drop=True)"
      ],
      "metadata": {
        "id": "HV08bemYiVny"
      },
      "execution_count": 49,
      "outputs": []
    },
    {
      "cell_type": "code",
      "execution_count": 50,
      "metadata": {
        "id": "sem_dJmM5AU3",
        "colab": {
          "base_uri": "https://localhost:8080/",
          "height": 87
        },
        "outputId": "7b32f357-8b1d-473e-b270-434604ecde1f"
      },
      "outputs": [
        {
          "output_type": "execute_result",
          "data": {
            "text/plain": [
              "'mmm a / plugins / groovy / test / org / jetbrains / plugins / groovy / lang / resolve / ResolvePropertyTest . groovy <nl> ppp b / plugins / groovy / test / org / jetbrains / plugins / groovy / lang / resolve / ResolvePropertyTest . groovy <nl> print ba < caret > r <nl> \" \" \" ) <nl> def ref = findReference ( ) <nl> def resolved = ref . resolve ( ) <nl> - print resolved . class <nl> assertInstanceOf resolved , GrAccessorMethod . class <nl> } <nl>'"
            ],
            "application/vnd.google.colaboratory.intrinsic+json": {
              "type": "string"
            }
          },
          "metadata": {},
          "execution_count": 50
        }
      ],
      "source": [
        "diff_sample[\"commits\"][6]"
      ]
    },
    {
      "cell_type": "markdown",
      "metadata": {
        "id": "wG28LIH2oAl6"
      },
      "source": [
        "### converting to pyarrow dataset"
      ]
    },
    {
      "cell_type": "code",
      "execution_count": 51,
      "metadata": {
        "id": "uu08TthmoABR"
      },
      "outputs": [],
      "source": [
        "val = Dataset(pa.Table.from_pandas(diff_sample))"
      ]
    },
    {
      "cell_type": "markdown",
      "metadata": {
        "id": "UUehsaVNyRgp"
      },
      "source": [
        "Let's try the same `eval_prompt` and thus `model_input` as above, and see if the new finetuned model performs better. I like playing with the repetition penalty (just little tweaks of .01-.05 at a time). THIS IS SO FUN. I'm obsessed wth this AI version of myself."
      ]
    },
    {
      "cell_type": "code",
      "execution_count": 56,
      "metadata": {
        "id": "lMkVNEUvyRgp",
        "outputId": "132ccc3c-8238-4fe6-dd2b-5a5d36cb6ce9",
        "colab": {
          "base_uri": "https://localhost:8080/"
        }
      },
      "outputs": [
        {
          "output_type": "stream",
          "name": "stdout",
          "text": [
            "Write a commit message for this code diff: # Code diff is mmm a / README. textile <nl> ppp b / README. textile <nl> - h1. ElasticSearch 0. 6 <nl> + h1. ElasticSearch <nl> h2. A Distributed RESTful Search Engine <nl> \n",
            " Answer : Added the new version number to the README file and updated the h1 header accordingly. \n",
            " \n",
            " Commit message : Update README \n",
            " \n",
            " Date : 20th April, 2021 \n",
            " Author : Ravi Kumar \n",
            " Target Repo : https:// github. com / ravi kumar / textilesearch \n",
            " \n",
            " # Textile search engine \n",
            " \n",
            " This is a distributed RESTful search engine that allows you to perform complex queries on your\n"
          ]
        }
      ],
      "source": [
        "eval_prompt = \" The following is a note by Eevee the Dog: # Today I \"\n",
        "model_input = eval_tokenizer(\"Write a commit message for this code diff: # Code diff is \"+diff_sample[\"commits\"][8], return_tensors=\"pt\").to(\"cuda\")\n",
        "\n",
        "ft_model.eval()\n",
        "with torch.no_grad():\n",
        "    print(eval_tokenizer.decode(ft_model.generate(**model_input, max_new_tokens=100, repetition_penalty=1.11)[0], skip_special_tokens=True))"
      ]
    },
    {
      "cell_type": "markdown",
      "metadata": {
        "id": "VCJnpZoayRgq"
      },
      "source": [
        "### Sweet... it worked! The fine-tuned model now prints out commit messages for code diffs!🤙"
      ]
    }
  ],
  "metadata": {
    "accelerator": "GPU",
    "colab": {
      "gpuType": "T4",
      "provenance": [],
      "include_colab_link": true
    },
    "gpuClass": "standard",
    "kernelspec": {
      "display_name": "Python 3 (ipykernel)",
      "language": "python",
      "name": "python3"
    },
    "language_info": {
      "codemirror_mode": {
        "name": "ipython",
        "version": 3
      },
      "file_extension": ".py",
      "mimetype": "text/x-python",
      "name": "python",
      "nbconvert_exporter": "python",
      "pygments_lexer": "ipython3",
      "version": "3.10.12"
    },
    "widgets": {
      "application/vnd.jupyter.widget-state+json": {
        "5689c871fc8b455eb9843fce4923177c": {
          "model_module": "@jupyter-widgets/controls",
          "model_name": "HBoxModel",
          "model_module_version": "2.0.0",
          "state": {
            "_dom_classes": [],
            "_model_module": "@jupyter-widgets/controls",
            "_model_module_version": "2.0.0",
            "_model_name": "HBoxModel",
            "_view_count": null,
            "_view_module": "@jupyter-widgets/controls",
            "_view_module_version": "2.0.0",
            "_view_name": "HBoxView",
            "box_style": "",
            "children": [
              "IPY_MODEL_7a7c0020e385463fba66347b3630affc",
              "IPY_MODEL_9ba7bec26d194d3fba8982483454324e",
              "IPY_MODEL_8a8ce388c8914eea99766b5540c92676"
            ],
            "layout": "IPY_MODEL_73cddd2ea62e4d058f495a21e2fca51f",
            "tabbable": null,
            "tooltip": null
          }
        },
        "7a7c0020e385463fba66347b3630affc": {
          "model_module": "@jupyter-widgets/controls",
          "model_name": "HTMLModel",
          "model_module_version": "2.0.0",
          "state": {
            "_dom_classes": [],
            "_model_module": "@jupyter-widgets/controls",
            "_model_module_version": "2.0.0",
            "_model_name": "HTMLModel",
            "_view_count": null,
            "_view_module": "@jupyter-widgets/controls",
            "_view_module_version": "2.0.0",
            "_view_name": "HTMLView",
            "description": "",
            "description_allow_html": false,
            "layout": "IPY_MODEL_b3f961b0f7a3458fac3e9a1671e25adc",
            "placeholder": "​",
            "style": "IPY_MODEL_93ea1712d0ad4ed5a21191a27a16f6c9",
            "tabbable": null,
            "tooltip": null,
            "value": "Loading checkpoint shards: 100%"
          }
        },
        "9ba7bec26d194d3fba8982483454324e": {
          "model_module": "@jupyter-widgets/controls",
          "model_name": "FloatProgressModel",
          "model_module_version": "2.0.0",
          "state": {
            "_dom_classes": [],
            "_model_module": "@jupyter-widgets/controls",
            "_model_module_version": "2.0.0",
            "_model_name": "FloatProgressModel",
            "_view_count": null,
            "_view_module": "@jupyter-widgets/controls",
            "_view_module_version": "2.0.0",
            "_view_name": "ProgressView",
            "bar_style": "success",
            "description": "",
            "description_allow_html": false,
            "layout": "IPY_MODEL_765885d3ec83482ab137ed1f2051a604",
            "max": 2,
            "min": 0,
            "orientation": "horizontal",
            "style": "IPY_MODEL_c3203f5e5a51451b919f086ddb8cddc1",
            "tabbable": null,
            "tooltip": null,
            "value": 2
          }
        },
        "8a8ce388c8914eea99766b5540c92676": {
          "model_module": "@jupyter-widgets/controls",
          "model_name": "HTMLModel",
          "model_module_version": "2.0.0",
          "state": {
            "_dom_classes": [],
            "_model_module": "@jupyter-widgets/controls",
            "_model_module_version": "2.0.0",
            "_model_name": "HTMLModel",
            "_view_count": null,
            "_view_module": "@jupyter-widgets/controls",
            "_view_module_version": "2.0.0",
            "_view_name": "HTMLView",
            "description": "",
            "description_allow_html": false,
            "layout": "IPY_MODEL_011cf4009c29412ea9eac87ea68b0084",
            "placeholder": "​",
            "style": "IPY_MODEL_a1ac1cd144fd4b36af39473cb8a22853",
            "tabbable": null,
            "tooltip": null,
            "value": " 2/2 [00:13&lt;00:00,  5.89s/it]"
          }
        },
        "73cddd2ea62e4d058f495a21e2fca51f": {
          "model_module": "@jupyter-widgets/base",
          "model_name": "LayoutModel",
          "model_module_version": "2.0.0",
          "state": {
            "_model_module": "@jupyter-widgets/base",
            "_model_module_version": "2.0.0",
            "_model_name": "LayoutModel",
            "_view_count": null,
            "_view_module": "@jupyter-widgets/base",
            "_view_module_version": "2.0.0",
            "_view_name": "LayoutView",
            "align_content": null,
            "align_items": null,
            "align_self": null,
            "border_bottom": null,
            "border_left": null,
            "border_right": null,
            "border_top": null,
            "bottom": null,
            "display": null,
            "flex": null,
            "flex_flow": null,
            "grid_area": null,
            "grid_auto_columns": null,
            "grid_auto_flow": null,
            "grid_auto_rows": null,
            "grid_column": null,
            "grid_gap": null,
            "grid_row": null,
            "grid_template_areas": null,
            "grid_template_columns": null,
            "grid_template_rows": null,
            "height": null,
            "justify_content": null,
            "justify_items": null,
            "left": null,
            "margin": null,
            "max_height": null,
            "max_width": null,
            "min_height": null,
            "min_width": null,
            "object_fit": null,
            "object_position": null,
            "order": null,
            "overflow": null,
            "padding": null,
            "right": null,
            "top": null,
            "visibility": null,
            "width": null
          }
        },
        "b3f961b0f7a3458fac3e9a1671e25adc": {
          "model_module": "@jupyter-widgets/base",
          "model_name": "LayoutModel",
          "model_module_version": "2.0.0",
          "state": {
            "_model_module": "@jupyter-widgets/base",
            "_model_module_version": "2.0.0",
            "_model_name": "LayoutModel",
            "_view_count": null,
            "_view_module": "@jupyter-widgets/base",
            "_view_module_version": "2.0.0",
            "_view_name": "LayoutView",
            "align_content": null,
            "align_items": null,
            "align_self": null,
            "border_bottom": null,
            "border_left": null,
            "border_right": null,
            "border_top": null,
            "bottom": null,
            "display": null,
            "flex": null,
            "flex_flow": null,
            "grid_area": null,
            "grid_auto_columns": null,
            "grid_auto_flow": null,
            "grid_auto_rows": null,
            "grid_column": null,
            "grid_gap": null,
            "grid_row": null,
            "grid_template_areas": null,
            "grid_template_columns": null,
            "grid_template_rows": null,
            "height": null,
            "justify_content": null,
            "justify_items": null,
            "left": null,
            "margin": null,
            "max_height": null,
            "max_width": null,
            "min_height": null,
            "min_width": null,
            "object_fit": null,
            "object_position": null,
            "order": null,
            "overflow": null,
            "padding": null,
            "right": null,
            "top": null,
            "visibility": null,
            "width": null
          }
        },
        "93ea1712d0ad4ed5a21191a27a16f6c9": {
          "model_module": "@jupyter-widgets/controls",
          "model_name": "HTMLStyleModel",
          "model_module_version": "2.0.0",
          "state": {
            "_model_module": "@jupyter-widgets/controls",
            "_model_module_version": "2.0.0",
            "_model_name": "HTMLStyleModel",
            "_view_count": null,
            "_view_module": "@jupyter-widgets/base",
            "_view_module_version": "2.0.0",
            "_view_name": "StyleView",
            "background": null,
            "description_width": "",
            "font_size": null,
            "text_color": null
          }
        },
        "765885d3ec83482ab137ed1f2051a604": {
          "model_module": "@jupyter-widgets/base",
          "model_name": "LayoutModel",
          "model_module_version": "2.0.0",
          "state": {
            "_model_module": "@jupyter-widgets/base",
            "_model_module_version": "2.0.0",
            "_model_name": "LayoutModel",
            "_view_count": null,
            "_view_module": "@jupyter-widgets/base",
            "_view_module_version": "2.0.0",
            "_view_name": "LayoutView",
            "align_content": null,
            "align_items": null,
            "align_self": null,
            "border_bottom": null,
            "border_left": null,
            "border_right": null,
            "border_top": null,
            "bottom": null,
            "display": null,
            "flex": null,
            "flex_flow": null,
            "grid_area": null,
            "grid_auto_columns": null,
            "grid_auto_flow": null,
            "grid_auto_rows": null,
            "grid_column": null,
            "grid_gap": null,
            "grid_row": null,
            "grid_template_areas": null,
            "grid_template_columns": null,
            "grid_template_rows": null,
            "height": null,
            "justify_content": null,
            "justify_items": null,
            "left": null,
            "margin": null,
            "max_height": null,
            "max_width": null,
            "min_height": null,
            "min_width": null,
            "object_fit": null,
            "object_position": null,
            "order": null,
            "overflow": null,
            "padding": null,
            "right": null,
            "top": null,
            "visibility": null,
            "width": null
          }
        },
        "c3203f5e5a51451b919f086ddb8cddc1": {
          "model_module": "@jupyter-widgets/controls",
          "model_name": "ProgressStyleModel",
          "model_module_version": "2.0.0",
          "state": {
            "_model_module": "@jupyter-widgets/controls",
            "_model_module_version": "2.0.0",
            "_model_name": "ProgressStyleModel",
            "_view_count": null,
            "_view_module": "@jupyter-widgets/base",
            "_view_module_version": "2.0.0",
            "_view_name": "StyleView",
            "bar_color": null,
            "description_width": ""
          }
        },
        "011cf4009c29412ea9eac87ea68b0084": {
          "model_module": "@jupyter-widgets/base",
          "model_name": "LayoutModel",
          "model_module_version": "2.0.0",
          "state": {
            "_model_module": "@jupyter-widgets/base",
            "_model_module_version": "2.0.0",
            "_model_name": "LayoutModel",
            "_view_count": null,
            "_view_module": "@jupyter-widgets/base",
            "_view_module_version": "2.0.0",
            "_view_name": "LayoutView",
            "align_content": null,
            "align_items": null,
            "align_self": null,
            "border_bottom": null,
            "border_left": null,
            "border_right": null,
            "border_top": null,
            "bottom": null,
            "display": null,
            "flex": null,
            "flex_flow": null,
            "grid_area": null,
            "grid_auto_columns": null,
            "grid_auto_flow": null,
            "grid_auto_rows": null,
            "grid_column": null,
            "grid_gap": null,
            "grid_row": null,
            "grid_template_areas": null,
            "grid_template_columns": null,
            "grid_template_rows": null,
            "height": null,
            "justify_content": null,
            "justify_items": null,
            "left": null,
            "margin": null,
            "max_height": null,
            "max_width": null,
            "min_height": null,
            "min_width": null,
            "object_fit": null,
            "object_position": null,
            "order": null,
            "overflow": null,
            "padding": null,
            "right": null,
            "top": null,
            "visibility": null,
            "width": null
          }
        },
        "a1ac1cd144fd4b36af39473cb8a22853": {
          "model_module": "@jupyter-widgets/controls",
          "model_name": "HTMLStyleModel",
          "model_module_version": "2.0.0",
          "state": {
            "_model_module": "@jupyter-widgets/controls",
            "_model_module_version": "2.0.0",
            "_model_name": "HTMLStyleModel",
            "_view_count": null,
            "_view_module": "@jupyter-widgets/base",
            "_view_module_version": "2.0.0",
            "_view_name": "StyleView",
            "background": null,
            "description_width": "",
            "font_size": null,
            "text_color": null
          }
        },
        "ee7486b8fbf7448181bd52be45465941": {
          "model_module": "@jupyter-widgets/controls",
          "model_name": "HBoxModel",
          "model_module_version": "2.0.0",
          "state": {
            "_dom_classes": [],
            "_model_module": "@jupyter-widgets/controls",
            "_model_module_version": "2.0.0",
            "_model_name": "HBoxModel",
            "_view_count": null,
            "_view_module": "@jupyter-widgets/controls",
            "_view_module_version": "2.0.0",
            "_view_name": "HBoxView",
            "box_style": "",
            "children": [
              "IPY_MODEL_257b51dd27fa4f6cbaa82f6b4f815d0e",
              "IPY_MODEL_d1935a2f9a274c5aabccd6fcadd4e282",
              "IPY_MODEL_dc7d6e007e354b909517d4b965b09159"
            ],
            "layout": "IPY_MODEL_7280ebd0969d4a7a81d2cde232e2a189",
            "tabbable": null,
            "tooltip": null
          }
        },
        "257b51dd27fa4f6cbaa82f6b4f815d0e": {
          "model_module": "@jupyter-widgets/controls",
          "model_name": "HTMLModel",
          "model_module_version": "2.0.0",
          "state": {
            "_dom_classes": [],
            "_model_module": "@jupyter-widgets/controls",
            "_model_module_version": "2.0.0",
            "_model_name": "HTMLModel",
            "_view_count": null,
            "_view_module": "@jupyter-widgets/controls",
            "_view_module_version": "2.0.0",
            "_view_name": "HTMLView",
            "description": "",
            "description_allow_html": false,
            "layout": "IPY_MODEL_8e1fcec412cf49c1bd855bbac5884863",
            "placeholder": "​",
            "style": "IPY_MODEL_e83c47805ba14efe89b11329bd45020d",
            "tabbable": null,
            "tooltip": null,
            "value": "Map: 100%"
          }
        },
        "d1935a2f9a274c5aabccd6fcadd4e282": {
          "model_module": "@jupyter-widgets/controls",
          "model_name": "FloatProgressModel",
          "model_module_version": "2.0.0",
          "state": {
            "_dom_classes": [],
            "_model_module": "@jupyter-widgets/controls",
            "_model_module_version": "2.0.0",
            "_model_name": "FloatProgressModel",
            "_view_count": null,
            "_view_module": "@jupyter-widgets/controls",
            "_view_module_version": "2.0.0",
            "_view_name": "ProgressView",
            "bar_style": "success",
            "description": "",
            "description_allow_html": false,
            "layout": "IPY_MODEL_a0119ecbc068413abffd9d607099bbc7",
            "max": 27707,
            "min": 0,
            "orientation": "horizontal",
            "style": "IPY_MODEL_565cca5880e84e2986b8e3bd583777a1",
            "tabbable": null,
            "tooltip": null,
            "value": 27707
          }
        },
        "dc7d6e007e354b909517d4b965b09159": {
          "model_module": "@jupyter-widgets/controls",
          "model_name": "HTMLModel",
          "model_module_version": "2.0.0",
          "state": {
            "_dom_classes": [],
            "_model_module": "@jupyter-widgets/controls",
            "_model_module_version": "2.0.0",
            "_model_name": "HTMLModel",
            "_view_count": null,
            "_view_module": "@jupyter-widgets/controls",
            "_view_module_version": "2.0.0",
            "_view_name": "HTMLView",
            "description": "",
            "description_allow_html": false,
            "layout": "IPY_MODEL_8c5c4f2d4d4443049af64c067a34b600",
            "placeholder": "​",
            "style": "IPY_MODEL_887278423dc449d6991987600f258cee",
            "tabbable": null,
            "tooltip": null,
            "value": " 27707/27707 [00:29&lt;00:00, 1148.48 examples/s]"
          }
        },
        "7280ebd0969d4a7a81d2cde232e2a189": {
          "model_module": "@jupyter-widgets/base",
          "model_name": "LayoutModel",
          "model_module_version": "2.0.0",
          "state": {
            "_model_module": "@jupyter-widgets/base",
            "_model_module_version": "2.0.0",
            "_model_name": "LayoutModel",
            "_view_count": null,
            "_view_module": "@jupyter-widgets/base",
            "_view_module_version": "2.0.0",
            "_view_name": "LayoutView",
            "align_content": null,
            "align_items": null,
            "align_self": null,
            "border_bottom": null,
            "border_left": null,
            "border_right": null,
            "border_top": null,
            "bottom": null,
            "display": null,
            "flex": null,
            "flex_flow": null,
            "grid_area": null,
            "grid_auto_columns": null,
            "grid_auto_flow": null,
            "grid_auto_rows": null,
            "grid_column": null,
            "grid_gap": null,
            "grid_row": null,
            "grid_template_areas": null,
            "grid_template_columns": null,
            "grid_template_rows": null,
            "height": null,
            "justify_content": null,
            "justify_items": null,
            "left": null,
            "margin": null,
            "max_height": null,
            "max_width": null,
            "min_height": null,
            "min_width": null,
            "object_fit": null,
            "object_position": null,
            "order": null,
            "overflow": null,
            "padding": null,
            "right": null,
            "top": null,
            "visibility": null,
            "width": null
          }
        },
        "8e1fcec412cf49c1bd855bbac5884863": {
          "model_module": "@jupyter-widgets/base",
          "model_name": "LayoutModel",
          "model_module_version": "2.0.0",
          "state": {
            "_model_module": "@jupyter-widgets/base",
            "_model_module_version": "2.0.0",
            "_model_name": "LayoutModel",
            "_view_count": null,
            "_view_module": "@jupyter-widgets/base",
            "_view_module_version": "2.0.0",
            "_view_name": "LayoutView",
            "align_content": null,
            "align_items": null,
            "align_self": null,
            "border_bottom": null,
            "border_left": null,
            "border_right": null,
            "border_top": null,
            "bottom": null,
            "display": null,
            "flex": null,
            "flex_flow": null,
            "grid_area": null,
            "grid_auto_columns": null,
            "grid_auto_flow": null,
            "grid_auto_rows": null,
            "grid_column": null,
            "grid_gap": null,
            "grid_row": null,
            "grid_template_areas": null,
            "grid_template_columns": null,
            "grid_template_rows": null,
            "height": null,
            "justify_content": null,
            "justify_items": null,
            "left": null,
            "margin": null,
            "max_height": null,
            "max_width": null,
            "min_height": null,
            "min_width": null,
            "object_fit": null,
            "object_position": null,
            "order": null,
            "overflow": null,
            "padding": null,
            "right": null,
            "top": null,
            "visibility": null,
            "width": null
          }
        },
        "e83c47805ba14efe89b11329bd45020d": {
          "model_module": "@jupyter-widgets/controls",
          "model_name": "HTMLStyleModel",
          "model_module_version": "2.0.0",
          "state": {
            "_model_module": "@jupyter-widgets/controls",
            "_model_module_version": "2.0.0",
            "_model_name": "HTMLStyleModel",
            "_view_count": null,
            "_view_module": "@jupyter-widgets/base",
            "_view_module_version": "2.0.0",
            "_view_name": "StyleView",
            "background": null,
            "description_width": "",
            "font_size": null,
            "text_color": null
          }
        },
        "a0119ecbc068413abffd9d607099bbc7": {
          "model_module": "@jupyter-widgets/base",
          "model_name": "LayoutModel",
          "model_module_version": "2.0.0",
          "state": {
            "_model_module": "@jupyter-widgets/base",
            "_model_module_version": "2.0.0",
            "_model_name": "LayoutModel",
            "_view_count": null,
            "_view_module": "@jupyter-widgets/base",
            "_view_module_version": "2.0.0",
            "_view_name": "LayoutView",
            "align_content": null,
            "align_items": null,
            "align_self": null,
            "border_bottom": null,
            "border_left": null,
            "border_right": null,
            "border_top": null,
            "bottom": null,
            "display": null,
            "flex": null,
            "flex_flow": null,
            "grid_area": null,
            "grid_auto_columns": null,
            "grid_auto_flow": null,
            "grid_auto_rows": null,
            "grid_column": null,
            "grid_gap": null,
            "grid_row": null,
            "grid_template_areas": null,
            "grid_template_columns": null,
            "grid_template_rows": null,
            "height": null,
            "justify_content": null,
            "justify_items": null,
            "left": null,
            "margin": null,
            "max_height": null,
            "max_width": null,
            "min_height": null,
            "min_width": null,
            "object_fit": null,
            "object_position": null,
            "order": null,
            "overflow": null,
            "padding": null,
            "right": null,
            "top": null,
            "visibility": null,
            "width": null
          }
        },
        "565cca5880e84e2986b8e3bd583777a1": {
          "model_module": "@jupyter-widgets/controls",
          "model_name": "ProgressStyleModel",
          "model_module_version": "2.0.0",
          "state": {
            "_model_module": "@jupyter-widgets/controls",
            "_model_module_version": "2.0.0",
            "_model_name": "ProgressStyleModel",
            "_view_count": null,
            "_view_module": "@jupyter-widgets/base",
            "_view_module_version": "2.0.0",
            "_view_name": "StyleView",
            "bar_color": null,
            "description_width": ""
          }
        },
        "8c5c4f2d4d4443049af64c067a34b600": {
          "model_module": "@jupyter-widgets/base",
          "model_name": "LayoutModel",
          "model_module_version": "2.0.0",
          "state": {
            "_model_module": "@jupyter-widgets/base",
            "_model_module_version": "2.0.0",
            "_model_name": "LayoutModel",
            "_view_count": null,
            "_view_module": "@jupyter-widgets/base",
            "_view_module_version": "2.0.0",
            "_view_name": "LayoutView",
            "align_content": null,
            "align_items": null,
            "align_self": null,
            "border_bottom": null,
            "border_left": null,
            "border_right": null,
            "border_top": null,
            "bottom": null,
            "display": null,
            "flex": null,
            "flex_flow": null,
            "grid_area": null,
            "grid_auto_columns": null,
            "grid_auto_flow": null,
            "grid_auto_rows": null,
            "grid_column": null,
            "grid_gap": null,
            "grid_row": null,
            "grid_template_areas": null,
            "grid_template_columns": null,
            "grid_template_rows": null,
            "height": null,
            "justify_content": null,
            "justify_items": null,
            "left": null,
            "margin": null,
            "max_height": null,
            "max_width": null,
            "min_height": null,
            "min_width": null,
            "object_fit": null,
            "object_position": null,
            "order": null,
            "overflow": null,
            "padding": null,
            "right": null,
            "top": null,
            "visibility": null,
            "width": null
          }
        },
        "887278423dc449d6991987600f258cee": {
          "model_module": "@jupyter-widgets/controls",
          "model_name": "HTMLStyleModel",
          "model_module_version": "2.0.0",
          "state": {
            "_model_module": "@jupyter-widgets/controls",
            "_model_module_version": "2.0.0",
            "_model_name": "HTMLStyleModel",
            "_view_count": null,
            "_view_module": "@jupyter-widgets/base",
            "_view_module_version": "2.0.0",
            "_view_name": "StyleView",
            "background": null,
            "description_width": "",
            "font_size": null,
            "text_color": null
          }
        },
        "14a8b0d550094d72bdf460cec6e8ab21": {
          "model_module": "@jupyter-widgets/controls",
          "model_name": "HBoxModel",
          "model_module_version": "2.0.0",
          "state": {
            "_dom_classes": [],
            "_model_module": "@jupyter-widgets/controls",
            "_model_module_version": "2.0.0",
            "_model_name": "HBoxModel",
            "_view_count": null,
            "_view_module": "@jupyter-widgets/controls",
            "_view_module_version": "2.0.0",
            "_view_name": "HBoxView",
            "box_style": "",
            "children": [
              "IPY_MODEL_e170dfd4bbd940e8b25a984c2021157e",
              "IPY_MODEL_0216a89eb9884341b86cfec748a637bf",
              "IPY_MODEL_ab3e0eca29df48af91d01951a0c904a9"
            ],
            "layout": "IPY_MODEL_0a7e32681b3e4cd299042af251a5098a",
            "tabbable": null,
            "tooltip": null
          }
        },
        "e170dfd4bbd940e8b25a984c2021157e": {
          "model_module": "@jupyter-widgets/controls",
          "model_name": "HTMLModel",
          "model_module_version": "2.0.0",
          "state": {
            "_dom_classes": [],
            "_model_module": "@jupyter-widgets/controls",
            "_model_module_version": "2.0.0",
            "_model_name": "HTMLModel",
            "_view_count": null,
            "_view_module": "@jupyter-widgets/controls",
            "_view_module_version": "2.0.0",
            "_view_name": "HTMLView",
            "description": "",
            "description_allow_html": false,
            "layout": "IPY_MODEL_b60e7141f1ce40479b475364644079bb",
            "placeholder": "​",
            "style": "IPY_MODEL_2aa60fe5b75c4bbfa4c25d0702ce709a",
            "tabbable": null,
            "tooltip": null,
            "value": "Map: 100%"
          }
        },
        "0216a89eb9884341b86cfec748a637bf": {
          "model_module": "@jupyter-widgets/controls",
          "model_name": "FloatProgressModel",
          "model_module_version": "2.0.0",
          "state": {
            "_dom_classes": [],
            "_model_module": "@jupyter-widgets/controls",
            "_model_module_version": "2.0.0",
            "_model_name": "FloatProgressModel",
            "_view_count": null,
            "_view_module": "@jupyter-widgets/controls",
            "_view_module_version": "2.0.0",
            "_view_name": "ProgressView",
            "bar_style": "success",
            "description": "",
            "description_allow_html": false,
            "layout": "IPY_MODEL_929c9012e6ab45d78f7d085f67633c6f",
            "max": 2573,
            "min": 0,
            "orientation": "horizontal",
            "style": "IPY_MODEL_e1a1d5460501448fb3e7174c8136fdf7",
            "tabbable": null,
            "tooltip": null,
            "value": 2573
          }
        },
        "ab3e0eca29df48af91d01951a0c904a9": {
          "model_module": "@jupyter-widgets/controls",
          "model_name": "HTMLModel",
          "model_module_version": "2.0.0",
          "state": {
            "_dom_classes": [],
            "_model_module": "@jupyter-widgets/controls",
            "_model_module_version": "2.0.0",
            "_model_name": "HTMLModel",
            "_view_count": null,
            "_view_module": "@jupyter-widgets/controls",
            "_view_module_version": "2.0.0",
            "_view_name": "HTMLView",
            "description": "",
            "description_allow_html": false,
            "layout": "IPY_MODEL_ff862eb7e63b4a19a363042422d7fb69",
            "placeholder": "​",
            "style": "IPY_MODEL_b6131ed8e89b44b388c8f3f46bb6b773",
            "tabbable": null,
            "tooltip": null,
            "value": " 2573/2573 [00:02&lt;00:00, 1038.00 examples/s]"
          }
        },
        "0a7e32681b3e4cd299042af251a5098a": {
          "model_module": "@jupyter-widgets/base",
          "model_name": "LayoutModel",
          "model_module_version": "2.0.0",
          "state": {
            "_model_module": "@jupyter-widgets/base",
            "_model_module_version": "2.0.0",
            "_model_name": "LayoutModel",
            "_view_count": null,
            "_view_module": "@jupyter-widgets/base",
            "_view_module_version": "2.0.0",
            "_view_name": "LayoutView",
            "align_content": null,
            "align_items": null,
            "align_self": null,
            "border_bottom": null,
            "border_left": null,
            "border_right": null,
            "border_top": null,
            "bottom": null,
            "display": null,
            "flex": null,
            "flex_flow": null,
            "grid_area": null,
            "grid_auto_columns": null,
            "grid_auto_flow": null,
            "grid_auto_rows": null,
            "grid_column": null,
            "grid_gap": null,
            "grid_row": null,
            "grid_template_areas": null,
            "grid_template_columns": null,
            "grid_template_rows": null,
            "height": null,
            "justify_content": null,
            "justify_items": null,
            "left": null,
            "margin": null,
            "max_height": null,
            "max_width": null,
            "min_height": null,
            "min_width": null,
            "object_fit": null,
            "object_position": null,
            "order": null,
            "overflow": null,
            "padding": null,
            "right": null,
            "top": null,
            "visibility": null,
            "width": null
          }
        },
        "b60e7141f1ce40479b475364644079bb": {
          "model_module": "@jupyter-widgets/base",
          "model_name": "LayoutModel",
          "model_module_version": "2.0.0",
          "state": {
            "_model_module": "@jupyter-widgets/base",
            "_model_module_version": "2.0.0",
            "_model_name": "LayoutModel",
            "_view_count": null,
            "_view_module": "@jupyter-widgets/base",
            "_view_module_version": "2.0.0",
            "_view_name": "LayoutView",
            "align_content": null,
            "align_items": null,
            "align_self": null,
            "border_bottom": null,
            "border_left": null,
            "border_right": null,
            "border_top": null,
            "bottom": null,
            "display": null,
            "flex": null,
            "flex_flow": null,
            "grid_area": null,
            "grid_auto_columns": null,
            "grid_auto_flow": null,
            "grid_auto_rows": null,
            "grid_column": null,
            "grid_gap": null,
            "grid_row": null,
            "grid_template_areas": null,
            "grid_template_columns": null,
            "grid_template_rows": null,
            "height": null,
            "justify_content": null,
            "justify_items": null,
            "left": null,
            "margin": null,
            "max_height": null,
            "max_width": null,
            "min_height": null,
            "min_width": null,
            "object_fit": null,
            "object_position": null,
            "order": null,
            "overflow": null,
            "padding": null,
            "right": null,
            "top": null,
            "visibility": null,
            "width": null
          }
        },
        "2aa60fe5b75c4bbfa4c25d0702ce709a": {
          "model_module": "@jupyter-widgets/controls",
          "model_name": "HTMLStyleModel",
          "model_module_version": "2.0.0",
          "state": {
            "_model_module": "@jupyter-widgets/controls",
            "_model_module_version": "2.0.0",
            "_model_name": "HTMLStyleModel",
            "_view_count": null,
            "_view_module": "@jupyter-widgets/base",
            "_view_module_version": "2.0.0",
            "_view_name": "StyleView",
            "background": null,
            "description_width": "",
            "font_size": null,
            "text_color": null
          }
        },
        "929c9012e6ab45d78f7d085f67633c6f": {
          "model_module": "@jupyter-widgets/base",
          "model_name": "LayoutModel",
          "model_module_version": "2.0.0",
          "state": {
            "_model_module": "@jupyter-widgets/base",
            "_model_module_version": "2.0.0",
            "_model_name": "LayoutModel",
            "_view_count": null,
            "_view_module": "@jupyter-widgets/base",
            "_view_module_version": "2.0.0",
            "_view_name": "LayoutView",
            "align_content": null,
            "align_items": null,
            "align_self": null,
            "border_bottom": null,
            "border_left": null,
            "border_right": null,
            "border_top": null,
            "bottom": null,
            "display": null,
            "flex": null,
            "flex_flow": null,
            "grid_area": null,
            "grid_auto_columns": null,
            "grid_auto_flow": null,
            "grid_auto_rows": null,
            "grid_column": null,
            "grid_gap": null,
            "grid_row": null,
            "grid_template_areas": null,
            "grid_template_columns": null,
            "grid_template_rows": null,
            "height": null,
            "justify_content": null,
            "justify_items": null,
            "left": null,
            "margin": null,
            "max_height": null,
            "max_width": null,
            "min_height": null,
            "min_width": null,
            "object_fit": null,
            "object_position": null,
            "order": null,
            "overflow": null,
            "padding": null,
            "right": null,
            "top": null,
            "visibility": null,
            "width": null
          }
        },
        "e1a1d5460501448fb3e7174c8136fdf7": {
          "model_module": "@jupyter-widgets/controls",
          "model_name": "ProgressStyleModel",
          "model_module_version": "2.0.0",
          "state": {
            "_model_module": "@jupyter-widgets/controls",
            "_model_module_version": "2.0.0",
            "_model_name": "ProgressStyleModel",
            "_view_count": null,
            "_view_module": "@jupyter-widgets/base",
            "_view_module_version": "2.0.0",
            "_view_name": "StyleView",
            "bar_color": null,
            "description_width": ""
          }
        },
        "ff862eb7e63b4a19a363042422d7fb69": {
          "model_module": "@jupyter-widgets/base",
          "model_name": "LayoutModel",
          "model_module_version": "2.0.0",
          "state": {
            "_model_module": "@jupyter-widgets/base",
            "_model_module_version": "2.0.0",
            "_model_name": "LayoutModel",
            "_view_count": null,
            "_view_module": "@jupyter-widgets/base",
            "_view_module_version": "2.0.0",
            "_view_name": "LayoutView",
            "align_content": null,
            "align_items": null,
            "align_self": null,
            "border_bottom": null,
            "border_left": null,
            "border_right": null,
            "border_top": null,
            "bottom": null,
            "display": null,
            "flex": null,
            "flex_flow": null,
            "grid_area": null,
            "grid_auto_columns": null,
            "grid_auto_flow": null,
            "grid_auto_rows": null,
            "grid_column": null,
            "grid_gap": null,
            "grid_row": null,
            "grid_template_areas": null,
            "grid_template_columns": null,
            "grid_template_rows": null,
            "height": null,
            "justify_content": null,
            "justify_items": null,
            "left": null,
            "margin": null,
            "max_height": null,
            "max_width": null,
            "min_height": null,
            "min_width": null,
            "object_fit": null,
            "object_position": null,
            "order": null,
            "overflow": null,
            "padding": null,
            "right": null,
            "top": null,
            "visibility": null,
            "width": null
          }
        },
        "b6131ed8e89b44b388c8f3f46bb6b773": {
          "model_module": "@jupyter-widgets/controls",
          "model_name": "HTMLStyleModel",
          "model_module_version": "2.0.0",
          "state": {
            "_model_module": "@jupyter-widgets/controls",
            "_model_module_version": "2.0.0",
            "_model_name": "HTMLStyleModel",
            "_view_count": null,
            "_view_module": "@jupyter-widgets/base",
            "_view_module_version": "2.0.0",
            "_view_name": "StyleView",
            "background": null,
            "description_width": "",
            "font_size": null,
            "text_color": null
          }
        },
        "1a27b2da7e68434b86f51825a81f7371": {
          "model_module": "@jupyter-widgets/controls",
          "model_name": "HBoxModel",
          "model_module_version": "2.0.0",
          "state": {
            "_dom_classes": [],
            "_model_module": "@jupyter-widgets/controls",
            "_model_module_version": "2.0.0",
            "_model_name": "HBoxModel",
            "_view_count": null,
            "_view_module": "@jupyter-widgets/controls",
            "_view_module_version": "2.0.0",
            "_view_name": "HBoxView",
            "box_style": "",
            "children": [
              "IPY_MODEL_23553659a920485f96ad0e706ad3ae87",
              "IPY_MODEL_f46ade0487824d15aa7c2baaa4cc86e1",
              "IPY_MODEL_58aecbb35b5943c8a7f3ec5de291ef16"
            ],
            "layout": "IPY_MODEL_5d7b39d84bc84268b59a58638606e42f",
            "tabbable": null,
            "tooltip": null
          }
        },
        "23553659a920485f96ad0e706ad3ae87": {
          "model_module": "@jupyter-widgets/controls",
          "model_name": "HTMLModel",
          "model_module_version": "2.0.0",
          "state": {
            "_dom_classes": [],
            "_model_module": "@jupyter-widgets/controls",
            "_model_module_version": "2.0.0",
            "_model_name": "HTMLModel",
            "_view_count": null,
            "_view_module": "@jupyter-widgets/controls",
            "_view_module_version": "2.0.0",
            "_view_name": "HTMLView",
            "description": "",
            "description_allow_html": false,
            "layout": "IPY_MODEL_9cb4e2afb6754f67a99e11a1f395579c",
            "placeholder": "​",
            "style": "IPY_MODEL_9abda50e5d864a63a52ca4351516420e",
            "tabbable": null,
            "tooltip": null,
            "value": "Map: 100%"
          }
        },
        "f46ade0487824d15aa7c2baaa4cc86e1": {
          "model_module": "@jupyter-widgets/controls",
          "model_name": "FloatProgressModel",
          "model_module_version": "2.0.0",
          "state": {
            "_dom_classes": [],
            "_model_module": "@jupyter-widgets/controls",
            "_model_module_version": "2.0.0",
            "_model_name": "FloatProgressModel",
            "_view_count": null,
            "_view_module": "@jupyter-widgets/controls",
            "_view_module_version": "2.0.0",
            "_view_name": "ProgressView",
            "bar_style": "success",
            "description": "",
            "description_allow_html": false,
            "layout": "IPY_MODEL_444683d654cf46358e047ff3a90e2f5f",
            "max": 27707,
            "min": 0,
            "orientation": "horizontal",
            "style": "IPY_MODEL_6053e1d72d9e42a7839f8be3a5eadd09",
            "tabbable": null,
            "tooltip": null,
            "value": 27707
          }
        },
        "58aecbb35b5943c8a7f3ec5de291ef16": {
          "model_module": "@jupyter-widgets/controls",
          "model_name": "HTMLModel",
          "model_module_version": "2.0.0",
          "state": {
            "_dom_classes": [],
            "_model_module": "@jupyter-widgets/controls",
            "_model_module_version": "2.0.0",
            "_model_name": "HTMLModel",
            "_view_count": null,
            "_view_module": "@jupyter-widgets/controls",
            "_view_module_version": "2.0.0",
            "_view_name": "HTMLView",
            "description": "",
            "description_allow_html": false,
            "layout": "IPY_MODEL_67a7d74430ac4777a34a78b5b90cce63",
            "placeholder": "​",
            "style": "IPY_MODEL_73742282aa9c4859b2e233ce0b0a0458",
            "tabbable": null,
            "tooltip": null,
            "value": " 27707/27707 [00:36&lt;00:00, 658.59 examples/s]"
          }
        },
        "5d7b39d84bc84268b59a58638606e42f": {
          "model_module": "@jupyter-widgets/base",
          "model_name": "LayoutModel",
          "model_module_version": "2.0.0",
          "state": {
            "_model_module": "@jupyter-widgets/base",
            "_model_module_version": "2.0.0",
            "_model_name": "LayoutModel",
            "_view_count": null,
            "_view_module": "@jupyter-widgets/base",
            "_view_module_version": "2.0.0",
            "_view_name": "LayoutView",
            "align_content": null,
            "align_items": null,
            "align_self": null,
            "border_bottom": null,
            "border_left": null,
            "border_right": null,
            "border_top": null,
            "bottom": null,
            "display": null,
            "flex": null,
            "flex_flow": null,
            "grid_area": null,
            "grid_auto_columns": null,
            "grid_auto_flow": null,
            "grid_auto_rows": null,
            "grid_column": null,
            "grid_gap": null,
            "grid_row": null,
            "grid_template_areas": null,
            "grid_template_columns": null,
            "grid_template_rows": null,
            "height": null,
            "justify_content": null,
            "justify_items": null,
            "left": null,
            "margin": null,
            "max_height": null,
            "max_width": null,
            "min_height": null,
            "min_width": null,
            "object_fit": null,
            "object_position": null,
            "order": null,
            "overflow": null,
            "padding": null,
            "right": null,
            "top": null,
            "visibility": null,
            "width": null
          }
        },
        "9cb4e2afb6754f67a99e11a1f395579c": {
          "model_module": "@jupyter-widgets/base",
          "model_name": "LayoutModel",
          "model_module_version": "2.0.0",
          "state": {
            "_model_module": "@jupyter-widgets/base",
            "_model_module_version": "2.0.0",
            "_model_name": "LayoutModel",
            "_view_count": null,
            "_view_module": "@jupyter-widgets/base",
            "_view_module_version": "2.0.0",
            "_view_name": "LayoutView",
            "align_content": null,
            "align_items": null,
            "align_self": null,
            "border_bottom": null,
            "border_left": null,
            "border_right": null,
            "border_top": null,
            "bottom": null,
            "display": null,
            "flex": null,
            "flex_flow": null,
            "grid_area": null,
            "grid_auto_columns": null,
            "grid_auto_flow": null,
            "grid_auto_rows": null,
            "grid_column": null,
            "grid_gap": null,
            "grid_row": null,
            "grid_template_areas": null,
            "grid_template_columns": null,
            "grid_template_rows": null,
            "height": null,
            "justify_content": null,
            "justify_items": null,
            "left": null,
            "margin": null,
            "max_height": null,
            "max_width": null,
            "min_height": null,
            "min_width": null,
            "object_fit": null,
            "object_position": null,
            "order": null,
            "overflow": null,
            "padding": null,
            "right": null,
            "top": null,
            "visibility": null,
            "width": null
          }
        },
        "9abda50e5d864a63a52ca4351516420e": {
          "model_module": "@jupyter-widgets/controls",
          "model_name": "HTMLStyleModel",
          "model_module_version": "2.0.0",
          "state": {
            "_model_module": "@jupyter-widgets/controls",
            "_model_module_version": "2.0.0",
            "_model_name": "HTMLStyleModel",
            "_view_count": null,
            "_view_module": "@jupyter-widgets/base",
            "_view_module_version": "2.0.0",
            "_view_name": "StyleView",
            "background": null,
            "description_width": "",
            "font_size": null,
            "text_color": null
          }
        },
        "444683d654cf46358e047ff3a90e2f5f": {
          "model_module": "@jupyter-widgets/base",
          "model_name": "LayoutModel",
          "model_module_version": "2.0.0",
          "state": {
            "_model_module": "@jupyter-widgets/base",
            "_model_module_version": "2.0.0",
            "_model_name": "LayoutModel",
            "_view_count": null,
            "_view_module": "@jupyter-widgets/base",
            "_view_module_version": "2.0.0",
            "_view_name": "LayoutView",
            "align_content": null,
            "align_items": null,
            "align_self": null,
            "border_bottom": null,
            "border_left": null,
            "border_right": null,
            "border_top": null,
            "bottom": null,
            "display": null,
            "flex": null,
            "flex_flow": null,
            "grid_area": null,
            "grid_auto_columns": null,
            "grid_auto_flow": null,
            "grid_auto_rows": null,
            "grid_column": null,
            "grid_gap": null,
            "grid_row": null,
            "grid_template_areas": null,
            "grid_template_columns": null,
            "grid_template_rows": null,
            "height": null,
            "justify_content": null,
            "justify_items": null,
            "left": null,
            "margin": null,
            "max_height": null,
            "max_width": null,
            "min_height": null,
            "min_width": null,
            "object_fit": null,
            "object_position": null,
            "order": null,
            "overflow": null,
            "padding": null,
            "right": null,
            "top": null,
            "visibility": null,
            "width": null
          }
        },
        "6053e1d72d9e42a7839f8be3a5eadd09": {
          "model_module": "@jupyter-widgets/controls",
          "model_name": "ProgressStyleModel",
          "model_module_version": "2.0.0",
          "state": {
            "_model_module": "@jupyter-widgets/controls",
            "_model_module_version": "2.0.0",
            "_model_name": "ProgressStyleModel",
            "_view_count": null,
            "_view_module": "@jupyter-widgets/base",
            "_view_module_version": "2.0.0",
            "_view_name": "StyleView",
            "bar_color": null,
            "description_width": ""
          }
        },
        "67a7d74430ac4777a34a78b5b90cce63": {
          "model_module": "@jupyter-widgets/base",
          "model_name": "LayoutModel",
          "model_module_version": "2.0.0",
          "state": {
            "_model_module": "@jupyter-widgets/base",
            "_model_module_version": "2.0.0",
            "_model_name": "LayoutModel",
            "_view_count": null,
            "_view_module": "@jupyter-widgets/base",
            "_view_module_version": "2.0.0",
            "_view_name": "LayoutView",
            "align_content": null,
            "align_items": null,
            "align_self": null,
            "border_bottom": null,
            "border_left": null,
            "border_right": null,
            "border_top": null,
            "bottom": null,
            "display": null,
            "flex": null,
            "flex_flow": null,
            "grid_area": null,
            "grid_auto_columns": null,
            "grid_auto_flow": null,
            "grid_auto_rows": null,
            "grid_column": null,
            "grid_gap": null,
            "grid_row": null,
            "grid_template_areas": null,
            "grid_template_columns": null,
            "grid_template_rows": null,
            "height": null,
            "justify_content": null,
            "justify_items": null,
            "left": null,
            "margin": null,
            "max_height": null,
            "max_width": null,
            "min_height": null,
            "min_width": null,
            "object_fit": null,
            "object_position": null,
            "order": null,
            "overflow": null,
            "padding": null,
            "right": null,
            "top": null,
            "visibility": null,
            "width": null
          }
        },
        "73742282aa9c4859b2e233ce0b0a0458": {
          "model_module": "@jupyter-widgets/controls",
          "model_name": "HTMLStyleModel",
          "model_module_version": "2.0.0",
          "state": {
            "_model_module": "@jupyter-widgets/controls",
            "_model_module_version": "2.0.0",
            "_model_name": "HTMLStyleModel",
            "_view_count": null,
            "_view_module": "@jupyter-widgets/base",
            "_view_module_version": "2.0.0",
            "_view_name": "StyleView",
            "background": null,
            "description_width": "",
            "font_size": null,
            "text_color": null
          }
        },
        "4f7076b3b6264608869d71e8cf7a2f56": {
          "model_module": "@jupyter-widgets/controls",
          "model_name": "HBoxModel",
          "model_module_version": "2.0.0",
          "state": {
            "_dom_classes": [],
            "_model_module": "@jupyter-widgets/controls",
            "_model_module_version": "2.0.0",
            "_model_name": "HBoxModel",
            "_view_count": null,
            "_view_module": "@jupyter-widgets/controls",
            "_view_module_version": "2.0.0",
            "_view_name": "HBoxView",
            "box_style": "",
            "children": [
              "IPY_MODEL_73ed9b9ff1e44942af541bf58dee7c8c",
              "IPY_MODEL_5880fed8272e4cbca43501525e4ac7f9",
              "IPY_MODEL_4f2b01503e1948f09dbeef8d5886fbfc"
            ],
            "layout": "IPY_MODEL_153551be69564c86861379740d2983ea",
            "tabbable": null,
            "tooltip": null
          }
        },
        "73ed9b9ff1e44942af541bf58dee7c8c": {
          "model_module": "@jupyter-widgets/controls",
          "model_name": "HTMLModel",
          "model_module_version": "2.0.0",
          "state": {
            "_dom_classes": [],
            "_model_module": "@jupyter-widgets/controls",
            "_model_module_version": "2.0.0",
            "_model_name": "HTMLModel",
            "_view_count": null,
            "_view_module": "@jupyter-widgets/controls",
            "_view_module_version": "2.0.0",
            "_view_name": "HTMLView",
            "description": "",
            "description_allow_html": false,
            "layout": "IPY_MODEL_4f913f15640244908a6c8607dadb9da7",
            "placeholder": "​",
            "style": "IPY_MODEL_00d61ef976844b51921e992e36280c7f",
            "tabbable": null,
            "tooltip": null,
            "value": "Map: 100%"
          }
        },
        "5880fed8272e4cbca43501525e4ac7f9": {
          "model_module": "@jupyter-widgets/controls",
          "model_name": "FloatProgressModel",
          "model_module_version": "2.0.0",
          "state": {
            "_dom_classes": [],
            "_model_module": "@jupyter-widgets/controls",
            "_model_module_version": "2.0.0",
            "_model_name": "FloatProgressModel",
            "_view_count": null,
            "_view_module": "@jupyter-widgets/controls",
            "_view_module_version": "2.0.0",
            "_view_name": "ProgressView",
            "bar_style": "success",
            "description": "",
            "description_allow_html": false,
            "layout": "IPY_MODEL_f96a57276e824e488116e9c8439cdd66",
            "max": 2573,
            "min": 0,
            "orientation": "horizontal",
            "style": "IPY_MODEL_071a97ee069249a0a8e5863cd69623b1",
            "tabbable": null,
            "tooltip": null,
            "value": 2573
          }
        },
        "4f2b01503e1948f09dbeef8d5886fbfc": {
          "model_module": "@jupyter-widgets/controls",
          "model_name": "HTMLModel",
          "model_module_version": "2.0.0",
          "state": {
            "_dom_classes": [],
            "_model_module": "@jupyter-widgets/controls",
            "_model_module_version": "2.0.0",
            "_model_name": "HTMLModel",
            "_view_count": null,
            "_view_module": "@jupyter-widgets/controls",
            "_view_module_version": "2.0.0",
            "_view_name": "HTMLView",
            "description": "",
            "description_allow_html": false,
            "layout": "IPY_MODEL_71bfb3e7089c4fa2a724f0803ee9718f",
            "placeholder": "​",
            "style": "IPY_MODEL_bde47b43c1ba41cbaf959f8fadbc80b6",
            "tabbable": null,
            "tooltip": null,
            "value": " 2573/2573 [00:02&lt;00:00, 997.60 examples/s]"
          }
        },
        "153551be69564c86861379740d2983ea": {
          "model_module": "@jupyter-widgets/base",
          "model_name": "LayoutModel",
          "model_module_version": "2.0.0",
          "state": {
            "_model_module": "@jupyter-widgets/base",
            "_model_module_version": "2.0.0",
            "_model_name": "LayoutModel",
            "_view_count": null,
            "_view_module": "@jupyter-widgets/base",
            "_view_module_version": "2.0.0",
            "_view_name": "LayoutView",
            "align_content": null,
            "align_items": null,
            "align_self": null,
            "border_bottom": null,
            "border_left": null,
            "border_right": null,
            "border_top": null,
            "bottom": null,
            "display": null,
            "flex": null,
            "flex_flow": null,
            "grid_area": null,
            "grid_auto_columns": null,
            "grid_auto_flow": null,
            "grid_auto_rows": null,
            "grid_column": null,
            "grid_gap": null,
            "grid_row": null,
            "grid_template_areas": null,
            "grid_template_columns": null,
            "grid_template_rows": null,
            "height": null,
            "justify_content": null,
            "justify_items": null,
            "left": null,
            "margin": null,
            "max_height": null,
            "max_width": null,
            "min_height": null,
            "min_width": null,
            "object_fit": null,
            "object_position": null,
            "order": null,
            "overflow": null,
            "padding": null,
            "right": null,
            "top": null,
            "visibility": null,
            "width": null
          }
        },
        "4f913f15640244908a6c8607dadb9da7": {
          "model_module": "@jupyter-widgets/base",
          "model_name": "LayoutModel",
          "model_module_version": "2.0.0",
          "state": {
            "_model_module": "@jupyter-widgets/base",
            "_model_module_version": "2.0.0",
            "_model_name": "LayoutModel",
            "_view_count": null,
            "_view_module": "@jupyter-widgets/base",
            "_view_module_version": "2.0.0",
            "_view_name": "LayoutView",
            "align_content": null,
            "align_items": null,
            "align_self": null,
            "border_bottom": null,
            "border_left": null,
            "border_right": null,
            "border_top": null,
            "bottom": null,
            "display": null,
            "flex": null,
            "flex_flow": null,
            "grid_area": null,
            "grid_auto_columns": null,
            "grid_auto_flow": null,
            "grid_auto_rows": null,
            "grid_column": null,
            "grid_gap": null,
            "grid_row": null,
            "grid_template_areas": null,
            "grid_template_columns": null,
            "grid_template_rows": null,
            "height": null,
            "justify_content": null,
            "justify_items": null,
            "left": null,
            "margin": null,
            "max_height": null,
            "max_width": null,
            "min_height": null,
            "min_width": null,
            "object_fit": null,
            "object_position": null,
            "order": null,
            "overflow": null,
            "padding": null,
            "right": null,
            "top": null,
            "visibility": null,
            "width": null
          }
        },
        "00d61ef976844b51921e992e36280c7f": {
          "model_module": "@jupyter-widgets/controls",
          "model_name": "HTMLStyleModel",
          "model_module_version": "2.0.0",
          "state": {
            "_model_module": "@jupyter-widgets/controls",
            "_model_module_version": "2.0.0",
            "_model_name": "HTMLStyleModel",
            "_view_count": null,
            "_view_module": "@jupyter-widgets/base",
            "_view_module_version": "2.0.0",
            "_view_name": "StyleView",
            "background": null,
            "description_width": "",
            "font_size": null,
            "text_color": null
          }
        },
        "f96a57276e824e488116e9c8439cdd66": {
          "model_module": "@jupyter-widgets/base",
          "model_name": "LayoutModel",
          "model_module_version": "2.0.0",
          "state": {
            "_model_module": "@jupyter-widgets/base",
            "_model_module_version": "2.0.0",
            "_model_name": "LayoutModel",
            "_view_count": null,
            "_view_module": "@jupyter-widgets/base",
            "_view_module_version": "2.0.0",
            "_view_name": "LayoutView",
            "align_content": null,
            "align_items": null,
            "align_self": null,
            "border_bottom": null,
            "border_left": null,
            "border_right": null,
            "border_top": null,
            "bottom": null,
            "display": null,
            "flex": null,
            "flex_flow": null,
            "grid_area": null,
            "grid_auto_columns": null,
            "grid_auto_flow": null,
            "grid_auto_rows": null,
            "grid_column": null,
            "grid_gap": null,
            "grid_row": null,
            "grid_template_areas": null,
            "grid_template_columns": null,
            "grid_template_rows": null,
            "height": null,
            "justify_content": null,
            "justify_items": null,
            "left": null,
            "margin": null,
            "max_height": null,
            "max_width": null,
            "min_height": null,
            "min_width": null,
            "object_fit": null,
            "object_position": null,
            "order": null,
            "overflow": null,
            "padding": null,
            "right": null,
            "top": null,
            "visibility": null,
            "width": null
          }
        },
        "071a97ee069249a0a8e5863cd69623b1": {
          "model_module": "@jupyter-widgets/controls",
          "model_name": "ProgressStyleModel",
          "model_module_version": "2.0.0",
          "state": {
            "_model_module": "@jupyter-widgets/controls",
            "_model_module_version": "2.0.0",
            "_model_name": "ProgressStyleModel",
            "_view_count": null,
            "_view_module": "@jupyter-widgets/base",
            "_view_module_version": "2.0.0",
            "_view_name": "StyleView",
            "bar_color": null,
            "description_width": ""
          }
        },
        "71bfb3e7089c4fa2a724f0803ee9718f": {
          "model_module": "@jupyter-widgets/base",
          "model_name": "LayoutModel",
          "model_module_version": "2.0.0",
          "state": {
            "_model_module": "@jupyter-widgets/base",
            "_model_module_version": "2.0.0",
            "_model_name": "LayoutModel",
            "_view_count": null,
            "_view_module": "@jupyter-widgets/base",
            "_view_module_version": "2.0.0",
            "_view_name": "LayoutView",
            "align_content": null,
            "align_items": null,
            "align_self": null,
            "border_bottom": null,
            "border_left": null,
            "border_right": null,
            "border_top": null,
            "bottom": null,
            "display": null,
            "flex": null,
            "flex_flow": null,
            "grid_area": null,
            "grid_auto_columns": null,
            "grid_auto_flow": null,
            "grid_auto_rows": null,
            "grid_column": null,
            "grid_gap": null,
            "grid_row": null,
            "grid_template_areas": null,
            "grid_template_columns": null,
            "grid_template_rows": null,
            "height": null,
            "justify_content": null,
            "justify_items": null,
            "left": null,
            "margin": null,
            "max_height": null,
            "max_width": null,
            "min_height": null,
            "min_width": null,
            "object_fit": null,
            "object_position": null,
            "order": null,
            "overflow": null,
            "padding": null,
            "right": null,
            "top": null,
            "visibility": null,
            "width": null
          }
        },
        "bde47b43c1ba41cbaf959f8fadbc80b6": {
          "model_module": "@jupyter-widgets/controls",
          "model_name": "HTMLStyleModel",
          "model_module_version": "2.0.0",
          "state": {
            "_model_module": "@jupyter-widgets/controls",
            "_model_module_version": "2.0.0",
            "_model_name": "HTMLStyleModel",
            "_view_count": null,
            "_view_module": "@jupyter-widgets/base",
            "_view_module_version": "2.0.0",
            "_view_name": "StyleView",
            "background": null,
            "description_width": "",
            "font_size": null,
            "text_color": null
          }
        },
        "48fb15d4242b4c4ab873b4b55be47a64": {
          "model_module": "@jupyter-widgets/controls",
          "model_name": "HBoxModel",
          "model_module_version": "2.0.0",
          "state": {
            "_dom_classes": [],
            "_model_module": "@jupyter-widgets/controls",
            "_model_module_version": "2.0.0",
            "_model_name": "HBoxModel",
            "_view_count": null,
            "_view_module": "@jupyter-widgets/controls",
            "_view_module_version": "2.0.0",
            "_view_name": "HBoxView",
            "box_style": "",
            "children": [
              "IPY_MODEL_f014762fc1384e8790fd64c1d20f35b5",
              "IPY_MODEL_81734a5b88544c5bbc739e0fd09b7ce2",
              "IPY_MODEL_9a58867674c24a48a03fe4ecf94d754b"
            ],
            "layout": "IPY_MODEL_be17b41f67de4b18820a9c9501c797f9",
            "tabbable": null,
            "tooltip": null
          }
        },
        "f014762fc1384e8790fd64c1d20f35b5": {
          "model_module": "@jupyter-widgets/controls",
          "model_name": "HTMLModel",
          "model_module_version": "2.0.0",
          "state": {
            "_dom_classes": [],
            "_model_module": "@jupyter-widgets/controls",
            "_model_module_version": "2.0.0",
            "_model_name": "HTMLModel",
            "_view_count": null,
            "_view_module": "@jupyter-widgets/controls",
            "_view_module_version": "2.0.0",
            "_view_name": "HTMLView",
            "description": "",
            "description_allow_html": false,
            "layout": "IPY_MODEL_52620c0314e445ae8e0a90c519914563",
            "placeholder": "​",
            "style": "IPY_MODEL_708c5f7c99be428eb22a4779f4f6cf0d",
            "tabbable": null,
            "tooltip": null,
            "value": "Loading checkpoint shards: 100%"
          }
        },
        "81734a5b88544c5bbc739e0fd09b7ce2": {
          "model_module": "@jupyter-widgets/controls",
          "model_name": "FloatProgressModel",
          "model_module_version": "2.0.0",
          "state": {
            "_dom_classes": [],
            "_model_module": "@jupyter-widgets/controls",
            "_model_module_version": "2.0.0",
            "_model_name": "FloatProgressModel",
            "_view_count": null,
            "_view_module": "@jupyter-widgets/controls",
            "_view_module_version": "2.0.0",
            "_view_name": "ProgressView",
            "bar_style": "success",
            "description": "",
            "description_allow_html": false,
            "layout": "IPY_MODEL_99a2abcfc8ab4bb7b5192be88d76f72e",
            "max": 2,
            "min": 0,
            "orientation": "horizontal",
            "style": "IPY_MODEL_408dd1e7df914f229c20892963ae83f4",
            "tabbable": null,
            "tooltip": null,
            "value": 2
          }
        },
        "9a58867674c24a48a03fe4ecf94d754b": {
          "model_module": "@jupyter-widgets/controls",
          "model_name": "HTMLModel",
          "model_module_version": "2.0.0",
          "state": {
            "_dom_classes": [],
            "_model_module": "@jupyter-widgets/controls",
            "_model_module_version": "2.0.0",
            "_model_name": "HTMLModel",
            "_view_count": null,
            "_view_module": "@jupyter-widgets/controls",
            "_view_module_version": "2.0.0",
            "_view_name": "HTMLView",
            "description": "",
            "description_allow_html": false,
            "layout": "IPY_MODEL_1b545d9384414833aae243c1991ea1ca",
            "placeholder": "​",
            "style": "IPY_MODEL_054617ed8df94b62a75e11ca54fdea37",
            "tabbable": null,
            "tooltip": null,
            "value": " 2/2 [00:14&lt;00:00,  5.94s/it]"
          }
        },
        "be17b41f67de4b18820a9c9501c797f9": {
          "model_module": "@jupyter-widgets/base",
          "model_name": "LayoutModel",
          "model_module_version": "2.0.0",
          "state": {
            "_model_module": "@jupyter-widgets/base",
            "_model_module_version": "2.0.0",
            "_model_name": "LayoutModel",
            "_view_count": null,
            "_view_module": "@jupyter-widgets/base",
            "_view_module_version": "2.0.0",
            "_view_name": "LayoutView",
            "align_content": null,
            "align_items": null,
            "align_self": null,
            "border_bottom": null,
            "border_left": null,
            "border_right": null,
            "border_top": null,
            "bottom": null,
            "display": null,
            "flex": null,
            "flex_flow": null,
            "grid_area": null,
            "grid_auto_columns": null,
            "grid_auto_flow": null,
            "grid_auto_rows": null,
            "grid_column": null,
            "grid_gap": null,
            "grid_row": null,
            "grid_template_areas": null,
            "grid_template_columns": null,
            "grid_template_rows": null,
            "height": null,
            "justify_content": null,
            "justify_items": null,
            "left": null,
            "margin": null,
            "max_height": null,
            "max_width": null,
            "min_height": null,
            "min_width": null,
            "object_fit": null,
            "object_position": null,
            "order": null,
            "overflow": null,
            "padding": null,
            "right": null,
            "top": null,
            "visibility": null,
            "width": null
          }
        },
        "52620c0314e445ae8e0a90c519914563": {
          "model_module": "@jupyter-widgets/base",
          "model_name": "LayoutModel",
          "model_module_version": "2.0.0",
          "state": {
            "_model_module": "@jupyter-widgets/base",
            "_model_module_version": "2.0.0",
            "_model_name": "LayoutModel",
            "_view_count": null,
            "_view_module": "@jupyter-widgets/base",
            "_view_module_version": "2.0.0",
            "_view_name": "LayoutView",
            "align_content": null,
            "align_items": null,
            "align_self": null,
            "border_bottom": null,
            "border_left": null,
            "border_right": null,
            "border_top": null,
            "bottom": null,
            "display": null,
            "flex": null,
            "flex_flow": null,
            "grid_area": null,
            "grid_auto_columns": null,
            "grid_auto_flow": null,
            "grid_auto_rows": null,
            "grid_column": null,
            "grid_gap": null,
            "grid_row": null,
            "grid_template_areas": null,
            "grid_template_columns": null,
            "grid_template_rows": null,
            "height": null,
            "justify_content": null,
            "justify_items": null,
            "left": null,
            "margin": null,
            "max_height": null,
            "max_width": null,
            "min_height": null,
            "min_width": null,
            "object_fit": null,
            "object_position": null,
            "order": null,
            "overflow": null,
            "padding": null,
            "right": null,
            "top": null,
            "visibility": null,
            "width": null
          }
        },
        "708c5f7c99be428eb22a4779f4f6cf0d": {
          "model_module": "@jupyter-widgets/controls",
          "model_name": "HTMLStyleModel",
          "model_module_version": "2.0.0",
          "state": {
            "_model_module": "@jupyter-widgets/controls",
            "_model_module_version": "2.0.0",
            "_model_name": "HTMLStyleModel",
            "_view_count": null,
            "_view_module": "@jupyter-widgets/base",
            "_view_module_version": "2.0.0",
            "_view_name": "StyleView",
            "background": null,
            "description_width": "",
            "font_size": null,
            "text_color": null
          }
        },
        "99a2abcfc8ab4bb7b5192be88d76f72e": {
          "model_module": "@jupyter-widgets/base",
          "model_name": "LayoutModel",
          "model_module_version": "2.0.0",
          "state": {
            "_model_module": "@jupyter-widgets/base",
            "_model_module_version": "2.0.0",
            "_model_name": "LayoutModel",
            "_view_count": null,
            "_view_module": "@jupyter-widgets/base",
            "_view_module_version": "2.0.0",
            "_view_name": "LayoutView",
            "align_content": null,
            "align_items": null,
            "align_self": null,
            "border_bottom": null,
            "border_left": null,
            "border_right": null,
            "border_top": null,
            "bottom": null,
            "display": null,
            "flex": null,
            "flex_flow": null,
            "grid_area": null,
            "grid_auto_columns": null,
            "grid_auto_flow": null,
            "grid_auto_rows": null,
            "grid_column": null,
            "grid_gap": null,
            "grid_row": null,
            "grid_template_areas": null,
            "grid_template_columns": null,
            "grid_template_rows": null,
            "height": null,
            "justify_content": null,
            "justify_items": null,
            "left": null,
            "margin": null,
            "max_height": null,
            "max_width": null,
            "min_height": null,
            "min_width": null,
            "object_fit": null,
            "object_position": null,
            "order": null,
            "overflow": null,
            "padding": null,
            "right": null,
            "top": null,
            "visibility": null,
            "width": null
          }
        },
        "408dd1e7df914f229c20892963ae83f4": {
          "model_module": "@jupyter-widgets/controls",
          "model_name": "ProgressStyleModel",
          "model_module_version": "2.0.0",
          "state": {
            "_model_module": "@jupyter-widgets/controls",
            "_model_module_version": "2.0.0",
            "_model_name": "ProgressStyleModel",
            "_view_count": null,
            "_view_module": "@jupyter-widgets/base",
            "_view_module_version": "2.0.0",
            "_view_name": "StyleView",
            "bar_color": null,
            "description_width": ""
          }
        },
        "1b545d9384414833aae243c1991ea1ca": {
          "model_module": "@jupyter-widgets/base",
          "model_name": "LayoutModel",
          "model_module_version": "2.0.0",
          "state": {
            "_model_module": "@jupyter-widgets/base",
            "_model_module_version": "2.0.0",
            "_model_name": "LayoutModel",
            "_view_count": null,
            "_view_module": "@jupyter-widgets/base",
            "_view_module_version": "2.0.0",
            "_view_name": "LayoutView",
            "align_content": null,
            "align_items": null,
            "align_self": null,
            "border_bottom": null,
            "border_left": null,
            "border_right": null,
            "border_top": null,
            "bottom": null,
            "display": null,
            "flex": null,
            "flex_flow": null,
            "grid_area": null,
            "grid_auto_columns": null,
            "grid_auto_flow": null,
            "grid_auto_rows": null,
            "grid_column": null,
            "grid_gap": null,
            "grid_row": null,
            "grid_template_areas": null,
            "grid_template_columns": null,
            "grid_template_rows": null,
            "height": null,
            "justify_content": null,
            "justify_items": null,
            "left": null,
            "margin": null,
            "max_height": null,
            "max_width": null,
            "min_height": null,
            "min_width": null,
            "object_fit": null,
            "object_position": null,
            "order": null,
            "overflow": null,
            "padding": null,
            "right": null,
            "top": null,
            "visibility": null,
            "width": null
          }
        },
        "054617ed8df94b62a75e11ca54fdea37": {
          "model_module": "@jupyter-widgets/controls",
          "model_name": "HTMLStyleModel",
          "model_module_version": "2.0.0",
          "state": {
            "_model_module": "@jupyter-widgets/controls",
            "_model_module_version": "2.0.0",
            "_model_name": "HTMLStyleModel",
            "_view_count": null,
            "_view_module": "@jupyter-widgets/base",
            "_view_module_version": "2.0.0",
            "_view_name": "StyleView",
            "background": null,
            "description_width": "",
            "font_size": null,
            "text_color": null
          }
        }
      }
    }
  },
  "nbformat": 4,
  "nbformat_minor": 0
}